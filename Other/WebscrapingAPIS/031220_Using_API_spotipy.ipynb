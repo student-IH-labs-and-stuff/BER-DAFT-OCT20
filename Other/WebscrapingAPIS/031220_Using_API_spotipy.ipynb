{
 "cells": [
  {
   "cell_type": "markdown",
   "metadata": {},
   "source": [
    "## Spotipy API\n",
    "\n",
    "Create an Spotify account and follow these steps to register an app: https://developer.spotify.com/documentation/general/guides/app-settings/\n",
    "\n",
    "After the app is created, you can see it on your dashboard\n",
    "https://developer.spotify.com/dashboard/applications\n",
    "\n",
    "Click on it and you'll find the client id and client secret."
   ]
  },
  {
   "cell_type": "code",
   "execution_count": null,
   "metadata": {},
   "outputs": [],
   "source": [
    "import spotipy\n",
    "from spotipy.oauth2 import SpotifyClientCredentials\n",
    "\n",
    "#some extra useful libraries\n",
    "import pandas as pd\n",
    "import json\n",
    "import pprint"
   ]
  },
  {
   "cell_type": "code",
   "execution_count": null,
   "metadata": {},
   "outputs": [],
   "source": [
    "#Initialize SpotiPy with user credentias\n",
    "sp = spotipy.Spotify(auth_manager=SpotifyClientCredentials(\n",
    "    client_id=\"<introduce your client id>\",\n",
    "    client_secret=\"<introduce your client secret>\"))"
   ]
  },
  {
   "cell_type": "code",
   "execution_count": null,
   "metadata": {},
   "outputs": [],
   "source": [
    "#Quick test - Searching songs with 'queries' with sp.search\n",
    "\n",
    "results = sp.search(q='Bohemian Rhapsody', limit=50)\n",
    "results\n",
    "\n",
    "#(reminder- raw output will be json \n",
    "#this feels like a good time to look at the documentation!)"
   ]
  },
  {
   "cell_type": "markdown",
   "metadata": {},
   "source": [
    "## documentation - and useful links \n",
    "\n",
    "developer app \n",
    "https://developer.spotify.com/documentation/general/guides/app-settings/\n",
    "\n",
    "spotipy documentation\n",
    "https://spotipy.readthedocs.io/en/2.16.1/\n",
    "    \n",
    "examples of usage of spotipy including functions \n",
    "https://github.com/plamere/spotipy/tree/master/examples \n",
    "    \n",
    "spotify development space with docs \n",
    "https://developer.spotify.com/\n",
    "- the documentation is fully searchable and has neat try it feature (with temporary token), explains the input parameters, clarifies what your query looks like underneath and lists all the key pairs and data in the output with definitions \n",
    "\n",
    "AND you can have the spotify web player open https://open.spotify.com/"
   ]
  },
  {
   "cell_type": "markdown",
   "metadata": {},
   "source": [
    "a) You can start with exploring the results of your query"
   ]
  },
  {
   "cell_type": "code",
   "execution_count": null,
   "metadata": {},
   "outputs": [],
   "source": [
    "#we know that JSON objects are written in key/value pairs.\n",
    "# so what are the keys of this data set? \n",
    "results.keys()"
   ]
  },
  {
   "cell_type": "code",
   "execution_count": null,
   "metadata": {},
   "outputs": [],
   "source": [
    "#what is inside the track key? ie what can I navigate with?\n",
    "results[\"tracks\"].keys()"
   ]
  },
  {
   "cell_type": "code",
   "execution_count": null,
   "metadata": {},
   "outputs": [],
   "source": [
    "#remember the href ? - thats your query- \n",
    "#lets look at what we have searched using the wrapper\n",
    "results[\"tracks\"][\"href\"]"
   ]
  },
  {
   "cell_type": "code",
   "execution_count": null,
   "metadata": {},
   "outputs": [],
   "source": [
    "#in tracks - we can get the json on the tracks (its still hard to read)\n",
    "results[\"tracks\"][\"items\"] "
   ]
  },
  {
   "cell_type": "code",
   "execution_count": null,
   "metadata": {},
   "outputs": [],
   "source": [
    "#we did run a limit of 50 in our query - but can easily go to next 50\n",
    "results[\"tracks\"][\"next\"]"
   ]
  },
  {
   "cell_type": "code",
   "execution_count": null,
   "metadata": {},
   "outputs": [],
   "source": [
    "#if we want to go back to the prev 50 - shortcut\n",
    "results[\"tracks\"][\"previous\"] "
   ]
  },
  {
   "cell_type": "code",
   "execution_count": null,
   "metadata": {},
   "outputs": [],
   "source": [
    "#total number of matches from the original query string\n",
    "results[\"tracks\"][\"total\"]"
   ]
  },
  {
   "cell_type": "markdown",
   "metadata": {},
   "source": [
    "b) next, we can drill in to one row of your results - ie one track"
   ]
  },
  {
   "cell_type": "code",
   "execution_count": null,
   "metadata": {},
   "outputs": [],
   "source": [
    "#in my example I am using the index value 5, ie the 6th member returned \n",
    "results[\"tracks\"][\"items\"][5].keys() #items (actual tracks)"
   ]
  },
  {
   "cell_type": "code",
   "execution_count": null,
   "metadata": {},
   "outputs": [],
   "source": [
    "#inside the json string we have information about the album for the selected track\n",
    "results[\"tracks\"][\"items\"][5][\"album\"]"
   ]
  },
  {
   "cell_type": "code",
   "execution_count": null,
   "metadata": {},
   "outputs": [],
   "source": [
    "#and the artist\n",
    "results[\"tracks\"][\"items\"][5][\"artists\"]"
   ]
  },
  {
   "cell_type": "code",
   "execution_count": null,
   "metadata": {},
   "outputs": [],
   "source": [
    "#the name of the song \n",
    "results[\"tracks\"][\"items\"][5][\"name\"]"
   ]
  },
  {
   "cell_type": "code",
   "execution_count": null,
   "metadata": {},
   "outputs": [],
   "source": [
    "# how popular is it on spotify?\n",
    "results[\"tracks\"][\"items\"][5][\"popularity\"]"
   ]
  },
  {
   "cell_type": "markdown",
   "metadata": {},
   "source": [
    "What is a popularity score? \n",
    "\n",
    "The score is received from the Spotify API. The value will be between 0 and 100, with 100 being the most popular.\n",
    "\n",
    "The popularity is calculated by algorithm and is based, in the most part, on the total number of plays the track has had and how recent those plays are.\n",
    "\n",
    "Generally speaking, songs that are being played a lot now will have a higher popularity than songs that were played a lot in the past. Duplicate tracks (e.g. the same track from a single and an album) are rated independently. Artist and album popularity is derived mathematically from track popularity. Note that the popularity value may lag actual popularity by a few days: the value is not updated in real time."
   ]
  },
  {
   "cell_type": "code",
   "execution_count": null,
   "metadata": {},
   "outputs": [],
   "source": [
    "# to get the uri of a song\n",
    "results[\"tracks\"][\"items\"][5][\"uri\"]"
   ]
  },
  {
   "cell_type": "markdown",
   "metadata": {},
   "source": [
    "Spotify songs are identified by either a \"url\", a \"uri\" or an \"id\". \n",
    "\n",
    "- The `id` is an alphanumeric code, and it's the nuclear part of the identifier.\n",
    "\n",
    "- The `uri` contains \"spotify:track\" before the id. An uri is useful because it can be searched manually in the Spotify app.\n",
    "\n",
    "- The `url` is a link to the song on the Spotify web player.\n",
    "\n",
    "We'll use the `uri` in this code-along, but feel free to use whatever you think fits best your needs."
   ]
  },
  {
   "cell_type": "code",
   "execution_count": null,
   "metadata": {},
   "outputs": [],
   "source": [
    "#what can we pull out of the api for this track ? \n",
    "results[\"tracks\"][\"items\"][5].keys() "
   ]
  },
  {
   "cell_type": "markdown",
   "metadata": {},
   "source": [
    "Artist analysis - this is more just for fun than for the project "
   ]
  },
  {
   "cell_type": "code",
   "execution_count": null,
   "metadata": {},
   "outputs": [],
   "source": [
    "#get all albums for your favourite artist\n",
    "#- using spotify web browser to find url of chosen artist \n",
    "\n",
    "artist = sp.artist(\"https://open.spotify.com/artist/1dfeR4HaWDbWqFHLkxsg1d\")\n",
    "\n",
    "albums = []\n",
    "results = sp.artist_albums(artist['id'], album_type='album')\n",
    "albums.extend(results['items'])\n",
    "while results['next']:\n",
    "    results = sp.next(results)\n",
    "    albums.extend(results['items'])\n",
    "\n",
    "albums.sort(key=lambda album:album['name'].lower())\n",
    "for album in albums:\n",
    "    name = album['name']\n",
    "    print((' ' + name))\n",
    "\n",
    "print(len(albums))"
   ]
  },
  {
   "cell_type": "code",
   "execution_count": null,
   "metadata": {},
   "outputs": [],
   "source": [
    "#how to query more than one artist at once\n",
    "artists = [\"Katy Perry\", \"Duffy\", \"Adele\"]"
   ]
  },
  {
   "cell_type": "code",
   "execution_count": null,
   "metadata": {},
   "outputs": [],
   "source": [
    "my_3_artists = [sp.search(q=artist, limit=50) for artist in artists]"
   ]
  },
  {
   "cell_type": "code",
   "execution_count": null,
   "metadata": {},
   "outputs": [],
   "source": [
    "my_3_artists[0][\"tracks\"][\"items\"][7][\"uri\"]"
   ]
  },
  {
   "cell_type": "code",
   "execution_count": null,
   "metadata": {},
   "outputs": [],
   "source": [
    "#Function to get the artists involved in a song:\n",
    "\n",
    "def get_artists_from_track(track):\n",
    "    return [artist[\"name\"] for artist in track[\"artists\"]]"
   ]
  },
  {
   "cell_type": "code",
   "execution_count": null,
   "metadata": {},
   "outputs": [],
   "source": [
    "#here we are returning to using the results set from our earlier query \n",
    "#but you could also build upon any other results from the API\n",
    "my_track = results[\"tracks\"][\"items\"][5]"
   ]
  },
  {
   "cell_type": "code",
   "execution_count": null,
   "metadata": {},
   "outputs": [],
   "source": [
    "get_artists_from_track(my_track)"
   ]
  },
  {
   "cell_type": "code",
   "execution_count": null,
   "metadata": {},
   "outputs": [],
   "source": [
    "#Function to get the \"id's\" of the artists from a track:\n",
    "\n",
    "def get_artists_ids_from_track(track):\n",
    "    return[artist[\"id\"] for artist in track[\"artists\"]]"
   ]
  },
  {
   "cell_type": "code",
   "execution_count": null,
   "metadata": {},
   "outputs": [],
   "source": [
    "#part 2 of this function \n",
    "\n",
    "get_artists_ids_from_track(my_track)"
   ]
  },
  {
   "cell_type": "markdown",
   "metadata": {},
   "source": [
    "### Playlists\n",
    "\n",
    "We will need to collect a \"database\" of songs. Playlists are a good way to access relatively large amounts of songs.\n",
    "\n",
    "do you already have a playlist of your own you can use ? \n",
    "\n",
    "do one of your classmates have a great playlist for this?\n",
    "\n",
    "or can you find a playlist on spotify which suits your needs ? \n",
    "\n",
    "hint: this is a shortcut to doing this part of your MVP"
   ]
  },
  {
   "cell_type": "code",
   "execution_count": null,
   "metadata": {},
   "outputs": [],
   "source": [
    "#I am using an example playlist from spotify - 2020 hits&best music\n",
    "\n",
    "#read a playlist \n",
    "\n",
    "playlist_id = 'spotify:user:spotifycharts:playlist:31ymdYCITDnZRtkKzP3Itp'\n",
    "results = sp.playlist(playlist_id)\n",
    "print(json.dumps(results, indent=4))"
   ]
  },
  {
   "cell_type": "code",
   "execution_count": null,
   "metadata": {},
   "outputs": [],
   "source": [
    "\n",
    "#capture features of your own playlists into a df - enter your id and playlist id\n",
    "\n",
    "playlist = sp.user_playlist(\"yourid\", \"playlistid\") \n",
    "songs = playlist[\"tracks\"][\"items\"] \n",
    "ids = [] \n",
    "for i in range(len(songs)): \n",
    "    ids.append(songs[i][\"track\"][\"id\"]) \n",
    "features = sp.audio_features(ids) \n",
    "df = pd.DataFrame(features)\n",
    "df.head()\n"
   ]
  },
  {
   "cell_type": "code",
   "execution_count": null,
   "metadata": {},
   "outputs": [],
   "source": [
    "#or define from a public playlist\n",
    "\n",
    "playlist = sp.user_playlist_tracks(\"spotify\", \"31ymdYCITDnZRtkKzP3Itp\")"
   ]
  },
  {
   "cell_type": "code",
   "execution_count": null,
   "metadata": {},
   "outputs": [],
   "source": [
    "#check its working - first track \n",
    "playlist[\"items\"][0][\"track\"][\"uri\"]"
   ]
  },
  {
   "cell_type": "code",
   "execution_count": null,
   "metadata": {},
   "outputs": [],
   "source": [
    "for song in playlist[\"items\"]:\n",
    "    print(song.keys())"
   ]
  },
  {
   "cell_type": "code",
   "execution_count": null,
   "metadata": {},
   "outputs": [],
   "source": [
    "#how many songs on that playlist?\n",
    "playlist[\"total\"]"
   ]
  },
  {
   "cell_type": "code",
   "execution_count": null,
   "metadata": {},
   "outputs": [],
   "source": [
    "#function to get tracks from playlist \n",
    "\n",
    "def get_playlist_tracks(playlist_id):\n",
    "    results = sp.user_playlist_tracks(\"spotify\",playlist_id)\n",
    "    tracks = results['items']\n",
    "    while results['next']:\n",
    "        results = sp.next(results)\n",
    "        tracks.extend(results['items'])\n",
    "    return tracks"
   ]
  },
  {
   "cell_type": "code",
   "execution_count": null,
   "metadata": {},
   "outputs": [],
   "source": [
    "tracks = get_playlist_tracks(\"31ymdYCITDnZRtkKzP3Itp\")"
   ]
  },
  {
   "cell_type": "markdown",
   "metadata": {},
   "source": [
    "### Audio features\n",
    "\n",
    "You can check here an explanation of the audio features: https://developer.spotify.com/documentation/web-api/reference/tracks/get-audio-features/"
   ]
  },
  {
   "cell_type": "code",
   "execution_count": null,
   "metadata": {},
   "outputs": [],
   "source": [
    "#get the results of a playlist\n",
    "playlist = sp.user_playlist_tracks(\"spotify\", \"36UuuONPIdnKZykWOt2Poz\")"
   ]
  },
  {
   "cell_type": "code",
   "execution_count": null,
   "metadata": {},
   "outputs": [],
   "source": [
    "# get the uri of a single song:\n",
    "song_uri = playlist[\"items\"][0][\"track\"][\"uri\"]"
   ]
  },
  {
   "cell_type": "code",
   "execution_count": null,
   "metadata": {},
   "outputs": [],
   "source": [
    "#by the way, what is that song ?\n",
    "playlist[\"items\"][0][\"track\"][\"name\"]"
   ]
  },
  {
   "cell_type": "code",
   "execution_count": null,
   "metadata": {},
   "outputs": [],
   "source": [
    "# get the audio features for that song\n",
    "sp.audio_features(song_uri)"
   ]
  },
  {
   "cell_type": "code",
   "execution_count": null,
   "metadata": {},
   "outputs": [],
   "source": [
    "#function to extract all Uris from a playlist \n",
    "#- we already had the function to take the songs from the playlist \n",
    "\n",
    "def get_song_uris(playlist_id):\n",
    "    tracks = get_playlist_tracks(playlist_id)\n",
    "    uris = [track[\"track\"][\"uri\"] for track in tracks]\n",
    "    return uris"
   ]
  },
  {
   "cell_type": "code",
   "execution_count": null,
   "metadata": {},
   "outputs": [],
   "source": [
    "#part 2 of function\n",
    "\n",
    "IH_uris = get_song_uris(\"36UuuONPIdnKZykWOt2Poz\")"
   ]
  },
  {
   "cell_type": "markdown",
   "metadata": {},
   "source": [
    "Above, we stored all the uri's of a playlist into a list called IH_uris. We're going to get all the audio features from that playlist's songs now."
   ]
  },
  {
   "cell_type": "code",
   "execution_count": null,
   "metadata": {},
   "outputs": [],
   "source": [
    "aud_feat = []\n",
    "\n",
    "for song in IH_uris:\n",
    "    aud_feat.append(sp.audio_features(song))"
   ]
  },
  {
   "cell_type": "code",
   "execution_count": null,
   "metadata": {},
   "outputs": [],
   "source": [
    "#take a look at the features of all the songs in the playlist \n",
    "\n",
    "aud_feat"
   ]
  },
  {
   "cell_type": "markdown",
   "metadata": {},
   "source": [
    "### Searching the audio features for a song\n",
    "\n",
    "When the user inputs a song, you are gonna want to retrieve the audio features of that song. How to do it?\n",
    "\n",
    "1. Search the user input using the `sp.search()` function. This function works similarly to the \"search\" bar on the spotify app - using Spotify's intelligent search engine. That means that it can handle names of any songs or artists - even certain typos.\n",
    "\n",
    "2. Find the uri of the song that the API gives you back.\n",
    "\n",
    "3. Use `sp.audio_features` to retrieve the audio features of the song."
   ]
  },
  {
   "cell_type": "code",
   "execution_count": null,
   "metadata": {},
   "outputs": [],
   "source": [
    "#1 \n",
    "WAP = sp.search(q='WAP', limit=1)"
   ]
  },
  {
   "cell_type": "code",
   "execution_count": null,
   "metadata": {},
   "outputs": [],
   "source": [
    "# 2\n",
    "usersearch[\"tracks\"][\"items\"][0][\"uri\"]"
   ]
  },
  {
   "cell_type": "code",
   "execution_count": null,
   "metadata": {},
   "outputs": [],
   "source": [
    "# 3\n",
    "sp.audio_features(usersearch[\"tracks\"][\"items\"][0][\"uri\"])"
   ]
  },
  {
   "cell_type": "markdown",
   "metadata": {},
   "source": [
    "### Lab: Create your collection of songs & audio features\n",
    "\n",
    "To move forward witht the project, you need to create a collection of songs with their audio features - as large as possible! \n",
    "\n",
    "These are the songs that we will cluster. And, later, when the user inputs a song, we will find the cluster to which the song belongs and recommend a song from the same cluster.\n",
    "\n",
    "The more songs you have, the more accurate recommendations you'll be able to give. Although, you might want to make sure the collected songs are \"curated\" in a certain way. Try to find playlists of songs that are diverse, but also that meet certain standards.\n",
    "\n",
    "The process of sending hundreds or thousands of requests can take some time - it's normal if you have to wait a few minutes (or, if you're ambitious, even hours) to get all the data you need.\n",
    "\n",
    "An idea for collecting as many songs as possible is to start with all the songs of a big, diverse playlist and then go to every artist present in the playlist and grab every song of every album of that artist. The amount of songs you'll be collecting per playlist will grow exponentially!"
   ]
  },
  {
   "cell_type": "code",
   "execution_count": null,
   "metadata": {},
   "outputs": [],
   "source": []
  }
 ],
 "metadata": {
  "kernelspec": {
   "display_name": "Python 3",
   "language": "python",
   "name": "python3"
  },
  "language_info": {
   "codemirror_mode": {
    "name": "ipython",
    "version": 3
   },
   "file_extension": ".py",
   "mimetype": "text/x-python",
   "name": "python",
   "nbconvert_exporter": "python",
   "pygments_lexer": "ipython3",
   "version": "3.8.3"
  }
 },
 "nbformat": 4,
 "nbformat_minor": 4
}
