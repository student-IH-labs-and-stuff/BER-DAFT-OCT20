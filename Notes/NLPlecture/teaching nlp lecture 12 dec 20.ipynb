{
 "cells": [
  {
   "cell_type": "code",
   "execution_count": 2,
   "metadata": {},
   "outputs": [],
   "source": [
    "import pandas as pd\n",
    "import matplotlib as plt \n",
    "%matplotlib inline \n",
    "from collections import Counter"
   ]
  },
  {
   "cell_type": "code",
   "execution_count": null,
   "metadata": {},
   "outputs": [],
   "source": [
    "#!pip install docx2txt"
   ]
  },
  {
   "cell_type": "code",
   "execution_count": 3,
   "metadata": {},
   "outputs": [
    {
     "name": "stdout",
     "output_type": "stream",
     "text": [
      "showing info https://raw.githubusercontent.com/nltk/nltk_data/gh-pages/index.xml\n"
     ]
    },
    {
     "data": {
      "text/plain": [
       "True"
      ]
     },
     "execution_count": 3,
     "metadata": {},
     "output_type": "execute_result"
    }
   ],
   "source": [
    "#!pip install nltk\n",
    "\n",
    "#install nltk popular packages \n",
    "\n",
    "import nltk \n",
    "nltk.download()"
   ]
  },
  {
   "cell_type": "markdown",
   "metadata": {},
   "source": [
    "part 1 from a body of text - news article in a word doc"
   ]
  },
  {
   "cell_type": "code",
   "execution_count": 4,
   "metadata": {},
   "outputs": [],
   "source": [
    "\n",
    "\n",
    "# search the text for a word \n",
    "from nltk.tokenize import sent_tokenize, word_tokenize\n",
    "from nltk.text import Text\n",
    "\n",
    "import docx2txt\n",
    "\n",
    "mytextfile = docx2txt.process(\"rugby_story.docx\")"
   ]
  },
  {
   "cell_type": "code",
   "execution_count": 6,
   "metadata": {},
   "outputs": [
    {
     "name": "stdout",
     "output_type": "stream",
     "text": [
      "['Rugby', 'World', 'Cup', 'winner', 'Steve', 'Thompson', 'and', 'seven', 'other', 'former', 'players', 'claim', 'the', 'sport', 'has', 'left', 'them', 'with', 'permanent', 'brain', 'damage', '-', 'and', 'are', 'in', 'the', 'process', 'of', 'starting', 'a', 'claim', 'against', 'the', 'game', \"'s\", 'authorities', 'for', 'negligence.Every', 'member', 'of', 'the', 'group', 'has', 'recently', 'been', 'diagnosed', 'with', 'the', 'early', 'signs', 'of', 'dementia', ',', 'and', 'they', 'say', 'repeated', 'blows', 'to', 'the', 'head', 'are', 'to', 'blame.Thompson', ',', '42', ',', 'played', 'in', 'every', 'England', 'match', 'when', 'they', 'won', 'the', '2003', 'World', 'Cup', ',', 'but', 'says', ':', '``', 'I', 'ca', \"n't\", 'remember', 'any', 'of', 'those', 'games', '.', 'It', \"'s\", 'frightening', '.', '``', 'It', 'is', 'understood', 'a', 'letter', 'of', 'claim', ',', 'amounting', 'to', 'millions', 'of', 'pounds', 'in', 'damages', ',', 'will', 'be', 'sent', 'next', 'week', 'to', 'the', 'governing', 'bodies', 'for', 'English', 'and', 'Welsh', 'rugby', 'and', 'World', 'Rugby', '-', 'and', 'a', 'group', 'class', 'action', 'could', 'follow.It', 'is', 'the', 'first', 'legal', 'move', 'of', 'its', 'kind', 'in', 'world', 'rugby', 'and', ',', 'if', 'successful', ',', 'could', 'force', 'change', 'to', 'the', 'way', 'the', 'game', 'is', 'played.Lawyers', 'for', 'the', 'group', 'suggest', 'another', '80', 'former', 'players', 'between', 'the', 'ages', 'of', '25', 'and', '55', 'are', 'showing', 'symptoms', 'and', 'have', 'serious', 'concerns.Global', 'governing', 'body', 'World', 'Rugby', 'told', 'BBC', 'Sport', ':', '``', 'While', 'not', 'commenting', 'on', 'speculation', ',', 'World', 'Rugby', 'takes', 'player', 'safety', 'very', 'seriously', 'and', 'implements', 'injury-prevention', 'strategies', 'based', 'on', 'the', 'latest', 'available', 'knowledge', ',', 'research', 'and', 'evidence', '.', '``', 'The', 'Rugby', 'Football', 'Union', '(', 'RFU', ')', ',', 'which', 'runs', 'the', 'sport', 'in', 'England', ',', 'said', ':', '``', 'The', 'RFU', 'has', 'had', 'no', 'legal', 'approach', 'on', 'this', 'matter', '.', 'The', 'Union', 'takes', 'player', 'safety', 'very', 'seriously', 'and', 'implements', 'injury', 'prevention', 'and', 'injury', 'treatment', 'strategies', 'based', 'on', 'the', 'latest', 'research', 'and', 'evidence', '.', '``', 'The', 'Union', 'has', 'played', 'an', 'instrumental', 'role', 'in', 'establishing', 'injury', 'surveillance', ',', 'concussion', 'education', 'and', 'assessment', ',', 'collaborating', 'on', 'research', 'as', 'well', 'as', 'supporting', 'law', 'changes', 'and', 'law', 'application', 'to', 'ensure', 'proactive', 'management', 'of', 'player', 'welfare', '.', '``', 'The', 'Welsh', 'Rugby', 'Union', '(', 'WRU', ')', 'said', 'it', '``', 'supported', 'and', 'endorsed', 'the', 'World', 'Rugby', 'comment', 'on', 'the', 'subject', \"''\", '.', 'Hooker', 'Thompson', 'played', '195', 'times', 'for', 'Northampton', 'Saints', 'before', 'moving', 'to', 'France', 'to', 'play', 'for', 'Brive', '.', 'He', 'won', '73', 'England', 'caps', ',', 'and', 'three', 'for', 'the', 'British', 'and', 'Irish', 'Lions', ',', 'in', 'a', 'nine-year', 'international', 'career.He', 'first', 'retired', 'in', '2007', 'because', 'of', 'a', 'serious', 'neck', 'injury', 'but', 'was', 'given', 'the', 'all-clear', 'to', 'return', ',', 'before', 'being', 'forced', 'to', 'retire', 'again', 'in', 'December', '2011', 'with', 'the', 'same', 'problem.Thompson', ',', 'former', 'England', 'team-mate', 'Michael', 'Lipman', ',', 'ex-Wales', 'international', 'Alix', 'Popham', 'and', 'five', 'other', 'retired', 'players', 'are', 'the', 'first', 'group', 'to', 'agree', 'to', '-', 'and', 'have', '-', 'testing.Thompson', 'says', 'his', 'condition', 'is', 'so', 'progressed', 'he', 'can', 'not', 'remember', 'anything', 'that', 'happened', 'in', 'those', '2003', 'World', 'Cup', 'games', '.', '``', 'It', \"'s\", 'like', 'I', \"'m\", 'watching', 'the', 'game', 'with', 'England', 'playing', 'and', 'I', 'can', 'see', 'me', 'there', '-', 'but', 'I', 'was', \"n't\", 'there', ',', 'because', 'it', \"'s\", 'not', 'me', ',', \"''\", 'he', 'said', '.', '``', 'It', \"'s\", 'just', 'bizarre', '.', 'People', 'talk', 'about', 'stories', ',', 'and', 'since', 'the', 'World', 'Cup', 'I', \"'ve\", 'talked', 'to', 'the', 'lads', 'that', 'were', 'there', ',', 'and', 'you', 'pick', 'up', 'stories', ',', 'and', 'then', 'you', 'can', 'talk', 'about', 'it', ',', 'but', 'it', \"'s\", 'not', 'me', 'being', 'there', ',', 'it', \"'s\", 'not', 'me', 'doing', 'it', ',', 'because', 'it', \"'s\", 'just', 'gone', '.', '``', 'Thompson', 'is', 'convinced', 'constant', 'head', 'knocks', 'during', 'matches', 'and', 'training', 'are', 'to', 'blame', '.', '``', 'When', 'we', 'first', 'started', 'going', 'full-time', 'in', 'the', 'mid-1990s', ',', 'training', 'sessions', 'could', 'quickly', 'turn', 'into', 'full', 'contact', ',', \"''\", 'he', 'said', '.', '``', 'There', 'was', 'one', 'session', 'when', 'the', 'scrummaging', 'had', \"n't\", 'gone', 'quite', 'right', 'and', 'they', 'made', 'us', 'do', 'a', 'hundred', 'live', 'scrums', '.', 'When', 'it', 'comes', 'to', 'it', ',', 'we', 'were', 'like', 'a', 'bit', 'of', 'meat', ',', 'really', '.', '``', 'The', 'whole', 'point', 'of', 'us', 'doing', 'this', 'is', 'to', 'look', 'after', 'the', 'young', 'players', 'coming', 'through', '.', 'I', 'do', \"n't\", 'want', 'rugby', 'to', 'stop', '.', 'It', \"'s\", 'been', 'able', 'to', 'give', 'us', 'so', 'much', ',', 'but', 'we', 'just', 'want', 'to', 'make', 'it', 'safer', '.', 'It', 'can', 'finish', 'so', 'quickly', ',', 'and', 'suddenly', 'you', \"'ve\", 'got', 'your', 'whole', 'life', 'in', 'front', 'of', 'you', '.', '``', 'Thompson', ',', 'who', 'has', 'four', 'children', ',', 'is', 'frank', 'about', 'his', 'fears', 'for', 'the', 'future', 'and', 'open', 'about', 'some', 'dark', 'thoughts', '.', '``', 'When', 'you', 'are', 'there', 'alone', ',', 'the', 'number', 'of', 'times', 'you', 'just', 'think', 'to', 'yourself', 'it', \"'s\", 'probably', 'easier', 'if', 'you', 'go', ',', 'if', 'I', \"'m\", 'not', 'here', ',', \"''\", 'he', 'said', '.', '``', 'You', 'start', 'to', 'think', ',', 'it', \"'s\", 'not', 'right', 'to', 'put', 'them', 'through', 'that', '.', 'That', \"'s\", 'the', 'difficult', 'side', 'to', 'it', '.', \"''\"]\n"
     ]
    }
   ],
   "source": [
    "tokens= word_tokenize(mytextfile)\n",
    "print(tokens)"
   ]
  },
  {
   "cell_type": "code",
   "execution_count": 7,
   "metadata": {},
   "outputs": [],
   "source": [
    "textlist= Text(tokens)"
   ]
  },
  {
   "cell_type": "code",
   "execution_count": 8,
   "metadata": {},
   "outputs": [
    {
     "name": "stdout",
     "output_type": "stream",
     "text": [
      "Displaying 4 of 4 matches:\n",
      "safety very seriously and implements injury prevention and injury treatment stra\n",
      "and implements injury prevention and injury treatment strategies based on the la\n",
      "an instrumental role in establishing injury surveillance , concussion education \n",
      "ed in 2007 because of a serious neck injury but was given the all-clear to retur\n"
     ]
    }
   ],
   "source": [
    "textlist.concordance('injury')"
   ]
  },
  {
   "cell_type": "code",
   "execution_count": 9,
   "metadata": {},
   "outputs": [
    {
     "data": {
      "image/png": "[encoded data removed]",
      "text/plain": [
       "<Figure size 432x288 with 1 Axes>"
      ]
     },
     "metadata": {
      "needs_background": "light"
     },
     "output_type": "display_data"
    }
   ],
   "source": [
    "textlist.dispersion_plot([\"Rugby\",\"rugby\",\"player\",\"brain\",\"injury\",\"dementia\"])"
   ]
  },
  {
   "cell_type": "code",
   "execution_count": 10,
   "metadata": {},
   "outputs": [],
   "source": [
    "import string "
   ]
  },
  {
   "cell_type": "code",
   "execution_count": 13,
   "metadata": {},
   "outputs": [],
   "source": [
    "#some cleaning - create table of punctuation from module string \n",
    "\n",
    "table= str.maketrans('', '', string.punctuation)"
   ]
  },
  {
   "cell_type": "code",
   "execution_count": 15,
   "metadata": {},
   "outputs": [
    {
     "name": "stdout",
     "output_type": "stream",
     "text": [
      "['rugby', 'world', 'cup', 'winner', 'steve', 'thompson', 'and', 'seven', 'other', 'former', 'players', 'claim', 'the', 'sport', 'has', 'left', 'them', 'with', 'permanent', 'brain', 'damage', '', 'and', 'are', 'in', 'the', 'process', 'of', 'starting', 'a', 'claim', 'against', 'the', 'games', 'authorities', 'for', 'negligenceevery', 'member', 'of', 'the', 'group', 'has', 'recently', 'been', 'diagnosed', 'with', 'the', 'early', 'signs', 'of', 'dementia', 'and', 'they', 'say', 'repeated', 'blows', 'to', 'the', 'head', 'are', 'to', 'blamethompson', '42', 'played', 'in', 'every', 'england', 'match', 'when', 'they', 'won', 'the', '2003', 'world', 'cup', 'but', 'says', 'i', 'cant', 'remember', 'any', 'of', 'those', 'games', 'its', 'frighteningit', 'is', 'understood', 'a', 'letter', 'of', 'claim', 'amounting', 'to', 'millions', 'of', 'pounds', 'in', 'damages', 'will', 'be', 'sent', 'next', 'week', 'to', 'the', 'governing', 'bodies', 'for', 'english', 'and', 'welsh', 'rugby', 'and', 'world', 'rugby', '', 'and', 'a', 'group', 'class', 'action', 'could', 'followit', 'is', 'the', 'first', 'legal', 'move', 'of', 'its', 'kind', 'in', 'world', 'rugby', 'and', 'if', 'successful', 'could', 'force', 'change', 'to', 'the', 'way', 'the', 'game', 'is', 'playedlawyers', 'for', 'the', 'group', 'suggest', 'another', '80', 'former', 'players', 'between', 'the', 'ages', 'of', '25', 'and', '55', 'are', 'showing', 'symptoms', 'and', 'have', 'serious', 'concernsglobal', 'governing', 'body', 'world', 'rugby', 'told', 'bbc', 'sport', 'while', 'not', 'commenting', 'on', 'speculation', 'world', 'rugby', 'takes', 'player', 'safety', 'very', 'seriously', 'and', 'implements', 'injuryprevention', 'strategies', 'based', 'on', 'the', 'latest', 'available', 'knowledge', 'research', 'and', 'evidencethe', 'rugby', 'football', 'union', 'rfu', 'which', 'runs', 'the', 'sport', 'in', 'england', 'said', 'the', 'rfu', 'has', 'had', 'no', 'legal', 'approach', 'on', 'this', 'matter', 'the', 'union', 'takes', 'player', 'safety', 'very', 'seriously', 'and', 'implements', 'injury', 'prevention', 'and', 'injury', 'treatment', 'strategies', 'based', 'on', 'the', 'latest', 'research', 'and', 'evidencethe', 'union', 'has', 'played', 'an', 'instrumental', 'role', 'in', 'establishing', 'injury', 'surveillance', 'concussion', 'education', 'and', 'assessment', 'collaborating', 'on', 'research', 'as', 'well', 'as', 'supporting', 'law', 'changes', 'and', 'law', 'application', 'to', 'ensure', 'proactive', 'management', 'of', 'player', 'welfarethe', 'welsh', 'rugby', 'union', 'wru', 'said', 'it', 'supported', 'and', 'endorsed', 'the', 'world', 'rugby', 'comment', 'on', 'the', 'subject', 'hooker', 'thompson', 'played', '195', 'times', 'for', 'northampton', 'saints', 'before', 'moving', 'to', 'france', 'to', 'play', 'for', 'brive', 'he', 'won', '73', 'england', 'caps', 'and', 'three', 'for', 'the', 'british', 'and', 'irish', 'lions', 'in', 'a', 'nineyear', 'international', 'careerhe', 'first', 'retired', 'in', '2007', 'because', 'of', 'a', 'serious', 'neck', 'injury', 'but', 'was', 'given', 'the', 'allclear', 'to', 'return', 'before', 'being', 'forced', 'to', 'retire', 'again', 'in', 'december', '2011', 'with', 'the', 'same', 'problemthompson', 'former', 'england', 'teammate', 'michael', 'lipman', 'exwales', 'international', 'alix', 'popham', 'and', 'five', 'other', 'retired', 'players', 'are', 'the', 'first', 'group', 'to', 'agree', 'to', '', 'and', 'have', '', 'testingthompson', 'says', 'his', 'condition', 'is', 'so', 'progressed', 'he', 'cannot', 'remember', 'anything', 'that', 'happened', 'in', 'those', '2003', 'world', 'cup', 'gamesits', 'like', 'im', 'watching', 'the', 'game', 'with', 'england', 'playing', 'and', 'i', 'can', 'see', 'me', 'there', '', 'but', 'i', 'wasnt', 'there', 'because', 'its', 'not', 'me', 'he', 'saidits', 'just', 'bizarre', 'people', 'talk', 'about', 'stories', 'and', 'since', 'the', 'world', 'cup', 'ive', 'talked', 'to', 'the', 'lads', 'that', 'were', 'there', 'and', 'you', 'pick', 'up', 'stories', 'and', 'then', 'you', 'can', 'talk', 'about', 'it', 'but', 'its', 'not', 'me', 'being', 'there', 'its', 'not', 'me', 'doing', 'it', 'because', 'its', 'just', 'gonethompson', 'is', 'convinced', 'constant', 'head', 'knocks', 'during', 'matches', 'and', 'training', 'are', 'to', 'blamewhen', 'we', 'first', 'started', 'going', 'fulltime', 'in', 'the', 'mid1990s', 'training', 'sessions', 'could', 'quickly', 'turn', 'into', 'full', 'contact', 'he', 'saidthere', 'was', 'one', 'session', 'when', 'the', 'scrummaging', 'hadnt', 'gone', 'quite', 'right', 'and', 'they', 'made', 'us', 'do', 'a', 'hundred', 'live', 'scrums', 'when', 'it', 'comes', 'to', 'it', 'we', 'were', 'like', 'a', 'bit', 'of', 'meat', 'reallythe', 'whole', 'point', 'of', 'us', 'doing', 'this', 'is', 'to', 'look', 'after', 'the', 'young', 'players', 'coming', 'through', 'i', 'dont', 'want', 'rugby', 'to', 'stop', 'its', 'been', 'able', 'to', 'give', 'us', 'so', 'much', 'but', 'we', 'just', 'want', 'to', 'make', 'it', 'safer', 'it', 'can', 'finish', 'so', 'quickly', 'and', 'suddenly', 'youve', 'got', 'your', 'whole', 'life', 'in', 'front', 'of', 'youthompson', 'who', 'has', 'four', 'children', 'is', 'frank', 'about', 'his', 'fears', 'for', 'the', 'future', 'and', 'open', 'about', 'some', 'dark', 'thoughtswhen', 'you', 'are', 'there', 'alone', 'the', 'number', 'of', 'times', 'you', 'just', 'think', 'to', 'yourself', 'its', 'probably', 'easier', 'if', 'you', 'go', 'if', 'im', 'not', 'here', 'he', 'saidyou', 'start', 'to', 'think', 'its', 'not', 'right', 'to', 'put', 'them', 'through', 'that', 'thats', 'the', 'difficult', 'side', 'to', 'it']\n"
     ]
    }
   ],
   "source": [
    "#split out the words around whitespace, full stops etc \n",
    "\n",
    "words = mytextfile.split()\n",
    "\n",
    "#remove punctuation \n",
    "\n",
    "strippedwords = [w.translate(table) for w in words]\n",
    "#print(strippedwords)\n",
    "\n",
    "#make lower case \n",
    "lowerwords = [word.lower() for word in strippedwords]\n",
    "print(lowerwords)"
   ]
  },
  {
   "cell_type": "code",
   "execution_count": 16,
   "metadata": {},
   "outputs": [
    {
     "data": {
      "text/plain": [
       "[('the', 33),\n",
       " ('and', 29),\n",
       " ('to', 23),\n",
       " ('of', 14),\n",
       " ('in', 12),\n",
       " ('rugby', 10),\n",
       " ('world', 9),\n",
       " ('its', 9),\n",
       " ('it', 8),\n",
       " ('a', 7),\n",
       " ('for', 7),\n",
       " ('is', 7),\n",
       " ('are', 6),\n",
       " ('not', 6),\n",
       " ('on', 6),\n",
       " ('has', 5),\n",
       " ('', 5),\n",
       " ('england', 5),\n",
       " ('but', 5),\n",
       " ('he', 5),\n",
       " ('there', 5),\n",
       " ('you', 5),\n",
       " ('cup', 4),\n",
       " ('players', 4),\n",
       " ('with', 4),\n",
       " ('group', 4),\n",
       " ('i', 4),\n",
       " ('first', 4),\n",
       " ('union', 4),\n",
       " ('injury', 4),\n",
       " ('me', 4),\n",
       " ('just', 4),\n",
       " ('about', 4),\n",
       " ('former', 3),\n",
       " ('claim', 3),\n",
       " ('sport', 3),\n",
       " ('they', 3),\n",
       " ('played', 3),\n",
       " ('when', 3),\n",
       " ('could', 3),\n",
       " ('if', 3),\n",
       " ('player', 3),\n",
       " ('research', 3),\n",
       " ('because', 3),\n",
       " ('so', 3),\n",
       " ('that', 3),\n",
       " ('can', 3),\n",
       " ('we', 3),\n",
       " ('us', 3),\n",
       " ('thompson', 2)]"
      ]
     },
     "execution_count": 16,
     "metadata": {},
     "output_type": "execute_result"
    }
   ],
   "source": [
    "#i notice i still have some issues in the text around fullstops \n",
    "#i should fix this before removing punctuation and lower case \n",
    "\n",
    "\n",
    "#count freq of words in the text \n",
    "\n",
    "from nltk.probability import FreqDist\n",
    "\n",
    "fdistrugby = FreqDist(lowerwords)\n",
    "fdistrugby.most_common(50)\n"
   ]
  },
  {
   "cell_type": "code",
   "execution_count": null,
   "metadata": {},
   "outputs": [],
   "source": [
    "# obv we need to go back and do some more cleaning \n",
    "#including removing stop words before we can visualise this\n",
    "#this technique is available from the nltk corpus "
   ]
  },
  {
   "cell_type": "markdown",
   "metadata": {},
   "source": [
    "example 2 - reviews and sentiment analysis - starting point \n",
    "with textblob \n"
   ]
  },
  {
   "cell_type": "code",
   "execution_count": null,
   "metadata": {},
   "outputs": [],
   "source": [
    "#step 1 - add some sentiment ready data \n",
    "# clean and tokenise \n",
    "#calculate sentiment \n",
    "# with text blob "
   ]
  },
  {
   "cell_type": "code",
   "execution_count": 17,
   "metadata": {},
   "outputs": [
    {
     "data": {
      "text/html": [
       "<div>\n",
       "<style scoped>\n",
       "    .dataframe tbody tr th:only-of-type {\n",
       "        vertical-align: middle;\n",
       "    }\n",
       "\n",
       "    .dataframe tbody tr th {\n",
       "        vertical-align: top;\n",
       "    }\n",
       "\n",
       "    .dataframe thead th {\n",
       "        text-align: right;\n",
       "    }\n",
       "</style>\n",
       "<table border=\"1\" class=\"dataframe\">\n",
       "  <thead>\n",
       "    <tr style=\"text-align: right;\">\n",
       "      <th></th>\n",
       "      <th>Unnamed: 0</th>\n",
       "      <th>Clothing ID</th>\n",
       "      <th>Age</th>\n",
       "      <th>Title</th>\n",
       "      <th>Review Text</th>\n",
       "      <th>Rating</th>\n",
       "      <th>Recommended IND</th>\n",
       "      <th>Positive Feedback Count</th>\n",
       "      <th>Division Name</th>\n",
       "      <th>Department Name</th>\n",
       "      <th>Class Name</th>\n",
       "    </tr>\n",
       "  </thead>\n",
       "  <tbody>\n",
       "    <tr>\n",
       "      <th>0</th>\n",
       "      <td>0</td>\n",
       "      <td>767</td>\n",
       "      <td>33</td>\n",
       "      <td>NaN</td>\n",
       "      <td>Absolutely wonderful - silky and sexy and comf...</td>\n",
       "      <td>4</td>\n",
       "      <td>1</td>\n",
       "      <td>0</td>\n",
       "      <td>Initmates</td>\n",
       "      <td>Intimate</td>\n",
       "      <td>Intimates</td>\n",
       "    </tr>\n",
       "    <tr>\n",
       "      <th>1</th>\n",
       "      <td>1</td>\n",
       "      <td>1080</td>\n",
       "      <td>34</td>\n",
       "      <td>NaN</td>\n",
       "      <td>Love this dress!  it's sooo pretty.  i happene...</td>\n",
       "      <td>5</td>\n",
       "      <td>1</td>\n",
       "      <td>4</td>\n",
       "      <td>General</td>\n",
       "      <td>Dresses</td>\n",
       "      <td>Dresses</td>\n",
       "    </tr>\n",
       "    <tr>\n",
       "      <th>2</th>\n",
       "      <td>2</td>\n",
       "      <td>1077</td>\n",
       "      <td>60</td>\n",
       "      <td>Some major design flaws</td>\n",
       "      <td>I had such high hopes for this dress and reall...</td>\n",
       "      <td>3</td>\n",
       "      <td>0</td>\n",
       "      <td>0</td>\n",
       "      <td>General</td>\n",
       "      <td>Dresses</td>\n",
       "      <td>Dresses</td>\n",
       "    </tr>\n",
       "    <tr>\n",
       "      <th>3</th>\n",
       "      <td>3</td>\n",
       "      <td>1049</td>\n",
       "      <td>50</td>\n",
       "      <td>My favorite buy!</td>\n",
       "      <td>I love, love, love this jumpsuit. it's fun, fl...</td>\n",
       "      <td>5</td>\n",
       "      <td>1</td>\n",
       "      <td>0</td>\n",
       "      <td>General Petite</td>\n",
       "      <td>Bottoms</td>\n",
       "      <td>Pants</td>\n",
       "    </tr>\n",
       "    <tr>\n",
       "      <th>4</th>\n",
       "      <td>4</td>\n",
       "      <td>847</td>\n",
       "      <td>47</td>\n",
       "      <td>Flattering shirt</td>\n",
       "      <td>This shirt is very flattering to all due to th...</td>\n",
       "      <td>5</td>\n",
       "      <td>1</td>\n",
       "      <td>6</td>\n",
       "      <td>General</td>\n",
       "      <td>Tops</td>\n",
       "      <td>Blouses</td>\n",
       "    </tr>\n",
       "  </tbody>\n",
       "</table>\n",
       "</div>"
      ],
      "text/plain": [
       "   Unnamed: 0  Clothing ID  Age                    Title  \\\n",
       "0           0          767   33                      NaN   \n",
       "1           1         1080   34                      NaN   \n",
       "2           2         1077   60  Some major design flaws   \n",
       "3           3         1049   50         My favorite buy!   \n",
       "4           4          847   47         Flattering shirt   \n",
       "\n",
       "                                         Review Text  Rating  Recommended IND  \\\n",
       "0  Absolutely wonderful - silky and sexy and comf...       4                1   \n",
       "1  Love this dress!  it's sooo pretty.  i happene...       5                1   \n",
       "2  I had such high hopes for this dress and reall...       3                0   \n",
       "3  I love, love, love this jumpsuit. it's fun, fl...       5                1   \n",
       "4  This shirt is very flattering to all due to th...       5                1   \n",
       "\n",
       "   Positive Feedback Count   Division Name Department Name Class Name  \n",
       "0                        0       Initmates        Intimate  Intimates  \n",
       "1                        4         General         Dresses    Dresses  \n",
       "2                        0         General         Dresses    Dresses  \n",
       "3                        0  General Petite         Bottoms      Pants  \n",
       "4                        6         General            Tops    Blouses  "
      ]
     },
     "execution_count": 17,
     "metadata": {},
     "output_type": "execute_result"
    }
   ],
   "source": [
    "clothingdf=pd.read_csv('Womens Clothing E-Commerce Reviews.csv')\n",
    "clothingdf.head()"
   ]
  },
  {
   "cell_type": "code",
   "execution_count": 19,
   "metadata": {},
   "outputs": [],
   "source": [
    "clothingdf.dropna(subset=['Review Text','Division Name'], inplace=True)"
   ]
  },
  {
   "cell_type": "code",
   "execution_count": 25,
   "metadata": {},
   "outputs": [
    {
     "data": {
      "text/html": [
       "<div>\n",
       "<style scoped>\n",
       "    .dataframe tbody tr th:only-of-type {\n",
       "        vertical-align: middle;\n",
       "    }\n",
       "\n",
       "    .dataframe tbody tr th {\n",
       "        vertical-align: top;\n",
       "    }\n",
       "\n",
       "    .dataframe thead th {\n",
       "        text-align: right;\n",
       "    }\n",
       "</style>\n",
       "<table border=\"1\" class=\"dataframe\">\n",
       "  <thead>\n",
       "    <tr style=\"text-align: right;\">\n",
       "      <th></th>\n",
       "      <th>Unnamed: 0</th>\n",
       "      <th>Age</th>\n",
       "      <th>Review Text</th>\n",
       "      <th>Rating</th>\n",
       "      <th>Recommended IND</th>\n",
       "      <th>Positive Feedback Count</th>\n",
       "      <th>Division Name</th>\n",
       "      <th>Department Name</th>\n",
       "      <th>Class Name</th>\n",
       "    </tr>\n",
       "  </thead>\n",
       "  <tbody>\n",
       "    <tr>\n",
       "      <th>0</th>\n",
       "      <td>0</td>\n",
       "      <td>33</td>\n",
       "      <td>Absolutely wonderful - silky and sexy and comf...</td>\n",
       "      <td>4</td>\n",
       "      <td>1</td>\n",
       "      <td>0</td>\n",
       "      <td>Initmates</td>\n",
       "      <td>Intimate</td>\n",
       "      <td>Intimates</td>\n",
       "    </tr>\n",
       "    <tr>\n",
       "      <th>1</th>\n",
       "      <td>1</td>\n",
       "      <td>34</td>\n",
       "      <td>Love this dress!  it's sooo pretty.  i happene...</td>\n",
       "      <td>5</td>\n",
       "      <td>1</td>\n",
       "      <td>4</td>\n",
       "      <td>General</td>\n",
       "      <td>Dresses</td>\n",
       "      <td>Dresses</td>\n",
       "    </tr>\n",
       "    <tr>\n",
       "      <th>2</th>\n",
       "      <td>2</td>\n",
       "      <td>60</td>\n",
       "      <td>I had such high hopes for this dress and reall...</td>\n",
       "      <td>3</td>\n",
       "      <td>0</td>\n",
       "      <td>0</td>\n",
       "      <td>General</td>\n",
       "      <td>Dresses</td>\n",
       "      <td>Dresses</td>\n",
       "    </tr>\n",
       "    <tr>\n",
       "      <th>3</th>\n",
       "      <td>3</td>\n",
       "      <td>50</td>\n",
       "      <td>I love, love, love this jumpsuit. it's fun, fl...</td>\n",
       "      <td>5</td>\n",
       "      <td>1</td>\n",
       "      <td>0</td>\n",
       "      <td>General Petite</td>\n",
       "      <td>Bottoms</td>\n",
       "      <td>Pants</td>\n",
       "    </tr>\n",
       "    <tr>\n",
       "      <th>4</th>\n",
       "      <td>4</td>\n",
       "      <td>47</td>\n",
       "      <td>This shirt is very flattering to all due to th...</td>\n",
       "      <td>5</td>\n",
       "      <td>1</td>\n",
       "      <td>6</td>\n",
       "      <td>General</td>\n",
       "      <td>Tops</td>\n",
       "      <td>Blouses</td>\n",
       "    </tr>\n",
       "  </tbody>\n",
       "</table>\n",
       "</div>"
      ],
      "text/plain": [
       "   Unnamed: 0  Age                                        Review Text  Rating  \\\n",
       "0           0   33  Absolutely wonderful - silky and sexy and comf...       4   \n",
       "1           1   34  Love this dress!  it's sooo pretty.  i happene...       5   \n",
       "2           2   60  I had such high hopes for this dress and reall...       3   \n",
       "3           3   50  I love, love, love this jumpsuit. it's fun, fl...       5   \n",
       "4           4   47  This shirt is very flattering to all due to th...       5   \n",
       "\n",
       "   Recommended IND  Positive Feedback Count   Division Name Department Name  \\\n",
       "0                1                        0       Initmates        Intimate   \n",
       "1                1                        4         General         Dresses   \n",
       "2                0                        0         General         Dresses   \n",
       "3                1                        0  General Petite         Bottoms   \n",
       "4                1                        6         General            Tops   \n",
       "\n",
       "  Class Name  \n",
       "0  Intimates  \n",
       "1    Dresses  \n",
       "2    Dresses  \n",
       "3      Pants  \n",
       "4    Blouses  "
      ]
     },
     "execution_count": 25,
     "metadata": {},
     "output_type": "execute_result"
    }
   ],
   "source": [
    "#clothingdf.drop(labels=['Title','Clothing ID'], axis=1,inplace=True)\n",
    "clothingdf.head()"
   ]
  },
  {
   "cell_type": "code",
   "execution_count": 26,
   "metadata": {},
   "outputs": [],
   "source": [
    "#cleaning - deal with the lazy shorthand typing \n",
    "\n",
    "#method stolen - props to rohinramachandran\n",
    "\n",
    "contractions = contractions = { \n",
    "\"ain't\": \"am not\",\n",
    "\"aren't\": \"are not\",\n",
    "\"can't\": \"cannot\",\n",
    "\"can't've\": \"cannot have\",\n",
    "\"'cause\": \"because\",\n",
    "\"could've\": \"could have\",\n",
    "\"couldn't\": \"could not\",\n",
    "\"couldn't've\": \"could not have\",\n",
    "\"didn't\": \"did not\",\n",
    "\"doesn't\": \"does not\",\n",
    "\"don't\": \"do not\",\n",
    "\"hadn't\": \"had not\",\n",
    "\"hadn't've\": \"had not have\",\n",
    "\"hasn't\": \"has not\",\n",
    "\"haven't\": \"have not\",\n",
    "\"he'd\": \"he would\",\n",
    "\"he'd've\": \"he would have\",\n",
    "\"he'll\": \"he will\",\n",
    "\"he'll've\": \"he will have\",\n",
    "\"he's\": \"he is\",\n",
    "\"how'd\": \"how did\",\n",
    "\"how'd'y\": \"how do you\",\n",
    "\"how'll\": \"how will\",\n",
    "\"how's\": \"how is\",\n",
    "\"I'd\": \"I would\",\n",
    "\"I'd've\": \"I would have\",\n",
    "\"I'll\": \"I will\",\n",
    "\"I'll've\": \"I will have\",\n",
    "\"I'm\": \"I am\",\n",
    "\"I've\": \"I have\",\n",
    "\"isn't\": \"is not\",\n",
    "\"it'd\": \"it would\",\n",
    "\"it'd've\": \"it would have\",\n",
    "\"it'll\": \"it will\",\n",
    "\"it'll've\": \"it will have\",\n",
    "\"it's\": \"it is\",\n",
    "\"let's\": \"let us\",\n",
    "\"ma'am\": \"madam\",\n",
    "\"mayn't\": \"may not\",\n",
    "\"might've\": \"might have\",\n",
    "\"mightn't\": \"might not\",\n",
    "\"mightn't've\": \"might not have\",\n",
    "\"must've\": \"must have\",\n",
    "\"mustn't\": \"must not\",\n",
    "\"mustn't've\": \"must not have\",\n",
    "\"needn't\": \"need not\",\n",
    "\"needn't've\": \"need not have\",\n",
    "\"o'clock\": \"of the clock\",\n",
    "\"oughtn't\": \"ought not\",\n",
    "\"oughtn't've\": \"ought not have\",\n",
    "\"shan't\": \"shall not\",\n",
    "\"sha'n't\": \"shall not\",\n",
    "\"shan't've\": \"shall not have\",\n",
    "\"she'd\": \"she would\",\n",
    "\"she'd've\": \"she would have\",\n",
    "\"she'll\": \"she will\",\n",
    "\"she'll've\": \"she will have\",\n",
    "\"she's\": \"she is\",\n",
    "\"should've\": \"should have\",\n",
    "\"shouldn't\": \"should not\",\n",
    "\"shouldn't've\": \"should not have\",\n",
    "\"so've\": \"so have\",\n",
    "\"so's\": \"so as / so is\",\n",
    "\"that'd\": \"that would\",\n",
    "\"that'd've\": \"that would have\",\n",
    "\"that's\": \"that is\",\n",
    "\"there'd\": \"there would\",\n",
    "\"there'd've\": \"there would have\",\n",
    "\"there's\": \"there is\",\n",
    "\"they'd\": \"they would\",\n",
    "\"they'd've\": \"they would have\",\n",
    "\"they'll\": \"they will\",\n",
    "\"they'll've\": \"they will have\",\n",
    "\"they're\": \"they are\",\n",
    "\"they've\": \"they have\",\n",
    "\"to've\": \"to have\",\n",
    "\"wasn't\": \"was not\",\n",
    "\"we'd\": \"we would\",\n",
    "\"we'd've\": \"we would have\",\n",
    "\"we'll\": \"we will\",\n",
    "\"we'll've\": \"we will have\",\n",
    "\"we're\": \"we are\",\n",
    "\"we've\": \"we have\",\n",
    "\"weren't\": \"were not\",\n",
    "\"what'll\": \"what will\",\n",
    "\"what'll've\": \"what will have\",\n",
    "\"what're\": \"what are\",\n",
    "\"what's\": \"what is\",\n",
    "\"what've\": \"what have\",\n",
    "\"when's\": \"when is\",\n",
    "\"when've\": \"when have\",\n",
    "\"where'd\": \"where did\",\n",
    "\"where's\": \"where is\",\n",
    "\"where've\": \"where have\",\n",
    "\"who'll\": \"who will\",\n",
    "\"who'll've\": \"who will have\",\n",
    "\"who's\": \"who is\",\n",
    "\"who've\": \"who have\",\n",
    "\"why's\": \"why is\",\n",
    "\"why've\": \"why have\",\n",
    "\"will've\": \"will have\",\n",
    "\"won't\": \"will not\",\n",
    "\"won't've\": \"will not have\",\n",
    "\"would've\": \"would have\",\n",
    "\"wouldn't\": \"would not\",\n",
    "\"wouldn't've\": \"would not have\",\n",
    "\"y'all\": \"you all\",\n",
    "\"y'all'd\": \"you all would\",\n",
    "\"y'all'd've\": \"you all would have\",\n",
    "\"y'all're\": \"you all are\",\n",
    "\"y'all've\": \"you all have\",\n",
    "\"you'd\": \"you would\",\n",
    "\"you'd've\": \"you would have\",\n",
    "\"you'll\": \"you will\",\n",
    "\"you'll've\": \"you will have\",\n",
    "\"you're\": \"you are\",\n",
    "\"you've\": \"you have\"\n",
    "}"
   ]
  },
  {
   "cell_type": "code",
   "execution_count": 27,
   "metadata": {},
   "outputs": [],
   "source": [
    "def cont_to_exp(x):\n",
    "    if type(x) is str:\n",
    "        x = x.replace('\\\\','')\n",
    "        for key in contractions:\n",
    "            value = contractions[key]\n",
    "            x = x.replace(key,value)\n",
    "        return x\n",
    "    else:\n",
    "        return x"
   ]
  },
  {
   "cell_type": "code",
   "execution_count": 28,
   "metadata": {},
   "outputs": [],
   "source": [
    "#!pip install TextBlob \n",
    "\n",
    "from textblob import TextBlob"
   ]
  },
  {
   "cell_type": "code",
   "execution_count": 31,
   "metadata": {},
   "outputs": [
    {
     "data": {
      "text/plain": [
       "Sentiment(polarity=-0.7, subjectivity=1.0)"
      ]
     },
     "execution_count": 31,
     "metadata": {},
     "output_type": "execute_result"
    }
   ],
   "source": [
    "# score for each statement on a scale negative to positive \n",
    "# polarity -> VERY -ve = -1  VERY +ve = +1 \n",
    "\n",
    "TextBlob(\"this dress was so ugly\").sentiment "
   ]
  },
  {
   "cell_type": "code",
   "execution_count": 32,
   "metadata": {},
   "outputs": [],
   "source": [
    "#method stolen - props to rohinramachandran\n",
    "\n",
    "clothingdf['Polarity'] = clothingdf['Review Text'].apply(lambda x: TextBlob(x).sentiment.polarity)"
   ]
  },
  {
   "cell_type": "code",
   "execution_count": 33,
   "metadata": {},
   "outputs": [
    {
     "data": {
      "text/html": [
       "<div>\n",
       "<style scoped>\n",
       "    .dataframe tbody tr th:only-of-type {\n",
       "        vertical-align: middle;\n",
       "    }\n",
       "\n",
       "    .dataframe tbody tr th {\n",
       "        vertical-align: top;\n",
       "    }\n",
       "\n",
       "    .dataframe thead th {\n",
       "        text-align: right;\n",
       "    }\n",
       "</style>\n",
       "<table border=\"1\" class=\"dataframe\">\n",
       "  <thead>\n",
       "    <tr style=\"text-align: right;\">\n",
       "      <th></th>\n",
       "      <th>Unnamed: 0</th>\n",
       "      <th>Age</th>\n",
       "      <th>Review Text</th>\n",
       "      <th>Rating</th>\n",
       "      <th>Recommended IND</th>\n",
       "      <th>Positive Feedback Count</th>\n",
       "      <th>Division Name</th>\n",
       "      <th>Department Name</th>\n",
       "      <th>Class Name</th>\n",
       "      <th>Polarity</th>\n",
       "    </tr>\n",
       "  </thead>\n",
       "  <tbody>\n",
       "    <tr>\n",
       "      <th>0</th>\n",
       "      <td>0</td>\n",
       "      <td>33</td>\n",
       "      <td>Absolutely wonderful - silky and sexy and comf...</td>\n",
       "      <td>4</td>\n",
       "      <td>1</td>\n",
       "      <td>0</td>\n",
       "      <td>Initmates</td>\n",
       "      <td>Intimate</td>\n",
       "      <td>Intimates</td>\n",
       "      <td>0.633333</td>\n",
       "    </tr>\n",
       "    <tr>\n",
       "      <th>1</th>\n",
       "      <td>1</td>\n",
       "      <td>34</td>\n",
       "      <td>Love this dress!  it's sooo pretty.  i happene...</td>\n",
       "      <td>5</td>\n",
       "      <td>1</td>\n",
       "      <td>4</td>\n",
       "      <td>General</td>\n",
       "      <td>Dresses</td>\n",
       "      <td>Dresses</td>\n",
       "      <td>0.339583</td>\n",
       "    </tr>\n",
       "    <tr>\n",
       "      <th>2</th>\n",
       "      <td>2</td>\n",
       "      <td>60</td>\n",
       "      <td>I had such high hopes for this dress and reall...</td>\n",
       "      <td>3</td>\n",
       "      <td>0</td>\n",
       "      <td>0</td>\n",
       "      <td>General</td>\n",
       "      <td>Dresses</td>\n",
       "      <td>Dresses</td>\n",
       "      <td>0.073675</td>\n",
       "    </tr>\n",
       "    <tr>\n",
       "      <th>3</th>\n",
       "      <td>3</td>\n",
       "      <td>50</td>\n",
       "      <td>I love, love, love this jumpsuit. it's fun, fl...</td>\n",
       "      <td>5</td>\n",
       "      <td>1</td>\n",
       "      <td>0</td>\n",
       "      <td>General Petite</td>\n",
       "      <td>Bottoms</td>\n",
       "      <td>Pants</td>\n",
       "      <td>0.550000</td>\n",
       "    </tr>\n",
       "    <tr>\n",
       "      <th>4</th>\n",
       "      <td>4</td>\n",
       "      <td>47</td>\n",
       "      <td>This shirt is very flattering to all due to th...</td>\n",
       "      <td>5</td>\n",
       "      <td>1</td>\n",
       "      <td>6</td>\n",
       "      <td>General</td>\n",
       "      <td>Tops</td>\n",
       "      <td>Blouses</td>\n",
       "      <td>0.512891</td>\n",
       "    </tr>\n",
       "  </tbody>\n",
       "</table>\n",
       "</div>"
      ],
      "text/plain": [
       "   Unnamed: 0  Age                                        Review Text  Rating  \\\n",
       "0           0   33  Absolutely wonderful - silky and sexy and comf...       4   \n",
       "1           1   34  Love this dress!  it's sooo pretty.  i happene...       5   \n",
       "2           2   60  I had such high hopes for this dress and reall...       3   \n",
       "3           3   50  I love, love, love this jumpsuit. it's fun, fl...       5   \n",
       "4           4   47  This shirt is very flattering to all due to th...       5   \n",
       "\n",
       "   Recommended IND  Positive Feedback Count   Division Name Department Name  \\\n",
       "0                1                        0       Initmates        Intimate   \n",
       "1                1                        4         General         Dresses   \n",
       "2                0                        0         General         Dresses   \n",
       "3                1                        0  General Petite         Bottoms   \n",
       "4                1                        6         General            Tops   \n",
       "\n",
       "  Class Name  Polarity  \n",
       "0  Intimates  0.633333  \n",
       "1    Dresses  0.339583  \n",
       "2    Dresses  0.073675  \n",
       "3      Pants  0.550000  \n",
       "4    Blouses  0.512891  "
      ]
     },
     "execution_count": 33,
     "metadata": {},
     "output_type": "execute_result"
    }
   ],
   "source": [
    "clothingdf.head()"
   ]
  },
  {
   "cell_type": "code",
   "execution_count": null,
   "metadata": {},
   "outputs": [],
   "source": []
  },
  {
   "cell_type": "markdown",
   "metadata": {},
   "source": [
    "example 3 - using spacy as a headstart "
   ]
  },
  {
   "cell_type": "code",
   "execution_count": 36,
   "metadata": {},
   "outputs": [],
   "source": [
    "#!pip install -U spacy\n",
    "#install model - language and size \n",
    "\n",
    "import spacy \n",
    "#import en_core_web_sm\n",
    "nlp= spacy.load(\"en_core_web_sm\")"
   ]
  },
  {
   "cell_type": "code",
   "execution_count": 37,
   "metadata": {},
   "outputs": [],
   "source": [
    "doc=nlp(\"I saw a man on the hill with a telescope. He looks like Jesus\")"
   ]
  },
  {
   "cell_type": "code",
   "execution_count": 38,
   "metadata": {},
   "outputs": [
    {
     "name": "stdout",
     "output_type": "stream",
     "text": [
      "I\n",
      "saw\n",
      "a\n",
      "man\n",
      "on\n",
      "the\n",
      "hill\n",
      "with\n",
      "a\n",
      "telescope\n",
      ".\n",
      "He\n",
      "looks\n",
      "like\n",
      "Jesus\n"
     ]
    }
   ],
   "source": [
    "#tokenisation \n",
    "\n",
    "for token in doc:\n",
    "    print(token.text)"
   ]
  },
  {
   "cell_type": "markdown",
   "metadata": {},
   "source": [
    "Text: The original word text.\n",
    "Lemma: The base form of the word.\n",
    "POS: The simple UPOS part-of-speech tag.\n",
    "Tag: The detailed part-of-speech tag.\n",
    "Dep: Syntactic dependency, i.e. the relation between tokens.\n",
    "Shape: The word shape – capitalization, punctuation, digits.\n",
    "is alpha: Is the token an alpha character?\n",
    "is stop: Is the token part of a stop list, i.e. the most common words of the language?"
   ]
  },
  {
   "cell_type": "code",
   "execution_count": 39,
   "metadata": {},
   "outputs": [
    {
     "name": "stdout",
     "output_type": "stream",
     "text": [
      "I -PRON- PRON PRP nsubj X True True\n",
      "saw see VERB VBD ROOT xxx True False\n",
      "a a DET DT det x True True\n",
      "man man NOUN NN dobj xxx True False\n",
      "on on ADP IN prep xx True True\n",
      "the the DET DT det xxx True True\n",
      "hill hill NOUN NN pobj xxxx True False\n",
      "with with ADP IN prep xxxx True True\n",
      "a a DET DT det x True True\n",
      "telescope telescope NOUN NN pobj xxxx True False\n",
      ". . PUNCT . punct . False False\n",
      "He -PRON- PRON PRP nsubj Xx True True\n",
      "looks look VERB VBZ ROOT xxxx True False\n",
      "like like SCONJ IN prep xxxx True False\n",
      "Jesus Jesus PROPN NNP pobj Xxxxx True False\n"
     ]
    }
   ],
   "source": [
    "#parse and tag using the model \n",
    "\n",
    "for token in doc:\n",
    "    print(token.text, token.lemma_, token.pos_, token.tag_, token.dep_,\n",
    "            token.shape_, token.is_alpha, token.is_stop)"
   ]
  },
  {
   "cell_type": "code",
   "execution_count": 40,
   "metadata": {},
   "outputs": [],
   "source": [
    "from spacy import displacy"
   ]
  },
  {
   "cell_type": "code",
   "execution_count": 41,
   "metadata": {},
   "outputs": [
    {
     "data": {
      "text/html": [
       "<span class=\"tex2jax_ignore\"><svg xmlns=\"http://www.w3.org/2000/svg\" xmlns:xlink=\"http://www.w3.org/1999/xlink\" xml:lang=\"en\" id=\"fbe18b8351fb4bdeb50c68aa8df789a0-0\" class=\"displacy\" width=\"2500\" height=\"399.5\" direction=\"ltr\" style=\"max-width: none; height: 399.5px; color: #000000; background: #ffffff; font-family: Arial; direction: ltr\">\n",
       "<text class=\"displacy-token\" fill=\"currentColor\" text-anchor=\"middle\" y=\"309.5\">\n",
       "    <tspan class=\"displacy-word\" fill=\"currentColor\" x=\"50\">I</tspan>\n",
       "    <tspan class=\"displacy-tag\" dy=\"2em\" fill=\"currentColor\" x=\"50\">PRON</tspan>\n",
       "</text>\n",
       "\n",
       "<text class=\"displacy-token\" fill=\"currentColor\" text-anchor=\"middle\" y=\"309.5\">\n",
       "    <tspan class=\"displacy-word\" fill=\"currentColor\" x=\"225\">saw</tspan>\n",
       "    <tspan class=\"displacy-tag\" dy=\"2em\" fill=\"currentColor\" x=\"225\">VERB</tspan>\n",
       "</text>\n",
       "\n",
       "<text class=\"displacy-token\" fill=\"currentColor\" text-anchor=\"middle\" y=\"309.5\">\n",
       "    <tspan class=\"displacy-word\" fill=\"currentColor\" x=\"400\">a</tspan>\n",
       "    <tspan class=\"displacy-tag\" dy=\"2em\" fill=\"currentColor\" x=\"400\">DET</tspan>\n",
       "</text>\n",
       "\n",
       "<text class=\"displacy-token\" fill=\"currentColor\" text-anchor=\"middle\" y=\"309.5\">\n",
       "    <tspan class=\"displacy-word\" fill=\"currentColor\" x=\"575\">man</tspan>\n",
       "    <tspan class=\"displacy-tag\" dy=\"2em\" fill=\"currentColor\" x=\"575\">NOUN</tspan>\n",
       "</text>\n",
       "\n",
       "<text class=\"displacy-token\" fill=\"currentColor\" text-anchor=\"middle\" y=\"309.5\">\n",
       "    <tspan class=\"displacy-word\" fill=\"currentColor\" x=\"750\">on</tspan>\n",
       "    <tspan class=\"displacy-tag\" dy=\"2em\" fill=\"currentColor\" x=\"750\">ADP</tspan>\n",
       "</text>\n",
       "\n",
       "<text class=\"displacy-token\" fill=\"currentColor\" text-anchor=\"middle\" y=\"309.5\">\n",
       "    <tspan class=\"displacy-word\" fill=\"currentColor\" x=\"925\">the</tspan>\n",
       "    <tspan class=\"displacy-tag\" dy=\"2em\" fill=\"currentColor\" x=\"925\">DET</tspan>\n",
       "</text>\n",
       "\n",
       "<text class=\"displacy-token\" fill=\"currentColor\" text-anchor=\"middle\" y=\"309.5\">\n",
       "    <tspan class=\"displacy-word\" fill=\"currentColor\" x=\"1100\">hill</tspan>\n",
       "    <tspan class=\"displacy-tag\" dy=\"2em\" fill=\"currentColor\" x=\"1100\">NOUN</tspan>\n",
       "</text>\n",
       "\n",
       "<text class=\"displacy-token\" fill=\"currentColor\" text-anchor=\"middle\" y=\"309.5\">\n",
       "    <tspan class=\"displacy-word\" fill=\"currentColor\" x=\"1275\">with</tspan>\n",
       "    <tspan class=\"displacy-tag\" dy=\"2em\" fill=\"currentColor\" x=\"1275\">ADP</tspan>\n",
       "</text>\n",
       "\n",
       "<text class=\"displacy-token\" fill=\"currentColor\" text-anchor=\"middle\" y=\"309.5\">\n",
       "    <tspan class=\"displacy-word\" fill=\"currentColor\" x=\"1450\">a</tspan>\n",
       "    <tspan class=\"displacy-tag\" dy=\"2em\" fill=\"currentColor\" x=\"1450\">DET</tspan>\n",
       "</text>\n",
       "\n",
       "<text class=\"displacy-token\" fill=\"currentColor\" text-anchor=\"middle\" y=\"309.5\">\n",
       "    <tspan class=\"displacy-word\" fill=\"currentColor\" x=\"1625\">telescope.</tspan>\n",
       "    <tspan class=\"displacy-tag\" dy=\"2em\" fill=\"currentColor\" x=\"1625\">NOUN</tspan>\n",
       "</text>\n",
       "\n",
       "<text class=\"displacy-token\" fill=\"currentColor\" text-anchor=\"middle\" y=\"309.5\">\n",
       "    <tspan class=\"displacy-word\" fill=\"currentColor\" x=\"1800\">He</tspan>\n",
       "    <tspan class=\"displacy-tag\" dy=\"2em\" fill=\"currentColor\" x=\"1800\">PRON</tspan>\n",
       "</text>\n",
       "\n",
       "<text class=\"displacy-token\" fill=\"currentColor\" text-anchor=\"middle\" y=\"309.5\">\n",
       "    <tspan class=\"displacy-word\" fill=\"currentColor\" x=\"1975\">looks</tspan>\n",
       "    <tspan class=\"displacy-tag\" dy=\"2em\" fill=\"currentColor\" x=\"1975\">VERB</tspan>\n",
       "</text>\n",
       "\n",
       "<text class=\"displacy-token\" fill=\"currentColor\" text-anchor=\"middle\" y=\"309.5\">\n",
       "    <tspan class=\"displacy-word\" fill=\"currentColor\" x=\"2150\">like</tspan>\n",
       "    <tspan class=\"displacy-tag\" dy=\"2em\" fill=\"currentColor\" x=\"2150\">SCONJ</tspan>\n",
       "</text>\n",
       "\n",
       "<text class=\"displacy-token\" fill=\"currentColor\" text-anchor=\"middle\" y=\"309.5\">\n",
       "    <tspan class=\"displacy-word\" fill=\"currentColor\" x=\"2325\">Jesus</tspan>\n",
       "    <tspan class=\"displacy-tag\" dy=\"2em\" fill=\"currentColor\" x=\"2325\">PROPN</tspan>\n",
       "</text>\n",
       "\n",
       "<g class=\"displacy-arrow\">\n",
       "    <path class=\"displacy-arc\" id=\"arrow-fbe18b8351fb4bdeb50c68aa8df789a0-0-0\" stroke-width=\"2px\" d=\"M70,264.5 C70,177.0 215.0,177.0 215.0,264.5\" fill=\"none\" stroke=\"currentColor\"/>\n",
       "    <text dy=\"1.25em\" style=\"font-size: 0.8em; letter-spacing: 1px\">\n",
       "        <textPath xlink:href=\"#arrow-fbe18b8351fb4bdeb50c68aa8df789a0-0-0\" class=\"displacy-label\" startOffset=\"50%\" side=\"left\" fill=\"currentColor\" text-anchor=\"middle\">nsubj</textPath>\n",
       "    </text>\n",
       "    <path class=\"displacy-arrowhead\" d=\"M70,266.5 L62,254.5 78,254.5\" fill=\"currentColor\"/>\n",
       "</g>\n",
       "\n",
       "<g class=\"displacy-arrow\">\n",
       "    <path class=\"displacy-arc\" id=\"arrow-fbe18b8351fb4bdeb50c68aa8df789a0-0-1\" stroke-width=\"2px\" d=\"M420,264.5 C420,177.0 565.0,177.0 565.0,264.5\" fill=\"none\" stroke=\"currentColor\"/>\n",
       "    <text dy=\"1.25em\" style=\"font-size: 0.8em; letter-spacing: 1px\">\n",
       "        <textPath xlink:href=\"#arrow-fbe18b8351fb4bdeb50c68aa8df789a0-0-1\" class=\"displacy-label\" startOffset=\"50%\" side=\"left\" fill=\"currentColor\" text-anchor=\"middle\">det</textPath>\n",
       "    </text>\n",
       "    <path class=\"displacy-arrowhead\" d=\"M420,266.5 L412,254.5 428,254.5\" fill=\"currentColor\"/>\n",
       "</g>\n",
       "\n",
       "<g class=\"displacy-arrow\">\n",
       "    <path class=\"displacy-arc\" id=\"arrow-fbe18b8351fb4bdeb50c68aa8df789a0-0-2\" stroke-width=\"2px\" d=\"M245,264.5 C245,89.5 570.0,89.5 570.0,264.5\" fill=\"none\" stroke=\"currentColor\"/>\n",
       "    <text dy=\"1.25em\" style=\"font-size: 0.8em; letter-spacing: 1px\">\n",
       "        <textPath xlink:href=\"#arrow-fbe18b8351fb4bdeb50c68aa8df789a0-0-2\" class=\"displacy-label\" startOffset=\"50%\" side=\"left\" fill=\"currentColor\" text-anchor=\"middle\">dobj</textPath>\n",
       "    </text>\n",
       "    <path class=\"displacy-arrowhead\" d=\"M570.0,266.5 L578.0,254.5 562.0,254.5\" fill=\"currentColor\"/>\n",
       "</g>\n",
       "\n",
       "<g class=\"displacy-arrow\">\n",
       "    <path class=\"displacy-arc\" id=\"arrow-fbe18b8351fb4bdeb50c68aa8df789a0-0-3\" stroke-width=\"2px\" d=\"M595,264.5 C595,177.0 740.0,177.0 740.0,264.5\" fill=\"none\" stroke=\"currentColor\"/>\n",
       "    <text dy=\"1.25em\" style=\"font-size: 0.8em; letter-spacing: 1px\">\n",
       "        <textPath xlink:href=\"#arrow-fbe18b8351fb4bdeb50c68aa8df789a0-0-3\" class=\"displacy-label\" startOffset=\"50%\" side=\"left\" fill=\"currentColor\" text-anchor=\"middle\">prep</textPath>\n",
       "    </text>\n",
       "    <path class=\"displacy-arrowhead\" d=\"M740.0,266.5 L748.0,254.5 732.0,254.5\" fill=\"currentColor\"/>\n",
       "</g>\n",
       "\n",
       "<g class=\"displacy-arrow\">\n",
       "    <path class=\"displacy-arc\" id=\"arrow-fbe18b8351fb4bdeb50c68aa8df789a0-0-4\" stroke-width=\"2px\" d=\"M945,264.5 C945,177.0 1090.0,177.0 1090.0,264.5\" fill=\"none\" stroke=\"currentColor\"/>\n",
       "    <text dy=\"1.25em\" style=\"font-size: 0.8em; letter-spacing: 1px\">\n",
       "        <textPath xlink:href=\"#arrow-fbe18b8351fb4bdeb50c68aa8df789a0-0-4\" class=\"displacy-label\" startOffset=\"50%\" side=\"left\" fill=\"currentColor\" text-anchor=\"middle\">det</textPath>\n",
       "    </text>\n",
       "    <path class=\"displacy-arrowhead\" d=\"M945,266.5 L937,254.5 953,254.5\" fill=\"currentColor\"/>\n",
       "</g>\n",
       "\n",
       "<g class=\"displacy-arrow\">\n",
       "    <path class=\"displacy-arc\" id=\"arrow-fbe18b8351fb4bdeb50c68aa8df789a0-0-5\" stroke-width=\"2px\" d=\"M770,264.5 C770,89.5 1095.0,89.5 1095.0,264.5\" fill=\"none\" stroke=\"currentColor\"/>\n",
       "    <text dy=\"1.25em\" style=\"font-size: 0.8em; letter-spacing: 1px\">\n",
       "        <textPath xlink:href=\"#arrow-fbe18b8351fb4bdeb50c68aa8df789a0-0-5\" class=\"displacy-label\" startOffset=\"50%\" side=\"left\" fill=\"currentColor\" text-anchor=\"middle\">pobj</textPath>\n",
       "    </text>\n",
       "    <path class=\"displacy-arrowhead\" d=\"M1095.0,266.5 L1103.0,254.5 1087.0,254.5\" fill=\"currentColor\"/>\n",
       "</g>\n",
       "\n",
       "<g class=\"displacy-arrow\">\n",
       "    <path class=\"displacy-arc\" id=\"arrow-fbe18b8351fb4bdeb50c68aa8df789a0-0-6\" stroke-width=\"2px\" d=\"M245,264.5 C245,2.0 1275.0,2.0 1275.0,264.5\" fill=\"none\" stroke=\"currentColor\"/>\n",
       "    <text dy=\"1.25em\" style=\"font-size: 0.8em; letter-spacing: 1px\">\n",
       "        <textPath xlink:href=\"#arrow-fbe18b8351fb4bdeb50c68aa8df789a0-0-6\" class=\"displacy-label\" startOffset=\"50%\" side=\"left\" fill=\"currentColor\" text-anchor=\"middle\">prep</textPath>\n",
       "    </text>\n",
       "    <path class=\"displacy-arrowhead\" d=\"M1275.0,266.5 L1283.0,254.5 1267.0,254.5\" fill=\"currentColor\"/>\n",
       "</g>\n",
       "\n",
       "<g class=\"displacy-arrow\">\n",
       "    <path class=\"displacy-arc\" id=\"arrow-fbe18b8351fb4bdeb50c68aa8df789a0-0-7\" stroke-width=\"2px\" d=\"M1470,264.5 C1470,177.0 1615.0,177.0 1615.0,264.5\" fill=\"none\" stroke=\"currentColor\"/>\n",
       "    <text dy=\"1.25em\" style=\"font-size: 0.8em; letter-spacing: 1px\">\n",
       "        <textPath xlink:href=\"#arrow-fbe18b8351fb4bdeb50c68aa8df789a0-0-7\" class=\"displacy-label\" startOffset=\"50%\" side=\"left\" fill=\"currentColor\" text-anchor=\"middle\">det</textPath>\n",
       "    </text>\n",
       "    <path class=\"displacy-arrowhead\" d=\"M1470,266.5 L1462,254.5 1478,254.5\" fill=\"currentColor\"/>\n",
       "</g>\n",
       "\n",
       "<g class=\"displacy-arrow\">\n",
       "    <path class=\"displacy-arc\" id=\"arrow-fbe18b8351fb4bdeb50c68aa8df789a0-0-8\" stroke-width=\"2px\" d=\"M1295,264.5 C1295,89.5 1620.0,89.5 1620.0,264.5\" fill=\"none\" stroke=\"currentColor\"/>\n",
       "    <text dy=\"1.25em\" style=\"font-size: 0.8em; letter-spacing: 1px\">\n",
       "        <textPath xlink:href=\"#arrow-fbe18b8351fb4bdeb50c68aa8df789a0-0-8\" class=\"displacy-label\" startOffset=\"50%\" side=\"left\" fill=\"currentColor\" text-anchor=\"middle\">pobj</textPath>\n",
       "    </text>\n",
       "    <path class=\"displacy-arrowhead\" d=\"M1620.0,266.5 L1628.0,254.5 1612.0,254.5\" fill=\"currentColor\"/>\n",
       "</g>\n",
       "\n",
       "<g class=\"displacy-arrow\">\n",
       "    <path class=\"displacy-arc\" id=\"arrow-fbe18b8351fb4bdeb50c68aa8df789a0-0-9\" stroke-width=\"2px\" d=\"M1820,264.5 C1820,177.0 1965.0,177.0 1965.0,264.5\" fill=\"none\" stroke=\"currentColor\"/>\n",
       "    <text dy=\"1.25em\" style=\"font-size: 0.8em; letter-spacing: 1px\">\n",
       "        <textPath xlink:href=\"#arrow-fbe18b8351fb4bdeb50c68aa8df789a0-0-9\" class=\"displacy-label\" startOffset=\"50%\" side=\"left\" fill=\"currentColor\" text-anchor=\"middle\">nsubj</textPath>\n",
       "    </text>\n",
       "    <path class=\"displacy-arrowhead\" d=\"M1820,266.5 L1812,254.5 1828,254.5\" fill=\"currentColor\"/>\n",
       "</g>\n",
       "\n",
       "<g class=\"displacy-arrow\">\n",
       "    <path class=\"displacy-arc\" id=\"arrow-fbe18b8351fb4bdeb50c68aa8df789a0-0-10\" stroke-width=\"2px\" d=\"M1995,264.5 C1995,177.0 2140.0,177.0 2140.0,264.5\" fill=\"none\" stroke=\"currentColor\"/>\n",
       "    <text dy=\"1.25em\" style=\"font-size: 0.8em; letter-spacing: 1px\">\n",
       "        <textPath xlink:href=\"#arrow-fbe18b8351fb4bdeb50c68aa8df789a0-0-10\" class=\"displacy-label\" startOffset=\"50%\" side=\"left\" fill=\"currentColor\" text-anchor=\"middle\">prep</textPath>\n",
       "    </text>\n",
       "    <path class=\"displacy-arrowhead\" d=\"M2140.0,266.5 L2148.0,254.5 2132.0,254.5\" fill=\"currentColor\"/>\n",
       "</g>\n",
       "\n",
       "<g class=\"displacy-arrow\">\n",
       "    <path class=\"displacy-arc\" id=\"arrow-fbe18b8351fb4bdeb50c68aa8df789a0-0-11\" stroke-width=\"2px\" d=\"M2170,264.5 C2170,177.0 2315.0,177.0 2315.0,264.5\" fill=\"none\" stroke=\"currentColor\"/>\n",
       "    <text dy=\"1.25em\" style=\"font-size: 0.8em; letter-spacing: 1px\">\n",
       "        <textPath xlink:href=\"#arrow-fbe18b8351fb4bdeb50c68aa8df789a0-0-11\" class=\"displacy-label\" startOffset=\"50%\" side=\"left\" fill=\"currentColor\" text-anchor=\"middle\">pobj</textPath>\n",
       "    </text>\n",
       "    <path class=\"displacy-arrowhead\" d=\"M2315.0,266.5 L2323.0,254.5 2307.0,254.5\" fill=\"currentColor\"/>\n",
       "</g>\n",
       "</svg></span>"
      ],
      "text/plain": [
       "<IPython.core.display.HTML object>"
      ]
     },
     "metadata": {},
     "output_type": "display_data"
    }
   ],
   "source": [
    "displacy.render(doc, style=\"dep\")"
   ]
  },
  {
   "cell_type": "code",
   "execution_count": 42,
   "metadata": {},
   "outputs": [
    {
     "data": {
      "text/html": [
       "<span class=\"tex2jax_ignore\"><svg xmlns=\"http://www.w3.org/2000/svg\" xmlns:xlink=\"http://www.w3.org/1999/xlink\" xml:lang=\"en\" id=\"2be6ed21e376484b8540ec6d4e8b5811-0\" class=\"displacy\" width=\"1550\" height=\"362.0\" direction=\"ltr\" style=\"max-width: none; height: 362.0px; color: blue; background: #ffffff; font-family: Arial; direction: ltr\">\n",
       "<text class=\"displacy-token\" fill=\"currentColor\" text-anchor=\"middle\" y=\"272.0\">\n",
       "    <tspan class=\"displacy-word\" fill=\"currentColor\" x=\"50\">I</tspan>\n",
       "    <tspan class=\"displacy-tag\" dy=\"2em\" fill=\"currentColor\" x=\"50\">PRON</tspan>\n",
       "</text>\n",
       "\n",
       "<text class=\"displacy-token\" fill=\"currentColor\" text-anchor=\"middle\" y=\"272.0\">\n",
       "    <tspan class=\"displacy-word\" fill=\"currentColor\" x=\"200\">saw</tspan>\n",
       "    <tspan class=\"displacy-tag\" dy=\"2em\" fill=\"currentColor\" x=\"200\">VERB</tspan>\n",
       "</text>\n",
       "\n",
       "<text class=\"displacy-token\" fill=\"currentColor\" text-anchor=\"middle\" y=\"272.0\">\n",
       "    <tspan class=\"displacy-word\" fill=\"currentColor\" x=\"350\">a</tspan>\n",
       "    <tspan class=\"displacy-tag\" dy=\"2em\" fill=\"currentColor\" x=\"350\">DET</tspan>\n",
       "</text>\n",
       "\n",
       "<text class=\"displacy-token\" fill=\"currentColor\" text-anchor=\"middle\" y=\"272.0\">\n",
       "    <tspan class=\"displacy-word\" fill=\"currentColor\" x=\"500\">man</tspan>\n",
       "    <tspan class=\"displacy-tag\" dy=\"2em\" fill=\"currentColor\" x=\"500\">NOUN</tspan>\n",
       "</text>\n",
       "\n",
       "<text class=\"displacy-token\" fill=\"currentColor\" text-anchor=\"middle\" y=\"272.0\">\n",
       "    <tspan class=\"displacy-word\" fill=\"currentColor\" x=\"650\">on</tspan>\n",
       "    <tspan class=\"displacy-tag\" dy=\"2em\" fill=\"currentColor\" x=\"650\">ADP</tspan>\n",
       "</text>\n",
       "\n",
       "<text class=\"displacy-token\" fill=\"currentColor\" text-anchor=\"middle\" y=\"272.0\">\n",
       "    <tspan class=\"displacy-word\" fill=\"currentColor\" x=\"800\">the</tspan>\n",
       "    <tspan class=\"displacy-tag\" dy=\"2em\" fill=\"currentColor\" x=\"800\">DET</tspan>\n",
       "</text>\n",
       "\n",
       "<text class=\"displacy-token\" fill=\"currentColor\" text-anchor=\"middle\" y=\"272.0\">\n",
       "    <tspan class=\"displacy-word\" fill=\"currentColor\" x=\"950\">hill</tspan>\n",
       "    <tspan class=\"displacy-tag\" dy=\"2em\" fill=\"currentColor\" x=\"950\">NOUN</tspan>\n",
       "</text>\n",
       "\n",
       "<text class=\"displacy-token\" fill=\"currentColor\" text-anchor=\"middle\" y=\"272.0\">\n",
       "    <tspan class=\"displacy-word\" fill=\"currentColor\" x=\"1100\">with</tspan>\n",
       "    <tspan class=\"displacy-tag\" dy=\"2em\" fill=\"currentColor\" x=\"1100\">ADP</tspan>\n",
       "</text>\n",
       "\n",
       "<text class=\"displacy-token\" fill=\"currentColor\" text-anchor=\"middle\" y=\"272.0\">\n",
       "    <tspan class=\"displacy-word\" fill=\"currentColor\" x=\"1250\">a</tspan>\n",
       "    <tspan class=\"displacy-tag\" dy=\"2em\" fill=\"currentColor\" x=\"1250\">DET</tspan>\n",
       "</text>\n",
       "\n",
       "<text class=\"displacy-token\" fill=\"currentColor\" text-anchor=\"middle\" y=\"272.0\">\n",
       "    <tspan class=\"displacy-word\" fill=\"currentColor\" x=\"1400\">telescope.</tspan>\n",
       "    <tspan class=\"displacy-tag\" dy=\"2em\" fill=\"currentColor\" x=\"1400\">NOUN</tspan>\n",
       "</text>\n",
       "\n",
       "<g class=\"displacy-arrow\">\n",
       "    <path class=\"displacy-arc\" id=\"arrow-2be6ed21e376484b8540ec6d4e8b5811-0-0\" stroke-width=\"2px\" d=\"M62,227.0 62,202.0 194.0,202.0 194.0,227.0\" fill=\"none\" stroke=\"currentColor\"/>\n",
       "    <text dy=\"1.25em\" style=\"font-size: 0.8em; letter-spacing: 1px\">\n",
       "        <textPath xlink:href=\"#arrow-2be6ed21e376484b8540ec6d4e8b5811-0-0\" class=\"displacy-label\" startOffset=\"50%\" side=\"left\" fill=\"currentColor\" text-anchor=\"middle\">nsubj</textPath>\n",
       "    </text>\n",
       "    <path class=\"displacy-arrowhead\" d=\"M62,229.0 L58,221.0 66,221.0\" fill=\"currentColor\"/>\n",
       "</g>\n",
       "\n",
       "<g class=\"displacy-arrow\">\n",
       "    <path class=\"displacy-arc\" id=\"arrow-2be6ed21e376484b8540ec6d4e8b5811-0-1\" stroke-width=\"2px\" d=\"M362,227.0 362,202.0 494.0,202.0 494.0,227.0\" fill=\"none\" stroke=\"currentColor\"/>\n",
       "    <text dy=\"1.25em\" style=\"font-size: 0.8em; letter-spacing: 1px\">\n",
       "        <textPath xlink:href=\"#arrow-2be6ed21e376484b8540ec6d4e8b5811-0-1\" class=\"displacy-label\" startOffset=\"50%\" side=\"left\" fill=\"currentColor\" text-anchor=\"middle\">det</textPath>\n",
       "    </text>\n",
       "    <path class=\"displacy-arrowhead\" d=\"M362,229.0 L358,221.0 366,221.0\" fill=\"currentColor\"/>\n",
       "</g>\n",
       "\n",
       "<g class=\"displacy-arrow\">\n",
       "    <path class=\"displacy-arc\" id=\"arrow-2be6ed21e376484b8540ec6d4e8b5811-0-2\" stroke-width=\"2px\" d=\"M212,227.0 212,177.0 497.0,177.0 497.0,227.0\" fill=\"none\" stroke=\"currentColor\"/>\n",
       "    <text dy=\"1.25em\" style=\"font-size: 0.8em; letter-spacing: 1px\">\n",
       "        <textPath xlink:href=\"#arrow-2be6ed21e376484b8540ec6d4e8b5811-0-2\" class=\"displacy-label\" startOffset=\"50%\" side=\"left\" fill=\"currentColor\" text-anchor=\"middle\">dobj</textPath>\n",
       "    </text>\n",
       "    <path class=\"displacy-arrowhead\" d=\"M497.0,229.0 L501.0,221.0 493.0,221.0\" fill=\"currentColor\"/>\n",
       "</g>\n",
       "\n",
       "<g class=\"displacy-arrow\">\n",
       "    <path class=\"displacy-arc\" id=\"arrow-2be6ed21e376484b8540ec6d4e8b5811-0-3\" stroke-width=\"2px\" d=\"M512,227.0 512,202.0 644.0,202.0 644.0,227.0\" fill=\"none\" stroke=\"currentColor\"/>\n",
       "    <text dy=\"1.25em\" style=\"font-size: 0.8em; letter-spacing: 1px\">\n",
       "        <textPath xlink:href=\"#arrow-2be6ed21e376484b8540ec6d4e8b5811-0-3\" class=\"displacy-label\" startOffset=\"50%\" side=\"left\" fill=\"currentColor\" text-anchor=\"middle\">prep</textPath>\n",
       "    </text>\n",
       "    <path class=\"displacy-arrowhead\" d=\"M644.0,229.0 L648.0,221.0 640.0,221.0\" fill=\"currentColor\"/>\n",
       "</g>\n",
       "\n",
       "<g class=\"displacy-arrow\">\n",
       "    <path class=\"displacy-arc\" id=\"arrow-2be6ed21e376484b8540ec6d4e8b5811-0-4\" stroke-width=\"2px\" d=\"M812,227.0 812,202.0 944.0,202.0 944.0,227.0\" fill=\"none\" stroke=\"currentColor\"/>\n",
       "    <text dy=\"1.25em\" style=\"font-size: 0.8em; letter-spacing: 1px\">\n",
       "        <textPath xlink:href=\"#arrow-2be6ed21e376484b8540ec6d4e8b5811-0-4\" class=\"displacy-label\" startOffset=\"50%\" side=\"left\" fill=\"currentColor\" text-anchor=\"middle\">det</textPath>\n",
       "    </text>\n",
       "    <path class=\"displacy-arrowhead\" d=\"M812,229.0 L808,221.0 816,221.0\" fill=\"currentColor\"/>\n",
       "</g>\n",
       "\n",
       "<g class=\"displacy-arrow\">\n",
       "    <path class=\"displacy-arc\" id=\"arrow-2be6ed21e376484b8540ec6d4e8b5811-0-5\" stroke-width=\"2px\" d=\"M662,227.0 662,177.0 947.0,177.0 947.0,227.0\" fill=\"none\" stroke=\"currentColor\"/>\n",
       "    <text dy=\"1.25em\" style=\"font-size: 0.8em; letter-spacing: 1px\">\n",
       "        <textPath xlink:href=\"#arrow-2be6ed21e376484b8540ec6d4e8b5811-0-5\" class=\"displacy-label\" startOffset=\"50%\" side=\"left\" fill=\"currentColor\" text-anchor=\"middle\">pobj</textPath>\n",
       "    </text>\n",
       "    <path class=\"displacy-arrowhead\" d=\"M947.0,229.0 L951.0,221.0 943.0,221.0\" fill=\"currentColor\"/>\n",
       "</g>\n",
       "\n",
       "<g class=\"displacy-arrow\">\n",
       "    <path class=\"displacy-arc\" id=\"arrow-2be6ed21e376484b8540ec6d4e8b5811-0-6\" stroke-width=\"2px\" d=\"M212,227.0 212,152.0 1100.0,152.0 1100.0,227.0\" fill=\"none\" stroke=\"currentColor\"/>\n",
       "    <text dy=\"1.25em\" style=\"font-size: 0.8em; letter-spacing: 1px\">\n",
       "        <textPath xlink:href=\"#arrow-2be6ed21e376484b8540ec6d4e8b5811-0-6\" class=\"displacy-label\" startOffset=\"50%\" side=\"left\" fill=\"currentColor\" text-anchor=\"middle\">prep</textPath>\n",
       "    </text>\n",
       "    <path class=\"displacy-arrowhead\" d=\"M1100.0,229.0 L1104.0,221.0 1096.0,221.0\" fill=\"currentColor\"/>\n",
       "</g>\n",
       "\n",
       "<g class=\"displacy-arrow\">\n",
       "    <path class=\"displacy-arc\" id=\"arrow-2be6ed21e376484b8540ec6d4e8b5811-0-7\" stroke-width=\"2px\" d=\"M1262,227.0 1262,202.0 1394.0,202.0 1394.0,227.0\" fill=\"none\" stroke=\"currentColor\"/>\n",
       "    <text dy=\"1.25em\" style=\"font-size: 0.8em; letter-spacing: 1px\">\n",
       "        <textPath xlink:href=\"#arrow-2be6ed21e376484b8540ec6d4e8b5811-0-7\" class=\"displacy-label\" startOffset=\"50%\" side=\"left\" fill=\"currentColor\" text-anchor=\"middle\">det</textPath>\n",
       "    </text>\n",
       "    <path class=\"displacy-arrowhead\" d=\"M1262,229.0 L1258,221.0 1266,221.0\" fill=\"currentColor\"/>\n",
       "</g>\n",
       "\n",
       "<g class=\"displacy-arrow\">\n",
       "    <path class=\"displacy-arc\" id=\"arrow-2be6ed21e376484b8540ec6d4e8b5811-0-8\" stroke-width=\"2px\" d=\"M1112,227.0 1112,177.0 1397.0,177.0 1397.0,227.0\" fill=\"none\" stroke=\"currentColor\"/>\n",
       "    <text dy=\"1.25em\" style=\"font-size: 0.8em; letter-spacing: 1px\">\n",
       "        <textPath xlink:href=\"#arrow-2be6ed21e376484b8540ec6d4e8b5811-0-8\" class=\"displacy-label\" startOffset=\"50%\" side=\"left\" fill=\"currentColor\" text-anchor=\"middle\">pobj</textPath>\n",
       "    </text>\n",
       "    <path class=\"displacy-arrowhead\" d=\"M1397.0,229.0 L1401.0,221.0 1393.0,221.0\" fill=\"currentColor\"/>\n",
       "</g>\n",
       "</svg>\n",
       "\n",
       "<svg xmlns=\"http://www.w3.org/2000/svg\" xmlns:xlink=\"http://www.w3.org/1999/xlink\" xml:lang=\"en\" id=\"2be6ed21e376484b8540ec6d4e8b5811-1\" class=\"displacy\" width=\"650\" height=\"212.0\" direction=\"ltr\" style=\"max-width: none; height: 212.0px; color: blue; background: #ffffff; font-family: Arial; direction: ltr\">\n",
       "<text class=\"displacy-token\" fill=\"currentColor\" text-anchor=\"middle\" y=\"122.0\">\n",
       "    <tspan class=\"displacy-word\" fill=\"currentColor\" x=\"50\">He</tspan>\n",
       "    <tspan class=\"displacy-tag\" dy=\"2em\" fill=\"currentColor\" x=\"50\">PRON</tspan>\n",
       "</text>\n",
       "\n",
       "<text class=\"displacy-token\" fill=\"currentColor\" text-anchor=\"middle\" y=\"122.0\">\n",
       "    <tspan class=\"displacy-word\" fill=\"currentColor\" x=\"200\">looks</tspan>\n",
       "    <tspan class=\"displacy-tag\" dy=\"2em\" fill=\"currentColor\" x=\"200\">VERB</tspan>\n",
       "</text>\n",
       "\n",
       "<text class=\"displacy-token\" fill=\"currentColor\" text-anchor=\"middle\" y=\"122.0\">\n",
       "    <tspan class=\"displacy-word\" fill=\"currentColor\" x=\"350\">like</tspan>\n",
       "    <tspan class=\"displacy-tag\" dy=\"2em\" fill=\"currentColor\" x=\"350\">SCONJ</tspan>\n",
       "</text>\n",
       "\n",
       "<text class=\"displacy-token\" fill=\"currentColor\" text-anchor=\"middle\" y=\"122.0\">\n",
       "    <tspan class=\"displacy-word\" fill=\"currentColor\" x=\"500\">Jesus</tspan>\n",
       "    <tspan class=\"displacy-tag\" dy=\"2em\" fill=\"currentColor\" x=\"500\">PROPN</tspan>\n",
       "</text>\n",
       "\n",
       "<g class=\"displacy-arrow\">\n",
       "    <path class=\"displacy-arc\" id=\"arrow-2be6ed21e376484b8540ec6d4e8b5811-1-0\" stroke-width=\"2px\" d=\"M62,77.0 62,52.0 200.0,52.0 200.0,77.0\" fill=\"none\" stroke=\"currentColor\"/>\n",
       "    <text dy=\"1.25em\" style=\"font-size: 0.8em; letter-spacing: 1px\">\n",
       "        <textPath xlink:href=\"#arrow-2be6ed21e376484b8540ec6d4e8b5811-1-0\" class=\"displacy-label\" startOffset=\"50%\" side=\"left\" fill=\"currentColor\" text-anchor=\"middle\">nsubj</textPath>\n",
       "    </text>\n",
       "    <path class=\"displacy-arrowhead\" d=\"M62,79.0 L58,71.0 66,71.0\" fill=\"currentColor\"/>\n",
       "</g>\n",
       "\n",
       "<g class=\"displacy-arrow\">\n",
       "    <path class=\"displacy-arc\" id=\"arrow-2be6ed21e376484b8540ec6d4e8b5811-1-1\" stroke-width=\"2px\" d=\"M212,77.0 212,52.0 350.0,52.0 350.0,77.0\" fill=\"none\" stroke=\"currentColor\"/>\n",
       "    <text dy=\"1.25em\" style=\"font-size: 0.8em; letter-spacing: 1px\">\n",
       "        <textPath xlink:href=\"#arrow-2be6ed21e376484b8540ec6d4e8b5811-1-1\" class=\"displacy-label\" startOffset=\"50%\" side=\"left\" fill=\"currentColor\" text-anchor=\"middle\">prep</textPath>\n",
       "    </text>\n",
       "    <path class=\"displacy-arrowhead\" d=\"M350.0,79.0 L354.0,71.0 346.0,71.0\" fill=\"currentColor\"/>\n",
       "</g>\n",
       "\n",
       "<g class=\"displacy-arrow\">\n",
       "    <path class=\"displacy-arc\" id=\"arrow-2be6ed21e376484b8540ec6d4e8b5811-1-2\" stroke-width=\"2px\" d=\"M362,77.0 362,52.0 500.0,52.0 500.0,77.0\" fill=\"none\" stroke=\"currentColor\"/>\n",
       "    <text dy=\"1.25em\" style=\"font-size: 0.8em; letter-spacing: 1px\">\n",
       "        <textPath xlink:href=\"#arrow-2be6ed21e376484b8540ec6d4e8b5811-1-2\" class=\"displacy-label\" startOffset=\"50%\" side=\"left\" fill=\"currentColor\" text-anchor=\"middle\">pobj</textPath>\n",
       "    </text>\n",
       "    <path class=\"displacy-arrowhead\" d=\"M500.0,79.0 L504.0,71.0 496.0,71.0\" fill=\"currentColor\"/>\n",
       "</g>\n",
       "</svg></span>"
      ],
      "text/plain": [
       "<IPython.core.display.HTML object>"
      ]
     },
     "metadata": {},
     "output_type": "display_data"
    }
   ],
   "source": [
    "text =\"\"\"I saw a man on the hill with a telescope. He looks like Jesus\"\"\"\n",
    "doc2=nlp(text)\n",
    "sentence_spans = list(doc2.sents)\n",
    "options = {\"compact\": True, \"color\": \"blue\"}\n",
    "displacy.render(sentence_spans, style=\"dep\", jupyter=True, options=options)"
   ]
  },
  {
   "cell_type": "code",
   "execution_count": 43,
   "metadata": {},
   "outputs": [
    {
     "data": {
      "text/html": [
       "<span class=\"tex2jax_ignore\"><div class=\"entities\" style=\"line-height: 2.5; direction: ltr\">I saw a man on the hill with a telescope. He looks like \n",
       "<mark class=\"entity\" style=\"background: #aa9cfc; padding: 0.45em 0.6em; margin: 0 0.25em; line-height: 1; border-radius: 0.35em;\">\n",
       "    Jesus\n",
       "    <span style=\"font-size: 0.8em; font-weight: bold; line-height: 1; border-radius: 0.35em; text-transform: uppercase; vertical-align: middle; margin-left: 0.5rem\">PERSON</span>\n",
       "</mark>\n",
       "</div></span>"
      ],
      "text/plain": [
       "<IPython.core.display.HTML object>"
      ]
     },
     "metadata": {},
     "output_type": "display_data"
    }
   ],
   "source": [
    "# lets see if spacy can spot the named entity \n",
    "\n",
    "displacy.render(doc, style=\"ent\")"
   ]
  },
  {
   "cell_type": "code",
   "execution_count": 44,
   "metadata": {},
   "outputs": [
    {
     "name": "stdout",
     "output_type": "stream",
     "text": [
      "man True 6.352939 False\n",
      "woman True 6.8987513 False\n",
      "hill True 6.639779 False\n",
      "telescope True 7.4394827 False\n",
      "wkls False 0.0 True\n"
     ]
    }
   ],
   "source": [
    "# text analysis - similar using vectors - requires bigger model \n",
    "\n",
    "nlp = spacy.load(\"en_core_web_md\")\n",
    "tokens = nlp(\"man woman hill telescope wkls\")\n",
    "\n",
    "for token in tokens:\n",
    "    print(token.text, token.has_vector, token.vector_norm, token.is_oov)"
   ]
  },
  {
   "cell_type": "code",
   "execution_count": 45,
   "metadata": {},
   "outputs": [
    {
     "name": "stdout",
     "output_type": "stream",
     "text": [
      "man man 1.0\n",
      "man woman 0.7401744\n",
      "man hill 0.30951536\n",
      "man telescope 0.118106276\n",
      "man wkls 0.0\n",
      "woman man 0.7401744\n",
      "woman woman 1.0\n",
      "woman hill 0.27368402\n",
      "woman telescope 0.06952598\n",
      "woman wkls 0.0\n",
      "hill man 0.30951536\n",
      "hill woman 0.27368402\n",
      "hill hill 1.0\n",
      "hill telescope 0.11796526\n",
      "hill wkls 0.0\n",
      "telescope man 0.118106276\n",
      "telescope woman 0.06952598\n",
      "telescope hill 0.11796526\n",
      "telescope telescope 1.0\n",
      "telescope wkls 0.0\n",
      "wkls man 0.0\n",
      "wkls woman 0.0\n",
      "wkls hill 0.0\n",
      "wkls telescope 0.0\n",
      "wkls wkls 1.0\n"
     ]
    },
    {
     "name": "stderr",
     "output_type": "stream",
     "text": [
      "<ipython-input-45-b57e2666e3f3>:3: UserWarning: [W008] Evaluating Token.similarity based on empty vectors.\n",
      "  print(token1.text, token2.text, token1.similarity(token2))\n"
     ]
    }
   ],
   "source": [
    "for token1 in tokens:\n",
    "    for token2 in tokens:\n",
    "        print(token1.text, token2.text, token1.similarity(token2))"
   ]
  },
  {
   "cell_type": "code",
   "execution_count": 46,
   "metadata": {},
   "outputs": [
    {
     "name": "stdout",
     "output_type": "stream",
     "text": [
      "[nltk_data] Downloading package wordnet to\n",
      "[nltk_data]     /Users/siandavies/nltk_data...\n",
      "[nltk_data]   Package wordnet is already up-to-date!\n"
     ]
    },
    {
     "data": {
      "text/plain": [
       "True"
      ]
     },
     "execution_count": 46,
     "metadata": {},
     "output_type": "execute_result"
    }
   ],
   "source": [
    "# thesaurus of words - similarity - wordnet in nltk \n",
    "# someone has built a spacy integration for nltk \n",
    "\n",
    "import nltk \n",
    "\n",
    "nltk.download(\"wordnet\")"
   ]
  },
  {
   "cell_type": "code",
   "execution_count": null,
   "metadata": {},
   "outputs": [],
   "source": [
    "#!pip install spacy-wordnet "
   ]
  },
  {
   "cell_type": "code",
   "execution_count": 47,
   "metadata": {},
   "outputs": [],
   "source": [
    "from spacy_wordnet.wordnet_annotator import WordnetAnnotator"
   ]
  },
  {
   "cell_type": "code",
   "execution_count": 48,
   "metadata": {},
   "outputs": [
    {
     "name": "stdout",
     "output_type": "stream",
     "text": [
      "before ['tagger', 'parser', 'ner']\n",
      "after ['tagger', 'WordnetAnnotator', 'parser', 'ner']\n"
     ]
    }
   ],
   "source": [
    "print(\"before\",nlp.pipe_names)\n",
    "\n",
    "if \"WordnetAnnotator\" not in nlp.pipe_names:\n",
    "    nlp.add_pipe(WordnetAnnotator(nlp.lang), after=\"tagger\")\n",
    "    \n",
    "print (\"after\", nlp.pipe_names)"
   ]
  },
  {
   "cell_type": "code",
   "execution_count": 49,
   "metadata": {},
   "outputs": [
    {
     "data": {
      "text/plain": [
       "[Synset('withdraw.v.01'),\n",
       " Synset('retire.v.02'),\n",
       " Synset('disengage.v.01'),\n",
       " Synset('recall.v.07'),\n",
       " Synset('swallow.v.05'),\n",
       " Synset('seclude.v.01'),\n",
       " Synset('adjourn.v.02'),\n",
       " Synset('bow_out.v.02'),\n",
       " Synset('withdraw.v.09'),\n",
       " Synset('retire.v.08'),\n",
       " Synset('retreat.v.04'),\n",
       " Synset('remove.v.01')]"
      ]
     },
     "execution_count": 49,
     "metadata": {},
     "output_type": "execute_result"
    }
   ],
   "source": [
    "# word different meanings = withdraw \n",
    "\n",
    "tokenw = nlp(\"withdraw\")[0]\n",
    "tokenw._.wordnet.synsets()\n"
   ]
  },
  {
   "cell_type": "code",
   "execution_count": 50,
   "metadata": {},
   "outputs": [
    {
     "data": {
      "text/plain": [
       "['astronomy',\n",
       " 'school',\n",
       " 'telegraphy',\n",
       " 'industry',\n",
       " 'psychology',\n",
       " 'ethnology',\n",
       " 'ethnology',\n",
       " 'administration',\n",
       " 'school',\n",
       " 'finance',\n",
       " 'economy',\n",
       " 'exchange',\n",
       " 'banking',\n",
       " 'commerce',\n",
       " 'medicine',\n",
       " 'ethnology',\n",
       " 'university',\n",
       " 'school',\n",
       " 'buildings',\n",
       " 'factotum',\n",
       " 'agriculture',\n",
       " 'mechanics',\n",
       " 'gastronomy',\n",
       " 'meteorology',\n",
       " 'physics',\n",
       " 'basketball',\n",
       " 'anatomy',\n",
       " 'skiing',\n",
       " 'nautical',\n",
       " 'engineering',\n",
       " 'racing',\n",
       " 'home',\n",
       " 'drawing',\n",
       " 'dentistry',\n",
       " 'ethnology',\n",
       " 'mathematics',\n",
       " 'furniture',\n",
       " 'animal_husbandry',\n",
       " 'industry',\n",
       " 'economy',\n",
       " 'body_care',\n",
       " 'chemistry',\n",
       " 'medicine',\n",
       " 'surgery',\n",
       " 'vehicles',\n",
       " 'transport',\n",
       " 'atomic_physic',\n",
       " 'archaeology',\n",
       " 'hydraulics',\n",
       " 'oceanography',\n",
       " 'golf',\n",
       " 'sculpture',\n",
       " 'earth',\n",
       " 'applied_science',\n",
       " 'artisanship']"
      ]
     },
     "execution_count": 50,
     "metadata": {},
     "output_type": "execute_result"
    }
   ],
   "source": [
    "tokenw._.wordnet.wordnet_domains()"
   ]
  },
  {
   "cell_type": "code",
   "execution_count": null,
   "metadata": {},
   "outputs": [],
   "source": []
  },
  {
   "cell_type": "code",
   "execution_count": null,
   "metadata": {},
   "outputs": [],
   "source": []
  },
  {
   "cell_type": "code",
   "execution_count": null,
   "metadata": {},
   "outputs": [],
   "source": []
  },
  {
   "cell_type": "code",
   "execution_count": null,
   "metadata": {},
   "outputs": [],
   "source": []
  },
  {
   "cell_type": "markdown",
   "metadata": {},
   "source": [
    "final example - named entities with tweets "
   ]
  },
  {
   "cell_type": "code",
   "execution_count": 51,
   "metadata": {},
   "outputs": [
    {
     "data": {
      "text/html": [
       "<div>\n",
       "<style scoped>\n",
       "    .dataframe tbody tr th:only-of-type {\n",
       "        vertical-align: middle;\n",
       "    }\n",
       "\n",
       "    .dataframe tbody tr th {\n",
       "        vertical-align: top;\n",
       "    }\n",
       "\n",
       "    .dataframe thead th {\n",
       "        text-align: right;\n",
       "    }\n",
       "</style>\n",
       "<table border=\"1\" class=\"dataframe\">\n",
       "  <thead>\n",
       "    <tr style=\"text-align: right;\">\n",
       "      <th></th>\n",
       "      <th>text</th>\n",
       "      <th>created_at</th>\n",
       "      <th>id_str</th>\n",
       "    </tr>\n",
       "  </thead>\n",
       "  <tbody>\n",
       "    <tr>\n",
       "      <th>0</th>\n",
       "      <td>.@FoxNews is no longer the same. We miss the g...</td>\n",
       "      <td>05-19-2020 01:59:49</td>\n",
       "      <td>1262563582086184970</td>\n",
       "    </tr>\n",
       "    <tr>\n",
       "      <th>1</th>\n",
       "      <td>So the so-called HHS Whistleblower was against...</td>\n",
       "      <td>05-18-2020 14:44:21</td>\n",
       "      <td>1262393595560067073</td>\n",
       "    </tr>\n",
       "    <tr>\n",
       "      <th>2</th>\n",
       "      <td>.....mixed about even wanting us to get out. T...</td>\n",
       "      <td>05-18-2020 14:39:40</td>\n",
       "      <td>1262392415513690112</td>\n",
       "    </tr>\n",
       "    <tr>\n",
       "      <th>3</th>\n",
       "      <td>Wow! The Front Page @washingtonpost Headline r...</td>\n",
       "      <td>05-18-2020 12:47:40</td>\n",
       "      <td>1262364231288197123</td>\n",
       "    </tr>\n",
       "    <tr>\n",
       "      <th>4</th>\n",
       "      <td>MAGA crowds are bigger than ever! https://t.co...</td>\n",
       "      <td>05-18-2020 12:26:37</td>\n",
       "      <td>1262358931982123008</td>\n",
       "    </tr>\n",
       "  </tbody>\n",
       "</table>\n",
       "</div>"
      ],
      "text/plain": [
       "                                                text           created_at  \\\n",
       "0  .@FoxNews is no longer the same. We miss the g...  05-19-2020 01:59:49   \n",
       "1  So the so-called HHS Whistleblower was against...  05-18-2020 14:44:21   \n",
       "2  .....mixed about even wanting us to get out. T...  05-18-2020 14:39:40   \n",
       "3  Wow! The Front Page @washingtonpost Headline r...  05-18-2020 12:47:40   \n",
       "4  MAGA crowds are bigger than ever! https://t.co...  05-18-2020 12:26:37   \n",
       "\n",
       "                id_str  \n",
       "0  1262563582086184970  \n",
       "1  1262393595560067073  \n",
       "2  1262392415513690112  \n",
       "3  1262364231288197123  \n",
       "4  1262358931982123008  "
      ]
     },
     "execution_count": 51,
     "metadata": {},
     "output_type": "execute_result"
    }
   ],
   "source": [
    "tweets= pd.read_csv('ever_trump.csv')\n",
    "tweets.head()"
   ]
  },
  {
   "cell_type": "code",
   "execution_count": 52,
   "metadata": {},
   "outputs": [],
   "source": [
    "# create tokens using spacy ready for analysis \n",
    "\n",
    "tokens = nlp(''.join(str(tweets.text.tolist())))\n",
    "\n"
   ]
  },
  {
   "cell_type": "code",
   "execution_count": 53,
   "metadata": {},
   "outputs": [
    {
     "data": {
      "text/plain": [
       "[('Democrats', 185),\n",
       " ('Obama', 98),\n",
       " ('Trump', 96),\n",
       " ('American', 89),\n",
       " ('Republicans', 87),\n",
       " ('U.S.', 81),\n",
       " ('Dems', 75),\n",
       " ('America', 73),\n",
       " ('China', 71),\n",
       " ('today', 68),\n",
       " ('first', 58),\n",
       " ('one', 57),\n",
       " ('Russia', 50),\n",
       " ('Democrat', 48),\n",
       " ('Congress', 46),\n",
       " ('the United States', 46),\n",
       " ('USA', 43),\n",
       " ('Americans', 40),\n",
       " ('FBI', 40),\n",
       " ('Republican', 38)]"
      ]
     },
     "execution_count": 53,
     "metadata": {},
     "output_type": "execute_result"
    }
   ],
   "source": [
    "items = [x.text for x in tokens.ents]\n",
    "Counter(items).most_common(20)"
   ]
  },
  {
   "cell_type": "code",
   "execution_count": 55,
   "metadata": {},
   "outputs": [],
   "source": [
    "person_list= [] # empty list \n",
    "\n",
    "for ent in tokens.ents:\n",
    "    if ent.label_ =='PERSON':\n",
    "        person_list.append(ent.text) # using loop to fill the list "
   ]
  },
  {
   "cell_type": "code",
   "execution_count": 62,
   "metadata": {},
   "outputs": [
    {
     "data": {
      "text/plain": [
       "<matplotlib.axes._subplots.AxesSubplot at 0x7feef355b9a0>"
      ]
     },
     "execution_count": 62,
     "metadata": {},
     "output_type": "execute_result"
    },
    {
     "data": {
      "image/png": "[encoded data removed]",
      "text/plain": [
       "<Figure size 432x288 with 1 Axes>"
      ]
     },
     "metadata": {
      "needs_background": "light"
     },
     "output_type": "display_data"
    }
   ],
   "source": [
    "person_counts = Counter(person_list).most_common(20)\n",
    "df_person =pd.DataFrame(person_counts, columns = ['text', 'count'])\n",
    "#df_person\n",
    "\n",
    "df_person.plot.barh(x='text', y='count')"
   ]
  },
  {
   "cell_type": "code",
   "execution_count": null,
   "metadata": {},
   "outputs": [],
   "source": []
  }
 ],
 "metadata": {
  "kernelspec": {
   "display_name": "Python 3",
   "language": "python",
   "name": "python3"
  },
  "language_info": {
   "codemirror_mode": {
    "name": "ipython",
    "version": 3
   },
   "file_extension": ".py",
   "mimetype": "text/x-python",
   "name": "python",
   "nbconvert_exporter": "python",
   "pygments_lexer": "ipython3",
   "version": "3.8.3"
  }
 },
 "nbformat": 4,
 "nbformat_minor": 4
}
