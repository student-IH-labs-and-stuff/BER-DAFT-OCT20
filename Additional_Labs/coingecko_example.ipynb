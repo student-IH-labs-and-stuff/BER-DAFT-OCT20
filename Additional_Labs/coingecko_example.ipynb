{
 "cells": [
  {
   "cell_type": "code",
   "execution_count": 2,
   "metadata": {},
   "outputs": [],
   "source": [
    "import pandas as pd\n",
    "import requests\n",
    "import json\n",
    "import matplotlib\n",
    "%matplotlib inline"
   ]
  },
  {
   "cell_type": "markdown",
   "metadata": {},
   "source": [
    "# Dogecoin and Bitcoin market value for last 30 days, vs. USD, deliver a DF and a Plot"
   ]
  },
  {
   "cell_type": "code",
   "execution_count": 3,
   "metadata": {},
   "outputs": [],
   "source": [
    "base = 'https://api.coingecko.com/api/v3/'"
   ]
  },
  {
   "cell_type": "code",
   "execution_count": 4,
   "metadata": {},
   "outputs": [],
   "source": [
    "url = base + 'coins/bitcoin/market_chart?vs_currency=usd&days=30'"
   ]
  },
  {
   "cell_type": "code",
   "execution_count": 5,
   "metadata": {},
   "outputs": [],
   "source": [
    "result = requests.get(url)\n",
    "j_bc = result.json()"
   ]
  },
  {
   "cell_type": "code",
   "execution_count": 6,
   "metadata": {},
   "outputs": [
    {
     "data": {
      "text/html": [
       "<div>\n",
       "<style scoped>\n",
       "    .dataframe tbody tr th:only-of-type {\n",
       "        vertical-align: middle;\n",
       "    }\n",
       "\n",
       "    .dataframe tbody tr th {\n",
       "        vertical-align: top;\n",
       "    }\n",
       "\n",
       "    .dataframe thead th {\n",
       "        text-align: right;\n",
       "    }\n",
       "</style>\n",
       "<table border=\"1\" class=\"dataframe\">\n",
       "  <thead>\n",
       "    <tr style=\"text-align: right;\">\n",
       "      <th></th>\n",
       "      <th>time</th>\n",
       "      <th>price</th>\n",
       "    </tr>\n",
       "  </thead>\n",
       "  <tbody>\n",
       "    <tr>\n",
       "      <th>0</th>\n",
       "      <td>1577016276569</td>\n",
       "      <td>7167.743506</td>\n",
       "    </tr>\n",
       "    <tr>\n",
       "      <th>1</th>\n",
       "      <td>1577019870340</td>\n",
       "      <td>7170.256951</td>\n",
       "    </tr>\n",
       "    <tr>\n",
       "      <th>2</th>\n",
       "      <td>1577023469225</td>\n",
       "      <td>7169.511733</td>\n",
       "    </tr>\n",
       "    <tr>\n",
       "      <th>3</th>\n",
       "      <td>1577026840948</td>\n",
       "      <td>7171.993227</td>\n",
       "    </tr>\n",
       "    <tr>\n",
       "      <th>4</th>\n",
       "      <td>1577030865300</td>\n",
       "      <td>7187.891321</td>\n",
       "    </tr>\n",
       "    <tr>\n",
       "      <th>5</th>\n",
       "      <td>1577034290482</td>\n",
       "      <td>7227.293974</td>\n",
       "    </tr>\n",
       "    <tr>\n",
       "      <th>6</th>\n",
       "      <td>1577037880564</td>\n",
       "      <td>7300.630717</td>\n",
       "    </tr>\n",
       "    <tr>\n",
       "      <th>7</th>\n",
       "      <td>1577041467252</td>\n",
       "      <td>7390.604203</td>\n",
       "    </tr>\n",
       "    <tr>\n",
       "      <th>8</th>\n",
       "      <td>1577045057411</td>\n",
       "      <td>7410.593050</td>\n",
       "    </tr>\n",
       "    <tr>\n",
       "      <th>9</th>\n",
       "      <td>1577048557532</td>\n",
       "      <td>7405.145847</td>\n",
       "    </tr>\n",
       "  </tbody>\n",
       "</table>\n",
       "</div>"
      ],
      "text/plain": [
       "            time        price\n",
       "0  1577016276569  7167.743506\n",
       "1  1577019870340  7170.256951\n",
       "2  1577023469225  7169.511733\n",
       "3  1577026840948  7171.993227\n",
       "4  1577030865300  7187.891321\n",
       "5  1577034290482  7227.293974\n",
       "6  1577037880564  7300.630717\n",
       "7  1577041467252  7390.604203\n",
       "8  1577045057411  7410.593050\n",
       "9  1577048557532  7405.145847"
      ]
     },
     "execution_count": 6,
     "metadata": {},
     "output_type": "execute_result"
    }
   ],
   "source": [
    "df_bc = pd.DataFrame(j_bc['prices'], columns=['time', 'price'])\n",
    "df_bc.head(10)"
   ]
  },
  {
   "cell_type": "code",
   "execution_count": 7,
   "metadata": {},
   "outputs": [],
   "source": [
    "url = base + 'coins/dogecoin/market_chart'\n"
   ]
  },
  {
   "cell_type": "code",
   "execution_count": 8,
   "metadata": {},
   "outputs": [],
   "source": [
    "param_dict = { 'id':'dogecoin', 'vs_currency':'usd', 'days':30}\n"
   ]
  },
  {
   "cell_type": "code",
   "execution_count": 9,
   "metadata": {},
   "outputs": [],
   "source": [
    "result = requests.get(url, params=param_dict)\n"
   ]
  },
  {
   "cell_type": "code",
   "execution_count": 10,
   "metadata": {},
   "outputs": [
    {
     "data": {
      "text/html": [
       "<div>\n",
       "<style scoped>\n",
       "    .dataframe tbody tr th:only-of-type {\n",
       "        vertical-align: middle;\n",
       "    }\n",
       "\n",
       "    .dataframe tbody tr th {\n",
       "        vertical-align: top;\n",
       "    }\n",
       "\n",
       "    .dataframe thead th {\n",
       "        text-align: right;\n",
       "    }\n",
       "</style>\n",
       "<table border=\"1\" class=\"dataframe\">\n",
       "  <thead>\n",
       "    <tr style=\"text-align: right;\">\n",
       "      <th></th>\n",
       "      <th>time</th>\n",
       "      <th>price</th>\n",
       "    </tr>\n",
       "  </thead>\n",
       "  <tbody>\n",
       "    <tr>\n",
       "      <th>0</th>\n",
       "      <td>1577016313519</td>\n",
       "      <td>0.002085</td>\n",
       "    </tr>\n",
       "    <tr>\n",
       "      <th>1</th>\n",
       "      <td>1577019939606</td>\n",
       "      <td>0.002086</td>\n",
       "    </tr>\n",
       "    <tr>\n",
       "      <th>2</th>\n",
       "      <td>1577023650207</td>\n",
       "      <td>0.002084</td>\n",
       "    </tr>\n",
       "    <tr>\n",
       "      <th>3</th>\n",
       "      <td>1577027263760</td>\n",
       "      <td>0.002082</td>\n",
       "    </tr>\n",
       "    <tr>\n",
       "      <th>4</th>\n",
       "      <td>1577030844698</td>\n",
       "      <td>0.002080</td>\n",
       "    </tr>\n",
       "    <tr>\n",
       "      <th>5</th>\n",
       "      <td>1577034466834</td>\n",
       "      <td>0.002088</td>\n",
       "    </tr>\n",
       "    <tr>\n",
       "      <th>6</th>\n",
       "      <td>1577038066175</td>\n",
       "      <td>0.002103</td>\n",
       "    </tr>\n",
       "    <tr>\n",
       "      <th>7</th>\n",
       "      <td>1577041752456</td>\n",
       "      <td>0.002111</td>\n",
       "    </tr>\n",
       "    <tr>\n",
       "      <th>8</th>\n",
       "      <td>1577045260676</td>\n",
       "      <td>0.002112</td>\n",
       "    </tr>\n",
       "    <tr>\n",
       "      <th>9</th>\n",
       "      <td>1577048872716</td>\n",
       "      <td>0.002110</td>\n",
       "    </tr>\n",
       "  </tbody>\n",
       "</table>\n",
       "</div>"
      ],
      "text/plain": [
       "            time     price\n",
       "0  1577016313519  0.002085\n",
       "1  1577019939606  0.002086\n",
       "2  1577023650207  0.002084\n",
       "3  1577027263760  0.002082\n",
       "4  1577030844698  0.002080\n",
       "5  1577034466834  0.002088\n",
       "6  1577038066175  0.002103\n",
       "7  1577041752456  0.002111\n",
       "8  1577045260676  0.002112\n",
       "9  1577048872716  0.002110"
      ]
     },
     "execution_count": 10,
     "metadata": {},
     "output_type": "execute_result"
    }
   ],
   "source": [
    "j_dc = result.json()\n",
    "df_dc = pd.DataFrame(j_dc['prices'], columns=['time', 'price'])\n",
    "df_dc.head(10)"
   ]
  },
  {
   "cell_type": "code",
   "execution_count": 11,
   "metadata": {},
   "outputs": [],
   "source": [
    "df_bc = pd.DataFrame(j_bc['prices'], columns=['time', 'price'])\n",
    "df_bc['time'] = pd.to_datetime(df_bc['time'], unit='ms')"
   ]
  },
  {
   "cell_type": "code",
   "execution_count": 12,
   "metadata": {},
   "outputs": [
    {
     "data": {
      "text/html": [
       "<div>\n",
       "<style scoped>\n",
       "    .dataframe tbody tr th:only-of-type {\n",
       "        vertical-align: middle;\n",
       "    }\n",
       "\n",
       "    .dataframe tbody tr th {\n",
       "        vertical-align: top;\n",
       "    }\n",
       "\n",
       "    .dataframe thead th {\n",
       "        text-align: right;\n",
       "    }\n",
       "</style>\n",
       "<table border=\"1\" class=\"dataframe\">\n",
       "  <thead>\n",
       "    <tr style=\"text-align: right;\">\n",
       "      <th></th>\n",
       "      <th>price</th>\n",
       "    </tr>\n",
       "    <tr>\n",
       "      <th>time</th>\n",
       "      <th></th>\n",
       "    </tr>\n",
       "  </thead>\n",
       "  <tbody>\n",
       "    <tr>\n",
       "      <th>2019-12-22 12:04:36.569</th>\n",
       "      <td>7167.743506</td>\n",
       "    </tr>\n",
       "    <tr>\n",
       "      <th>2019-12-22 13:04:30.340</th>\n",
       "      <td>7170.256951</td>\n",
       "    </tr>\n",
       "    <tr>\n",
       "      <th>2019-12-22 14:04:29.225</th>\n",
       "      <td>7169.511733</td>\n",
       "    </tr>\n",
       "    <tr>\n",
       "      <th>2019-12-22 15:00:40.948</th>\n",
       "      <td>7171.993227</td>\n",
       "    </tr>\n",
       "    <tr>\n",
       "      <th>2019-12-22 16:07:45.300</th>\n",
       "      <td>7187.891321</td>\n",
       "    </tr>\n",
       "    <tr>\n",
       "      <th>2019-12-22 17:04:50.482</th>\n",
       "      <td>7227.293974</td>\n",
       "    </tr>\n",
       "    <tr>\n",
       "      <th>2019-12-22 18:04:40.564</th>\n",
       "      <td>7300.630717</td>\n",
       "    </tr>\n",
       "    <tr>\n",
       "      <th>2019-12-22 19:04:27.252</th>\n",
       "      <td>7390.604203</td>\n",
       "    </tr>\n",
       "    <tr>\n",
       "      <th>2019-12-22 20:04:17.411</th>\n",
       "      <td>7410.593050</td>\n",
       "    </tr>\n",
       "    <tr>\n",
       "      <th>2019-12-22 21:02:37.532</th>\n",
       "      <td>7405.145847</td>\n",
       "    </tr>\n",
       "  </tbody>\n",
       "</table>\n",
       "</div>"
      ],
      "text/plain": [
       "                               price\n",
       "time                                \n",
       "2019-12-22 12:04:36.569  7167.743506\n",
       "2019-12-22 13:04:30.340  7170.256951\n",
       "2019-12-22 14:04:29.225  7169.511733\n",
       "2019-12-22 15:00:40.948  7171.993227\n",
       "2019-12-22 16:07:45.300  7187.891321\n",
       "2019-12-22 17:04:50.482  7227.293974\n",
       "2019-12-22 18:04:40.564  7300.630717\n",
       "2019-12-22 19:04:27.252  7390.604203\n",
       "2019-12-22 20:04:17.411  7410.593050\n",
       "2019-12-22 21:02:37.532  7405.145847"
      ]
     },
     "execution_count": 12,
     "metadata": {},
     "output_type": "execute_result"
    }
   ],
   "source": [
    "df_bc.set_index('time', inplace=True)\n",
    "df_bc.head(10)"
   ]
  },
  {
   "cell_type": "code",
   "execution_count": 13,
   "metadata": {},
   "outputs": [
    {
     "data": {
      "text/html": [
       "<div>\n",
       "<style scoped>\n",
       "    .dataframe tbody tr th:only-of-type {\n",
       "        vertical-align: middle;\n",
       "    }\n",
       "\n",
       "    .dataframe tbody tr th {\n",
       "        vertical-align: top;\n",
       "    }\n",
       "\n",
       "    .dataframe thead th {\n",
       "        text-align: right;\n",
       "    }\n",
       "</style>\n",
       "<table border=\"1\" class=\"dataframe\">\n",
       "  <thead>\n",
       "    <tr style=\"text-align: right;\">\n",
       "      <th></th>\n",
       "      <th>price</th>\n",
       "    </tr>\n",
       "    <tr>\n",
       "      <th>time</th>\n",
       "      <th></th>\n",
       "    </tr>\n",
       "  </thead>\n",
       "  <tbody>\n",
       "    <tr>\n",
       "      <th>2019-12-22 12:05:13.519</th>\n",
       "      <td>0.002085</td>\n",
       "    </tr>\n",
       "    <tr>\n",
       "      <th>2019-12-22 13:05:39.606</th>\n",
       "      <td>0.002086</td>\n",
       "    </tr>\n",
       "    <tr>\n",
       "      <th>2019-12-22 14:07:30.207</th>\n",
       "      <td>0.002084</td>\n",
       "    </tr>\n",
       "    <tr>\n",
       "      <th>2019-12-22 15:07:43.760</th>\n",
       "      <td>0.002082</td>\n",
       "    </tr>\n",
       "    <tr>\n",
       "      <th>2019-12-22 16:07:24.698</th>\n",
       "      <td>0.002080</td>\n",
       "    </tr>\n",
       "    <tr>\n",
       "      <th>2019-12-22 17:07:46.834</th>\n",
       "      <td>0.002088</td>\n",
       "    </tr>\n",
       "    <tr>\n",
       "      <th>2019-12-22 18:07:46.175</th>\n",
       "      <td>0.002103</td>\n",
       "    </tr>\n",
       "    <tr>\n",
       "      <th>2019-12-22 19:09:12.456</th>\n",
       "      <td>0.002111</td>\n",
       "    </tr>\n",
       "    <tr>\n",
       "      <th>2019-12-22 20:07:40.676</th>\n",
       "      <td>0.002112</td>\n",
       "    </tr>\n",
       "    <tr>\n",
       "      <th>2019-12-22 21:07:52.716</th>\n",
       "      <td>0.002110</td>\n",
       "    </tr>\n",
       "  </tbody>\n",
       "</table>\n",
       "</div>"
      ],
      "text/plain": [
       "                            price\n",
       "time                             \n",
       "2019-12-22 12:05:13.519  0.002085\n",
       "2019-12-22 13:05:39.606  0.002086\n",
       "2019-12-22 14:07:30.207  0.002084\n",
       "2019-12-22 15:07:43.760  0.002082\n",
       "2019-12-22 16:07:24.698  0.002080\n",
       "2019-12-22 17:07:46.834  0.002088\n",
       "2019-12-22 18:07:46.175  0.002103\n",
       "2019-12-22 19:09:12.456  0.002111\n",
       "2019-12-22 20:07:40.676  0.002112\n",
       "2019-12-22 21:07:52.716  0.002110"
      ]
     },
     "execution_count": 13,
     "metadata": {},
     "output_type": "execute_result"
    }
   ],
   "source": [
    "df_dc = pd.DataFrame(j_dc['prices'], columns=['time', 'price'])\n",
    "df_dc['time'] = pd.to_datetime(df_dc['time'], unit='ms')\n",
    "\n",
    "df_dc.set_index('time', inplace=True)\n",
    "df_dc.head(10)"
   ]
  },
  {
   "cell_type": "code",
   "execution_count": 14,
   "metadata": {},
   "outputs": [
    {
     "data": {
      "text/plain": [
       "<matplotlib.axes._subplots.AxesSubplot at 0x7f46844b7460>"
      ]
     },
     "execution_count": 14,
     "metadata": {},
     "output_type": "execute_result"
    },
    {
     "data": {
      "image/png": "[encoded data removed]",
      "text/plain": [
       "<Figure size 432x288 with 1 Axes>"
      ]
     },
     "metadata": {
      "needs_background": "light"
     },
     "output_type": "display_data"
    }
   ],
   "source": [
    "df_bc.plot()"
   ]
  },
  {
   "cell_type": "markdown",
   "metadata": {},
   "source": [
    "![logo](Dogecoin_logo.png)"
   ]
  },
  {
   "cell_type": "code",
   "execution_count": 15,
   "metadata": {},
   "outputs": [
    {
     "data": {
      "text/plain": [
       "<matplotlib.axes._subplots.AxesSubplot at 0x7f46823dcfd0>"
      ]
     },
     "execution_count": 15,
     "metadata": {},
     "output_type": "execute_result"
    },
    {
     "data": {
      "image/png": "[encoded data removed]",
      "text/plain": [
       "<Figure size 432x288 with 1 Axes>"
      ]
     },
     "metadata": {
      "needs_background": "light"
     },
     "output_type": "display_data"
    }
   ],
   "source": [
    "df_dc.plot()"
   ]
  },
  {
   "cell_type": "markdown",
   "metadata": {},
   "source": [
    "# top ten coins report"
   ]
  },
  {
   "cell_type": "code",
   "execution_count": 16,
   "metadata": {},
   "outputs": [],
   "source": [
    "url = base + 'coins/list'"
   ]
  },
  {
   "cell_type": "code",
   "execution_count": 17,
   "metadata": {},
   "outputs": [
    {
     "data": {
      "text/html": [
       "<div>\n",
       "<style scoped>\n",
       "    .dataframe tbody tr th:only-of-type {\n",
       "        vertical-align: middle;\n",
       "    }\n",
       "\n",
       "    .dataframe tbody tr th {\n",
       "        vertical-align: top;\n",
       "    }\n",
       "\n",
       "    .dataframe thead th {\n",
       "        text-align: right;\n",
       "    }\n",
       "</style>\n",
       "<table border=\"1\" class=\"dataframe\">\n",
       "  <thead>\n",
       "    <tr style=\"text-align: right;\">\n",
       "      <th></th>\n",
       "      <th>id</th>\n",
       "      <th>symbol</th>\n",
       "      <th>name</th>\n",
       "    </tr>\n",
       "  </thead>\n",
       "  <tbody>\n",
       "    <tr>\n",
       "      <th>0</th>\n",
       "      <td>01coin</td>\n",
       "      <td>zoc</td>\n",
       "      <td>01coin</td>\n",
       "    </tr>\n",
       "    <tr>\n",
       "      <th>1</th>\n",
       "      <td>02-token</td>\n",
       "      <td>o2t</td>\n",
       "      <td>O2 Token</td>\n",
       "    </tr>\n",
       "    <tr>\n",
       "      <th>2</th>\n",
       "      <td>0chain</td>\n",
       "      <td>zcn</td>\n",
       "      <td>0chain</td>\n",
       "    </tr>\n",
       "    <tr>\n",
       "      <th>3</th>\n",
       "      <td>0x</td>\n",
       "      <td>zrx</td>\n",
       "      <td>0x</td>\n",
       "    </tr>\n",
       "    <tr>\n",
       "      <th>4</th>\n",
       "      <td>0xcert</td>\n",
       "      <td>zxc</td>\n",
       "      <td>0xcert</td>\n",
       "    </tr>\n",
       "    <tr>\n",
       "      <th>5</th>\n",
       "      <td>0xdark</td>\n",
       "      <td>oxd</td>\n",
       "      <td>0xDark</td>\n",
       "    </tr>\n",
       "    <tr>\n",
       "      <th>6</th>\n",
       "      <td>10m-token</td>\n",
       "      <td>10mt</td>\n",
       "      <td>10M Token</td>\n",
       "    </tr>\n",
       "    <tr>\n",
       "      <th>7</th>\n",
       "      <td>10x-long-algorand-token</td>\n",
       "      <td>algomoon</td>\n",
       "      <td>10X Long Algorand Token</td>\n",
       "    </tr>\n",
       "    <tr>\n",
       "      <th>8</th>\n",
       "      <td>10x-long-altcoin-index-token</td>\n",
       "      <td>altmoon</td>\n",
       "      <td>10X Long Altcoin Index Token</td>\n",
       "    </tr>\n",
       "    <tr>\n",
       "      <th>9</th>\n",
       "      <td>10x-long-bitcoin-cash-token</td>\n",
       "      <td>bchmoon</td>\n",
       "      <td>10X Long Bitcoin Cash Token</td>\n",
       "    </tr>\n",
       "  </tbody>\n",
       "</table>\n",
       "</div>"
      ],
      "text/plain": [
       "                             id    symbol                          name\n",
       "0                        01coin       zoc                        01coin\n",
       "1                      02-token       o2t                      O2 Token\n",
       "2                        0chain       zcn                        0chain\n",
       "3                            0x       zrx                            0x\n",
       "4                        0xcert       zxc                        0xcert\n",
       "5                        0xdark       oxd                        0xDark\n",
       "6                     10m-token      10mt                     10M Token\n",
       "7       10x-long-algorand-token  algomoon       10X Long Algorand Token\n",
       "8  10x-long-altcoin-index-token   altmoon  10X Long Altcoin Index Token\n",
       "9   10x-long-bitcoin-cash-token   bchmoon   10X Long Bitcoin Cash Token"
      ]
     },
     "execution_count": 17,
     "metadata": {},
     "output_type": "execute_result"
    }
   ],
   "source": [
    "result = requests.get(url)\n",
    "j = result.json()\n",
    "\n",
    "df_list = pd.DataFrame(j)\n",
    "df_list.head(10)"
   ]
  },
  {
   "cell_type": "code",
   "execution_count": 29,
   "metadata": {},
   "outputs": [
    {
     "data": {
      "text/plain": [
       "0                          01coin\n",
       "1                        02-token\n",
       "2                          0chain\n",
       "3                              0x\n",
       "4                          0xcert\n",
       "5                          0xdark\n",
       "6                       10m-token\n",
       "7         10x-long-algorand-token\n",
       "8    10x-long-altcoin-index-token\n",
       "9     10x-long-bitcoin-cash-token\n",
       "Name: id, dtype: object"
      ]
     },
     "execution_count": 29,
     "metadata": {},
     "output_type": "execute_result"
    }
   ],
   "source": [
    "data_df = df_list.iloc[:10, 0]\n",
    "data_df"
   ]
  },
  {
   "cell_type": "code",
   "execution_count": 30,
   "metadata": {},
   "outputs": [
    {
     "data": {
      "text/html": [
       "<div>\n",
       "<style scoped>\n",
       "    .dataframe tbody tr th:only-of-type {\n",
       "        vertical-align: middle;\n",
       "    }\n",
       "\n",
       "    .dataframe tbody tr th {\n",
       "        vertical-align: top;\n",
       "    }\n",
       "\n",
       "    .dataframe thead th {\n",
       "        text-align: right;\n",
       "    }\n",
       "</style>\n",
       "<table border=\"1\" class=\"dataframe\">\n",
       "  <thead>\n",
       "    <tr style=\"text-align: right;\">\n",
       "      <th></th>\n",
       "      <th>date_time</th>\n",
       "      <th>price</th>\n",
       "      <th>file_name</th>\n",
       "    </tr>\n",
       "  </thead>\n",
       "  <tbody>\n",
       "    <tr>\n",
       "      <th>0</th>\n",
       "      <td>1553731200000</td>\n",
       "      <td>0.003594</td>\n",
       "      <td>01coin</td>\n",
       "    </tr>\n",
       "    <tr>\n",
       "      <th>1</th>\n",
       "      <td>1553817600000</td>\n",
       "      <td>0.003465</td>\n",
       "      <td>01coin</td>\n",
       "    </tr>\n",
       "    <tr>\n",
       "      <th>2</th>\n",
       "      <td>1553904000000</td>\n",
       "      <td>0.003532</td>\n",
       "      <td>01coin</td>\n",
       "    </tr>\n",
       "    <tr>\n",
       "      <th>3</th>\n",
       "      <td>1553990400000</td>\n",
       "      <td>0.003870</td>\n",
       "      <td>01coin</td>\n",
       "    </tr>\n",
       "    <tr>\n",
       "      <th>4</th>\n",
       "      <td>1554076800000</td>\n",
       "      <td>0.003883</td>\n",
       "      <td>01coin</td>\n",
       "    </tr>\n",
       "    <tr>\n",
       "      <th>...</th>\n",
       "      <td>...</td>\n",
       "      <td>...</td>\n",
       "      <td>...</td>\n",
       "    </tr>\n",
       "    <tr>\n",
       "      <th>49</th>\n",
       "      <td>1579305600000</td>\n",
       "      <td>0.000029</td>\n",
       "      <td>10x-long-bitcoin-cash-token</td>\n",
       "    </tr>\n",
       "    <tr>\n",
       "      <th>50</th>\n",
       "      <td>1579392000000</td>\n",
       "      <td>0.000012</td>\n",
       "      <td>10x-long-bitcoin-cash-token</td>\n",
       "    </tr>\n",
       "    <tr>\n",
       "      <th>51</th>\n",
       "      <td>1579478400000</td>\n",
       "      <td>0.000008</td>\n",
       "      <td>10x-long-bitcoin-cash-token</td>\n",
       "    </tr>\n",
       "    <tr>\n",
       "      <th>52</th>\n",
       "      <td>1579564800000</td>\n",
       "      <td>0.000007</td>\n",
       "      <td>10x-long-bitcoin-cash-token</td>\n",
       "    </tr>\n",
       "    <tr>\n",
       "      <th>53</th>\n",
       "      <td>1579598561000</td>\n",
       "      <td>0.000007</td>\n",
       "      <td>10x-long-bitcoin-cash-token</td>\n",
       "    </tr>\n",
       "  </tbody>\n",
       "</table>\n",
       "<p>1866 rows × 3 columns</p>\n",
       "</div>"
      ],
      "text/plain": [
       "        date_time     price                    file_name\n",
       "0   1553731200000  0.003594                       01coin\n",
       "1   1553817600000  0.003465                       01coin\n",
       "2   1553904000000  0.003532                       01coin\n",
       "3   1553990400000  0.003870                       01coin\n",
       "4   1554076800000  0.003883                       01coin\n",
       "..            ...       ...                          ...\n",
       "49  1579305600000  0.000029  10x-long-bitcoin-cash-token\n",
       "50  1579392000000  0.000012  10x-long-bitcoin-cash-token\n",
       "51  1579478400000  0.000008  10x-long-bitcoin-cash-token\n",
       "52  1579564800000  0.000007  10x-long-bitcoin-cash-token\n",
       "53  1579598561000  0.000007  10x-long-bitcoin-cash-token\n",
       "\n",
       "[1866 rows x 3 columns]"
      ]
     },
     "execution_count": 30,
     "metadata": {},
     "output_type": "execute_result"
    }
   ],
   "source": [
    "data_list = []\n",
    "\n",
    "for i in data_df:\n",
    "    base = \"http://api.coingecko.com/api/v3/coins/\"\n",
    "    url = base + i + \"/market_chart?vs_currency=usd&days=300\"\n",
    "    result = requests.get(url)\n",
    "    data = result.json()\n",
    "    data_df = pd.DataFrame(data['prices'], columns = ['date_time','price'])\n",
    "    data_df[\"file_name\"] = i\n",
    "    data_list.append(data_df)\n",
    "\n",
    "data_report = pd.concat(data_list)\n",
    "data_report"
   ]
  },
  {
   "cell_type": "code",
   "execution_count": 31,
   "metadata": {},
   "outputs": [
    {
     "data": {
      "text/html": [
       "<div>\n",
       "<style scoped>\n",
       "    .dataframe tbody tr th:only-of-type {\n",
       "        vertical-align: middle;\n",
       "    }\n",
       "\n",
       "    .dataframe tbody tr th {\n",
       "        vertical-align: top;\n",
       "    }\n",
       "\n",
       "    .dataframe thead th {\n",
       "        text-align: right;\n",
       "    }\n",
       "</style>\n",
       "<table border=\"1\" class=\"dataframe\">\n",
       "  <thead>\n",
       "    <tr style=\"text-align: right;\">\n",
       "      <th></th>\n",
       "      <th>price</th>\n",
       "      <th>file_name</th>\n",
       "    </tr>\n",
       "    <tr>\n",
       "      <th>date_time</th>\n",
       "      <th></th>\n",
       "      <th></th>\n",
       "    </tr>\n",
       "  </thead>\n",
       "  <tbody>\n",
       "    <tr>\n",
       "      <th>1553731200000</th>\n",
       "      <td>0.003594</td>\n",
       "      <td>01coin</td>\n",
       "    </tr>\n",
       "    <tr>\n",
       "      <th>1553817600000</th>\n",
       "      <td>0.003465</td>\n",
       "      <td>01coin</td>\n",
       "    </tr>\n",
       "    <tr>\n",
       "      <th>1553904000000</th>\n",
       "      <td>0.003532</td>\n",
       "      <td>01coin</td>\n",
       "    </tr>\n",
       "    <tr>\n",
       "      <th>1553990400000</th>\n",
       "      <td>0.003870</td>\n",
       "      <td>01coin</td>\n",
       "    </tr>\n",
       "    <tr>\n",
       "      <th>1554076800000</th>\n",
       "      <td>0.003883</td>\n",
       "      <td>01coin</td>\n",
       "    </tr>\n",
       "  </tbody>\n",
       "</table>\n",
       "</div>"
      ],
      "text/plain": [
       "                  price file_name\n",
       "date_time                        \n",
       "1553731200000  0.003594    01coin\n",
       "1553817600000  0.003465    01coin\n",
       "1553904000000  0.003532    01coin\n",
       "1553990400000  0.003870    01coin\n",
       "1554076800000  0.003883    01coin"
      ]
     },
     "execution_count": 31,
     "metadata": {},
     "output_type": "execute_result"
    }
   ],
   "source": [
    "data_report = data_report.set_index('date_time')\n",
    "\n",
    "data_report.head()"
   ]
  },
  {
   "cell_type": "code",
   "execution_count": 32,
   "metadata": {},
   "outputs": [],
   "source": [
    "data_report.to_csv('top_ten_report.csv')"
   ]
  },
  {
   "cell_type": "code",
   "execution_count": 33,
   "metadata": {},
   "outputs": [
    {
     "data": {
      "text/html": [
       "<div>\n",
       "<style scoped>\n",
       "    .dataframe tbody tr th:only-of-type {\n",
       "        vertical-align: middle;\n",
       "    }\n",
       "\n",
       "    .dataframe tbody tr th {\n",
       "        vertical-align: top;\n",
       "    }\n",
       "\n",
       "    .dataframe thead th {\n",
       "        text-align: right;\n",
       "    }\n",
       "</style>\n",
       "<table border=\"1\" class=\"dataframe\">\n",
       "  <thead>\n",
       "    <tr style=\"text-align: right;\">\n",
       "      <th></th>\n",
       "      <th>date_time</th>\n",
       "      <th>price</th>\n",
       "      <th>file_name</th>\n",
       "    </tr>\n",
       "  </thead>\n",
       "  <tbody>\n",
       "    <tr>\n",
       "      <th>0</th>\n",
       "      <td>1553731200000</td>\n",
       "      <td>0.003594</td>\n",
       "      <td>01coin</td>\n",
       "    </tr>\n",
       "    <tr>\n",
       "      <th>1</th>\n",
       "      <td>1553817600000</td>\n",
       "      <td>0.003465</td>\n",
       "      <td>01coin</td>\n",
       "    </tr>\n",
       "    <tr>\n",
       "      <th>2</th>\n",
       "      <td>1553904000000</td>\n",
       "      <td>0.003532</td>\n",
       "      <td>01coin</td>\n",
       "    </tr>\n",
       "    <tr>\n",
       "      <th>3</th>\n",
       "      <td>1553990400000</td>\n",
       "      <td>0.003870</td>\n",
       "      <td>01coin</td>\n",
       "    </tr>\n",
       "    <tr>\n",
       "      <th>4</th>\n",
       "      <td>1554076800000</td>\n",
       "      <td>0.003883</td>\n",
       "      <td>01coin</td>\n",
       "    </tr>\n",
       "    <tr>\n",
       "      <th>...</th>\n",
       "      <td>...</td>\n",
       "      <td>...</td>\n",
       "      <td>...</td>\n",
       "    </tr>\n",
       "    <tr>\n",
       "      <th>1861</th>\n",
       "      <td>1579305600000</td>\n",
       "      <td>0.000029</td>\n",
       "      <td>10x-long-bitcoin-cash-token</td>\n",
       "    </tr>\n",
       "    <tr>\n",
       "      <th>1862</th>\n",
       "      <td>1579392000000</td>\n",
       "      <td>0.000012</td>\n",
       "      <td>10x-long-bitcoin-cash-token</td>\n",
       "    </tr>\n",
       "    <tr>\n",
       "      <th>1863</th>\n",
       "      <td>1579478400000</td>\n",
       "      <td>0.000008</td>\n",
       "      <td>10x-long-bitcoin-cash-token</td>\n",
       "    </tr>\n",
       "    <tr>\n",
       "      <th>1864</th>\n",
       "      <td>1579564800000</td>\n",
       "      <td>0.000007</td>\n",
       "      <td>10x-long-bitcoin-cash-token</td>\n",
       "    </tr>\n",
       "    <tr>\n",
       "      <th>1865</th>\n",
       "      <td>1579598561000</td>\n",
       "      <td>0.000007</td>\n",
       "      <td>10x-long-bitcoin-cash-token</td>\n",
       "    </tr>\n",
       "  </tbody>\n",
       "</table>\n",
       "<p>1866 rows × 3 columns</p>\n",
       "</div>"
      ],
      "text/plain": [
       "          date_time     price                    file_name\n",
       "0     1553731200000  0.003594                       01coin\n",
       "1     1553817600000  0.003465                       01coin\n",
       "2     1553904000000  0.003532                       01coin\n",
       "3     1553990400000  0.003870                       01coin\n",
       "4     1554076800000  0.003883                       01coin\n",
       "...             ...       ...                          ...\n",
       "1861  1579305600000  0.000029  10x-long-bitcoin-cash-token\n",
       "1862  1579392000000  0.000012  10x-long-bitcoin-cash-token\n",
       "1863  1579478400000  0.000008  10x-long-bitcoin-cash-token\n",
       "1864  1579564800000  0.000007  10x-long-bitcoin-cash-token\n",
       "1865  1579598561000  0.000007  10x-long-bitcoin-cash-token\n",
       "\n",
       "[1866 rows x 3 columns]"
      ]
     },
     "execution_count": 33,
     "metadata": {},
     "output_type": "execute_result"
    }
   ],
   "source": [
    "check = pd.read_csv('top_ten_report.csv')\n",
    "check"
   ]
  },
  {
   "cell_type": "code",
   "execution_count": null,
   "metadata": {},
   "outputs": [],
   "source": []
  }
 ],
 "metadata": {
  "kernelspec": {
   "display_name": "Python 3",
   "language": "python",
   "name": "python3"
  },
  "language_info": {
   "codemirror_mode": {
    "name": "ipython",
    "version": 3
   },
   "file_extension": ".py",
   "mimetype": "text/x-python",
   "name": "python",
   "nbconvert_exporter": "python",
   "pygments_lexer": "ipython3",
   "version": "3.8.1"
  }
 },
 "nbformat": 4,
 "nbformat_minor": 4
}
