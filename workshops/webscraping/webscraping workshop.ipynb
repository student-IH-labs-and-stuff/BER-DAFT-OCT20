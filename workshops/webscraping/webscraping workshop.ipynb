{
 "cells": [
  {
   "cell_type": "markdown",
   "metadata": {},
   "source": [
    "# Webscraping Workshop"
   ]
  },
  {
   "cell_type": "markdown",
   "metadata": {},
   "source": [
    "* So far we took the datasource for granted\n",
    "* We got `.csv`s, `.xlsx`'s, etc. ... data we got with SQL-queries\n",
    "* What do we do, if there are **no datasets**?\n",
    "* Webscraping = Getting data you're \"not supposed\" to get. What does \"not supposed to get\" mean? Unclear...\n",
    "* In **contrast**: API's. API=\"Here is the interface for you, I'm inviting you to buid code around it, so you can get my data in an automated way\"\n",
    "* Automated process of getting data from a website\n",
    "* Always try to avoid webscraping, if you can get the information otherwise - may not be worth the time\n",
    "* Because: **Typical scenario**,\n",
    "    * you build a webscraping routing in Python,\n",
    "    * spend maybe 2 weeks on it, getting data for your department,\n",
    "    * you get data out of it, but then the creators of that website make a significant change\n",
    "    * And your webscraping script is broken and you have to fix it.\n",
    "    * don't threfore invest time in making code robust! It might be for the birds tomorrow anyway.\n",
    "    \n",
    " Today we're going to scrape a ranking on course report:\n",
    "https://www.coursereport.com/best-coding-bootcamps"
   ]
  },
  {
   "cell_type": "markdown",
   "metadata": {},
   "source": [
    "* First we have to understand:\n",
    "**How do computers see websites?** \n",
    "\n",
    "* Because the way a website is designed is obviously very different compared to how a computer sees it (UX/UI, webdesign, a whole industry)\n",
    "\n",
    "* [SHOW INSPECT ELEMENT]\n",
    "* html = hypertext markup language\n",
    "* What does all these characters in the code mean? Chevron characters (`<>`), these `div`'s etc...\n",
    "* Good news: As data analysts, we don't have to exactly know.\n",
    "* All we basically need to know, is \n",
    "    * How to find within the HTML code what we're interested in [INSPECT ELEMENT]\n",
    "    * And a bit of knowledge about the HTML DOM (Document Object Model)\n",
    "    \n",
    "* [SHOW, EXPLAIN DOM] https://www.w3schools.com/whatis/whatis_htmldom.asp\n",
    "    * DOM tree tells your browser, how to render the website\n",
    "    * Onion model!\n",
    "    * `<body>` actual content\n",
    "    * `<head>` with a lot of metadata, tracking cookies, things that have to load in the background (`.js`'s)\n",
    "    \n",
    "* So what do we want?\n",
    "    * Aim: a Pandas dataframe !\n",
    "    \n",
    "School   | rating | reviews  | no. of courses |\n",
    "---------| ------ | -------- | -------------- |\n",
    "Ironhack | 4.5    | 345      | 7              |\n",
    "\n",
    "* But: If I only look at the DOM tree, what should I look for?\n",
    "    * Take advantage of the tags!\n",
    "    * The tags are your **breadcrumbs**\n",
    "    * Best **breadcumbs** for data analysts: `<ul>` for \"unordered list\", every item is an `<li>` tag:\n",
    "    ```html\n",
    "    <ul>\n",
    "        <li> ... </li>\n",
    "        <li> ... </li>\n",
    "        <li> ... </li>\n",
    "    </ul>\n",
    "    ```\n",
    "    \n",
    "* Webscraping: Following the breadcumbs.\n",
    "    * How in Python?\n",
    "    * The following-the-breadcrumbs or Walking the DOM-tree library is called `BeautifulSoup` (check https://anaconda.org/anaconda/beautifulsoup4 ), which is in some way a sorting box. Takes all the content of the html code"
   ]
  },
  {
   "cell_type": "markdown",
   "metadata": {},
   "source": [
    "# Scraping coursereport!\n",
    "\n",
    "### our plan:\n",
    "\n",
    "1. Send `GET` **request** to https://www.coursereport.com/best-coding-bootcamps to get the html code\n",
    "2. Throw html into a **soup**\n",
    "3. Extract desired data\n",
    "    * rank\n",
    "    * name\n",
    "    * avg. rating\n",
    "    * stars\n",
    "    * no. of reviews\n",
    "    * locations\n",
    "    * description"
   ]
  },
  {
   "cell_type": "markdown",
   "metadata": {},
   "source": [
    "# Install necessary packages into our environment"
   ]
  },
  {
   "cell_type": "markdown",
   "metadata": {},
   "source": [
    "making sure we have the package `request` and `beautifulsoup4` installed, otherwise install it with\n",
    "\n",
    "```bash\n",
    "$ conda install -c anaconda requests\n",
    "$ conda install -c anaconda beautifulsoup4 \n",
    "```"
   ]
  },
  {
   "cell_type": "code",
   "execution_count": null,
   "metadata": {},
   "outputs": [],
   "source": [
    "!conda list"
   ]
  },
  {
   "cell_type": "markdown",
   "metadata": {},
   "source": [
    "# import necessary libraries"
   ]
  },
  {
   "cell_type": "code",
   "execution_count": 2,
   "metadata": {},
   "outputs": [],
   "source": [
    "import requests\n",
    "import urllib\n",
    "from bs4 import BeautifulSoup\n",
    "\n",
    "import pandas as pd\n",
    "import re  # for later"
   ]
  },
  {
   "cell_type": "markdown",
   "metadata": {},
   "source": [
    "# 1. get HTML"
   ]
  },
  {
   "cell_type": "markdown",
   "metadata": {},
   "source": [
    "First we need to send the `GET` request to get the whole HTML code, to then in a next step throw it into our soup"
   ]
  },
  {
   "cell_type": "code",
   "execution_count": 3,
   "metadata": {},
   "outputs": [],
   "source": [
    "url = \"https://www.coursereport.com/best-coding-bootcamps\""
   ]
  },
  {
   "cell_type": "code",
   "execution_count": 4,
   "metadata": {},
   "outputs": [
    {
     "data": {
      "text/plain": [
       "<Response [200]>"
      ]
     },
     "execution_count": 4,
     "metadata": {},
     "output_type": "execute_result"
    }
   ],
   "source": [
    "requests.get(url)"
   ]
  },
  {
   "cell_type": "markdown",
   "metadata": {},
   "source": [
    "Code `200` means: Success! Reassure for example here: [httpstatuscodes](https://www.restapitutorial.com/httpstatuscodes.html)"
   ]
  },
  {
   "cell_type": "markdown",
   "metadata": {},
   "source": [
    "what happens if we have a typo?"
   ]
  },
  {
   "cell_type": "code",
   "execution_count": 5,
   "metadata": {},
   "outputs": [
    {
     "data": {
      "text/plain": [
       "<Response [404]>"
      ]
     },
     "execution_count": 5,
     "metadata": {},
     "output_type": "execute_result"
    }
   ],
   "source": [
    "requests.get(\"https://www.coursereport.com/best-cooding-bootcamps\")"
   ]
  },
  {
   "cell_type": "markdown",
   "metadata": {},
   "source": [
    "let's store the response object into a variable, so that we can work with it more easily"
   ]
  },
  {
   "cell_type": "code",
   "execution_count": 6,
   "metadata": {},
   "outputs": [],
   "source": [
    "response = requests.get(url)"
   ]
  },
  {
   "cell_type": "code",
   "execution_count": 7,
   "metadata": {},
   "outputs": [
    {
     "name": "stdout",
     "output_type": "stream",
     "text": [
      "200\n"
     ]
    }
   ],
   "source": [
    "print(response.status_code)"
   ]
  },
  {
   "cell_type": "markdown",
   "metadata": {},
   "source": [
    "Code `200` means: Success! Reassure for example here: [httpstatuscodes](https://www.restapitutorial.com/httpstatuscodes.html)\n",
    "\n",
    "Let's check the response's content:"
   ]
  },
  {
   "cell_type": "code",
   "execution_count": null,
   "metadata": {},
   "outputs": [],
   "source": [
    "response.content"
   ]
  },
  {
   "cell_type": "markdown",
   "metadata": {},
   "source": [
    "`b\"\"` - a byte string, not important for us right now\n",
    "similar to `f\"\"` string... You can look it up\n",
    "\n",
    "Somewhere in there is our data\n",
    "Beautifulsoup is going to help us find it"
   ]
  },
  {
   "cell_type": "markdown",
   "metadata": {},
   "source": [
    "# 2. Creating a soup"
   ]
  },
  {
   "cell_type": "markdown",
   "metadata": {},
   "source": [
    "[OPEN BROWSER WITH INSPECTED ELEMENT SIDE-BY-SIDE TO NOTEBOOK]"
   ]
  },
  {
   "cell_type": "code",
   "execution_count": 9,
   "metadata": {},
   "outputs": [],
   "source": [
    "soup = BeautifulSoup(response.content, \"html.parser\")  # using the python built-in parser here"
   ]
  },
  {
   "cell_type": "markdown",
   "metadata": {},
   "source": [
    "Having a not appropriate parser is a common source of problems when you try to webscrape (for example heavy html-5 content). So changing the parser can solve this problem, check https://www.crummy.com/software/BeautifulSoup/bs4/doc/#installing-a-parser\n",
    "\n",
    "* not appropriate parser -> not all content in the response"
   ]
  },
  {
   "cell_type": "code",
   "execution_count": null,
   "metadata": {},
   "outputs": [],
   "source": [
    "soup"
   ]
  },
  {
   "cell_type": "markdown",
   "metadata": {},
   "source": [
    "looks ugly, let's print a bit \"prettier\""
   ]
  },
  {
   "cell_type": "code",
   "execution_count": null,
   "metadata": {},
   "outputs": [],
   "source": [
    "soup.prettify()"
   ]
  },
  {
   "cell_type": "code",
   "execution_count": 12,
   "metadata": {},
   "outputs": [
    {
     "data": {
      "text/plain": [
       "bs4.BeautifulSoup"
      ]
     },
     "execution_count": 12,
     "metadata": {},
     "output_type": "execute_result"
    }
   ],
   "source": [
    "type(soup)"
   ]
  },
  {
   "cell_type": "markdown",
   "metadata": {},
   "source": [
    "how do we deal with it in Python?\n",
    "By addressing various attributes of our soup:"
   ]
  },
  {
   "cell_type": "code",
   "execution_count": null,
   "metadata": {},
   "outputs": [],
   "source": [
    "soup.body"
   ]
  },
  {
   "cell_type": "code",
   "execution_count": null,
   "metadata": {},
   "outputs": [],
   "source": [
    "soup.head"
   ]
  },
  {
   "cell_type": "markdown",
   "metadata": {},
   "source": [
    "Returning the first `div` of the header"
   ]
  },
  {
   "cell_type": "code",
   "execution_count": null,
   "metadata": {},
   "outputs": [],
   "source": [
    "soup.body.div"
   ]
  },
  {
   "cell_type": "markdown",
   "metadata": {},
   "source": [
    "But which `div` is the right one? Check with [INSPECT ELEMENT]\n",
    "Need to uniquely identify the div of our interest. and for that, we use the `class=...` keyword\n",
    "* now we want to find `div` with `class=\"main-body\"`"
   ]
  },
  {
   "cell_type": "code",
   "execution_count": null,
   "metadata": {},
   "outputs": [],
   "source": [
    "soup.body.find(\"div\", class_=\"main-body\")"
   ]
  },
  {
   "cell_type": "markdown",
   "metadata": {},
   "source": [
    "* Note that it's `class_`, because `class` is a reserved keyword in python\n",
    "* how do we find more in that? Simple method chaining\n",
    "* narrowing it down, so that soup becomes smaller"
   ]
  },
  {
   "cell_type": "code",
   "execution_count": null,
   "metadata": {},
   "outputs": [],
   "source": [
    "(soup\n",
    " .body\n",
    " .find(\"div\", class_=\"main-body\")\n",
    " .find(\"div\", class_=\"longform-body container\")\n",
    " .find(\"div\", class_=\"row\")\n",
    " .find(\"div\", class_=\"col-md-11\")\n",
    " .find(\"ul\", id=\"schools\")\n",
    " .find_all(\"li\")  # result is a list\n",
    ")"
   ]
  },
  {
   "cell_type": "markdown",
   "metadata": {},
   "source": [
    "let's put it in a proper list"
   ]
  },
  {
   "cell_type": "code",
   "execution_count": 18,
   "metadata": {},
   "outputs": [],
   "source": [
    "school_list_items = list(soup\n",
    "                         .body\n",
    "                         .find(\"div\", class_=\"main-body\")\n",
    "                         .find(\"div\", class_=\"longform-body container\")\n",
    "                         .find(\"div\", class_=\"row\")\n",
    "                         .find(\"div\", class_=\"col-md-11\")\n",
    "                         .find(\"ul\", id=\"schools\")\n",
    "                         .find_all(\"li\")  # result is a list\n",
    "                        )"
   ]
  },
  {
   "cell_type": "code",
   "execution_count": null,
   "metadata": {},
   "outputs": [],
   "source": [
    "school_list_items"
   ]
  },
  {
   "cell_type": "markdown",
   "metadata": {},
   "source": [
    "But do we really have to walk down that way, swinging from div to div?\n",
    "Answer is **no**\n",
    "\n",
    "Ideally, this website has only one `ul` with `id=\"schools`"
   ]
  },
  {
   "cell_type": "code",
   "execution_count": 20,
   "metadata": {},
   "outputs": [],
   "source": [
    "school_list_items = list(soup.body\n",
    "                         .find(\"ul\", id=\"schools\")\n",
    "                         .find_all(\"li\")  # result is a list\n",
    "                        )"
   ]
  },
  {
   "cell_type": "code",
   "execution_count": null,
   "metadata": {},
   "outputs": [],
   "source": [
    "school_list_items"
   ]
  },
  {
   "cell_type": "markdown",
   "metadata": {},
   "source": [
    "So, our work process so far\n",
    "1. Send the request\n",
    "2. From the request, you get a response.\n",
    "3. Put that into a response object\n",
    "4. Put that into a soup\n",
    "5. Search the soup for your relevant stuff with the right `html` tag and unique identifier\n",
    "\n",
    "But still: I have a list of list items with the HTML code. But it's still HTML\n",
    "Nevertheless: I have broken down the problem to a smaler piece."
   ]
  },
  {
   "cell_type": "markdown",
   "metadata": {},
   "source": [
    "# 3. Extract data"
   ]
  },
  {
   "cell_type": "markdown",
   "metadata": {},
   "source": [
    "And our workflow is (recommended for scraping websites, but also a good problem solving approach in general)\n",
    "* First get it done for one list entry, then build a for loop or sth. like that"
   ]
  },
  {
   "cell_type": "markdown",
   "metadata": {},
   "source": [
    "**get rank and name**"
   ]
  },
  {
   "cell_type": "markdown",
   "metadata": {},
   "source": [
    "Check first item, then browse through it using html-tags as (python) object properties:"
   ]
  },
  {
   "cell_type": "code",
   "execution_count": 22,
   "metadata": {},
   "outputs": [
    {
     "data": {
      "text/plain": [
       "<a href=\"/schools/academia-de-codigo_\">1. &lt;Academia de Código_&gt;</a>"
      ]
     },
     "execution_count": 22,
     "metadata": {},
     "output_type": "execute_result"
    }
   ],
   "source": [
    "school_list_items[0].div.h3.a"
   ]
  },
  {
   "cell_type": "code",
   "execution_count": 23,
   "metadata": {},
   "outputs": [
    {
     "data": {
      "text/plain": [
       "['1. <Academia de Código_>']"
      ]
     },
     "execution_count": 23,
     "metadata": {},
     "output_type": "execute_result"
    }
   ],
   "source": [
    "school_list_items[0].div.h3.a.contents"
   ]
  },
  {
   "cell_type": "code",
   "execution_count": 24,
   "metadata": {},
   "outputs": [
    {
     "data": {
      "text/plain": [
       "'1. <Academia de Código_>'"
      ]
     },
     "execution_count": 24,
     "metadata": {},
     "output_type": "execute_result"
    }
   ],
   "source": [
    "school_list_items[0].div.h3.a.text"
   ]
  },
  {
   "cell_type": "markdown",
   "metadata": {},
   "source": [
    "So it seems: this way we can get the title for one school!"
   ]
  },
  {
   "cell_type": "markdown",
   "metadata": {},
   "source": [
    "**get avg. rating**"
   ]
  },
  {
   "cell_type": "code",
   "execution_count": 25,
   "metadata": {},
   "outputs": [
    {
     "data": {
      "text/plain": [
       "'Avg Rating: 4.96 (94 reviews)'"
      ]
     },
     "execution_count": 25,
     "metadata": {},
     "output_type": "execute_result"
    }
   ],
   "source": [
    "school_list_items[0].find(\"p\", class_=\"rating-number\").text"
   ]
  },
  {
   "cell_type": "markdown",
   "metadata": {},
   "source": [
    "**get stars**"
   ]
  },
  {
   "cell_type": "markdown",
   "metadata": {},
   "source": [
    "more tricky! [INSPECT HOW STARS ARE WRITTEN INTO CODE]\n",
    "* all stars are part of a `<p class=\"ratings\">`\n",
    "* with subsequent nested `<span>` tags"
   ]
  },
  {
   "cell_type": "markdown",
   "metadata": {},
   "source": [
    "**Get no. of reviews**"
   ]
  },
  {
   "cell_type": "code",
   "execution_count": 26,
   "metadata": {},
   "outputs": [
    {
     "data": {
      "text/plain": [
       "[<span class=\"icon-full_star\"></span>,\n",
       " <span class=\"icon-full_star\"></span>,\n",
       " <span class=\"icon-full_star\"></span>,\n",
       " <span class=\"icon-full_star\"></span>,\n",
       " <span class=\"icon-full_star\"></span>]"
      ]
     },
     "execution_count": 26,
     "metadata": {},
     "output_type": "execute_result"
    }
   ],
   "source": [
    "school_list_items[0].find(\"p\", class_=\"ratings\").find_all(\"span\")"
   ]
  },
  {
   "cell_type": "markdown",
   "metadata": {},
   "source": [
    "let's park it like that. We'll to the \"processing later\" in functions, where we turn this in actual numbers"
   ]
  },
  {
   "cell_type": "markdown",
   "metadata": {},
   "source": [
    "**get locations**"
   ]
  },
  {
   "cell_type": "code",
   "execution_count": 27,
   "metadata": {},
   "outputs": [
    {
     "data": {
      "text/plain": [
       "<span class=\"location\"><span class=\"icon-location\"></span><a href=\"/cities/fundao\">Fundão</a>, <a href=\"/cities/terceira-island\">Terceira Island</a>, <a href=\"/cities/porto\">Porto</a>, and 1 more...</span>"
      ]
     },
     "execution_count": 27,
     "metadata": {},
     "output_type": "execute_result"
    }
   ],
   "source": [
    "school_list_items[0].find(\"span\", class_=\"location\")"
   ]
  },
  {
   "cell_type": "markdown",
   "metadata": {},
   "source": [
    "Not exactly what we want, we want all the `a` tags"
   ]
  },
  {
   "cell_type": "code",
   "execution_count": 28,
   "metadata": {},
   "outputs": [
    {
     "data": {
      "text/plain": [
       "[<a href=\"/cities/fundao\">Fundão</a>,\n",
       " <a href=\"/cities/terceira-island\">Terceira Island</a>,\n",
       " <a href=\"/cities/porto\">Porto</a>]"
      ]
     },
     "execution_count": 28,
     "metadata": {},
     "output_type": "execute_result"
    }
   ],
   "source": [
    "school_list_items[0].find(\"span\", class_=\"location\").find_all(\"a\")"
   ]
  },
  {
   "cell_type": "markdown",
   "metadata": {},
   "source": [
    "Closer! Let's get only the locations! [IDEAS?]"
   ]
  },
  {
   "cell_type": "markdown",
   "metadata": {},
   "source": [
    "what are the individual elements of that? They are tags!"
   ]
  },
  {
   "cell_type": "code",
   "execution_count": 29,
   "metadata": {},
   "outputs": [
    {
     "data": {
      "text/plain": [
       "bs4.element.Tag"
      ]
     },
     "execution_count": 29,
     "metadata": {},
     "output_type": "execute_result"
    }
   ],
   "source": [
    "type(school_list_items[0].find(\"span\", class_=\"location\").find_all(\"a\")[0])"
   ]
  },
  {
   "cell_type": "markdown",
   "metadata": {},
   "source": [
    "and every tag has a `text` attribute"
   ]
  },
  {
   "cell_type": "code",
   "execution_count": 30,
   "metadata": {},
   "outputs": [
    {
     "data": {
      "text/plain": [
       "['Fundão', 'Terceira Island', 'Porto']"
      ]
     },
     "execution_count": 30,
     "metadata": {},
     "output_type": "execute_result"
    }
   ],
   "source": [
    "[x.text for x in school_list_items[0].find(\"span\", class_=\"location\").find_all(\"a\")]"
   ]
  },
  {
   "cell_type": "markdown",
   "metadata": {},
   "source": [
    "Done with the locations!"
   ]
  },
  {
   "cell_type": "markdown",
   "metadata": {},
   "source": [
    "**get description**"
   ]
  },
  {
   "cell_type": "markdown",
   "metadata": {},
   "source": [
    "it's under `<p>` tag in a `<p class=\"description\">`"
   ]
  },
  {
   "cell_type": "code",
   "execution_count": 31,
   "metadata": {},
   "outputs": [
    {
     "data": {
      "text/plain": [
       "'Founded in 2015, <Academia de Código_> offers a 14-week, full-time intensive, immersive,\\xa0full-stack programming bootcamp, and a 10-week intensive and immersive Java and OutSystems bootcamp\\xa0with campuses in Lisbon, Oporto, Fundão, and Terceira Island, Portugal. <Academia de Código_> is a social impact startup committed to bringing talented minds out of unemployment. <Academia de Código_>\\'s immersive programming bootcamps welcome beginners of all ages (over 18) and backgrounds (degree not needed) as long as they are willing to fully and passionately commit\\xa0to becoming professional\\xa0junior\\xa0software developers within a short period of time.\\xa0Students are guided through\\xa0the course by a team of instructors who are graduates of the bootcamp. <Academia de Código_> describes their teaching methods as \"peculiar\" and aimed at training student to write clean code.'"
      ]
     },
     "execution_count": 31,
     "metadata": {},
     "output_type": "execute_result"
    }
   ],
   "source": [
    "school_list_items[0].find(\"p\", class_=\"description\").p.text"
   ]
  },
  {
   "cell_type": "markdown",
   "metadata": {},
   "source": [
    "Aaaand, we're done. First iteration is complete. If it works for one school, it should work for the others in a similar - if not the same - way!\n",
    "\n",
    "If we want to do it the same way - this is a case for functions!"
   ]
  },
  {
   "cell_type": "markdown",
   "metadata": {},
   "source": [
    "# 3.1. create functions to extract individual data points"
   ]
  },
  {
   "cell_type": "markdown",
   "metadata": {},
   "source": [
    "* good practice: write functions that are small, that do only one thing and one thing only\n",
    "* image you write all that we now have found out in one function, then, if the webdevs of that website, they make changes to let's say how the stars are programmed, then your entire dataframe generation will fail.\n",
    "* this way, if we write a function for every of these extraction steps, only one step will fail, and only one column of your later dataframe has an empty column or null values in it\n",
    "* then build a layer on top, that takes this functions, gathers the values, process them further etc...\n",
    "* this is the software development 1-on-1. Atomize your steps, so that changes on on thing affect as less as possible other things as possible should they break\n",
    "\n",
    "For the following, test regex on https://regex101.com/"
   ]
  },
  {
   "cell_type": "code",
   "execution_count": 32,
   "metadata": {},
   "outputs": [],
   "source": [
    "\n",
    "\n",
    "def get_rank(list_item):\n",
    "    \"\"\"\n",
    "    list_item: a school list item\n",
    "    returns: the rank of that school\n",
    "    \"\"\"\n",
    "    # rank pattern:\n",
    "    # ^    starts with\n",
    "    # d    a digit\n",
    "    # {1,2}   maybe there's 1 or 2\n",
    "    rank_pattern = r\"^\\d{1,2}\"\n",
    "    school = list_item.div.h3.a.text\n",
    "    return int(re.findall(rank_pattern, school)[0])\n",
    "\n",
    "# [CHECK ON REGEX101 if it works]"
   ]
  },
  {
   "cell_type": "code",
   "execution_count": 33,
   "metadata": {},
   "outputs": [
    {
     "data": {
      "text/plain": [
       "4"
      ]
     },
     "execution_count": 33,
     "metadata": {},
     "output_type": "execute_result"
    }
   ],
   "source": [
    "sample = school_list_items[3]\n",
    "\n",
    "get_rank(sample)"
   ]
  },
  {
   "cell_type": "code",
   "execution_count": 34,
   "metadata": {},
   "outputs": [],
   "source": [
    "def get_name(list_item):\n",
    "    # name pattern\n",
    "    # all of the previous\n",
    "    # \\.   then a period\n",
    "    # \\s   then a whitespace\n",
    "    # ()   then take whatever follows there\n",
    "    # .    any character\n",
    "    # +    one or more\n",
    "    name_pattern = r\"^\\d{1,2}\\.\\s(.+)\"\n",
    "    school = list_item.div.h3.a.text\n",
    "    return re.findall(name_pattern, school)[0]"
   ]
  },
  {
   "cell_type": "code",
   "execution_count": 35,
   "metadata": {},
   "outputs": [
    {
     "data": {
      "text/plain": [
       "'BrainStation'"
      ]
     },
     "execution_count": 35,
     "metadata": {},
     "output_type": "execute_result"
    }
   ],
   "source": [
    "# lets try it out\n",
    "sample = school_list_items[4]\n",
    "get_name(sample)"
   ]
  },
  {
   "cell_type": "markdown",
   "metadata": {},
   "source": [
    "**get rating**"
   ]
  },
  {
   "cell_type": "code",
   "execution_count": 36,
   "metadata": {},
   "outputs": [],
   "source": [
    "def get_rating(list_item):\n",
    "    \"\"\"\n",
    "    returns rating of school as float\n",
    "    \"\"\"\n",
    "    rating_pattern = r\"^Avg Rating:\\s(\\d\\.\\d{2})\"\n",
    "    text = list_item.find('p', class_ = \"rating-number\").text\n",
    "    return float(re.findall(rating_pattern, text)[0])"
   ]
  },
  {
   "cell_type": "code",
   "execution_count": 37,
   "metadata": {},
   "outputs": [
    {
     "data": {
      "text/plain": [
       "'Avg Rating: 4.66 (531 reviews)'"
      ]
     },
     "execution_count": 37,
     "metadata": {},
     "output_type": "execute_result"
    }
   ],
   "source": [
    "sample.find('p', class_ = \"rating-number\").text"
   ]
  },
  {
   "cell_type": "code",
   "execution_count": 38,
   "metadata": {},
   "outputs": [
    {
     "data": {
      "text/plain": [
       "4.66"
      ]
     },
     "execution_count": 38,
     "metadata": {},
     "output_type": "execute_result"
    }
   ],
   "source": [
    "get_rating(sample)"
   ]
  },
  {
   "cell_type": "markdown",
   "metadata": {},
   "source": [
    "**get_reviews**"
   ]
  },
  {
   "cell_type": "code",
   "execution_count": 39,
   "metadata": {},
   "outputs": [],
   "source": [
    "def get_reviews(list_item):\n",
    "    # pattern here\n",
    "    # \\(        opening parenthesis\n",
    "    # (\\d+)     we want anything in the parenthesis that is 1 or mor\n",
    "    #           digits\n",
    "    # \\s        whitespace\n",
    "    # reviews   the word reviews\n",
    "    # \\)        parenthesis\n",
    "    # $         endswith\n",
    "    review_pattern = r\"\\((\\d+)\\sreviews\\)$\"\n",
    "    text = list_item.find(\"p\", class_=\"rating-number\").text\n",
    "    return int(re.findall(review_pattern, text)[0])"
   ]
  },
  {
   "cell_type": "code",
   "execution_count": 40,
   "metadata": {},
   "outputs": [
    {
     "data": {
      "text/plain": [
       "531"
      ]
     },
     "execution_count": 40,
     "metadata": {},
     "output_type": "execute_result"
    }
   ],
   "source": [
    "get_reviews(sample)"
   ]
  },
  {
   "cell_type": "markdown",
   "metadata": {},
   "source": [
    "**get stars**"
   ]
  },
  {
   "cell_type": "markdown",
   "metadata": {},
   "source": [
    "Now the tricky one: stars.\n",
    "We need to get the class name out of a tag.\n",
    "This is how we do that:"
   ]
  },
  {
   "cell_type": "code",
   "execution_count": 41,
   "metadata": {},
   "outputs": [
    {
     "data": {
      "text/plain": [
       "[<span class=\"icon-full_star\"></span>,\n",
       " <span class=\"icon-full_star\"></span>,\n",
       " <span class=\"icon-full_star\"></span>,\n",
       " <span class=\"icon-full_star\"></span>,\n",
       " <span class=\"icon-half_star\"></span>]"
      ]
     },
     "execution_count": 41,
     "metadata": {},
     "output_type": "execute_result"
    }
   ],
   "source": [
    "sample.find('p', class_=\"ratings\").find_all(\"span\")"
   ]
  },
  {
   "cell_type": "code",
   "execution_count": 42,
   "metadata": {},
   "outputs": [
    {
     "data": {
      "text/plain": [
       "<span class=\"icon-full_star\"></span>"
      ]
     },
     "execution_count": 42,
     "metadata": {},
     "output_type": "execute_result"
    }
   ],
   "source": [
    "sample.find('p', class_=\"ratings\").find_all(\"span\")[0]"
   ]
  },
  {
   "cell_type": "code",
   "execution_count": 43,
   "metadata": {},
   "outputs": [
    {
     "data": {
      "text/plain": [
       "['icon-full_star']"
      ]
     },
     "execution_count": 43,
     "metadata": {},
     "output_type": "execute_result"
    }
   ],
   "source": [
    "# asking for the class sort of works like a dictionary:\n",
    "sample.find('p', class_=\"ratings\").find_all(\"span\")[0]['class']"
   ]
  },
  {
   "cell_type": "code",
   "execution_count": 44,
   "metadata": {},
   "outputs": [
    {
     "data": {
      "text/plain": [
       "'icon-full_star'"
      ]
     },
     "execution_count": 44,
     "metadata": {},
     "output_type": "execute_result"
    }
   ],
   "source": [
    "sample.find('p', class_=\"ratings\").find_all(\"span\")[0]['class'][0]"
   ]
  },
  {
   "cell_type": "markdown",
   "metadata": {},
   "source": [
    "It get's messy, but we're nearly there.\n",
    "Now we need to count how often `span` tags with `icon-full_star` classes (should yield 1) are in the sample and how often with `icon-half_star` (should yield 0.5) and then add the result together. For that we define a dictionary, which class string corresponds to how many stars:"
   ]
  },
  {
   "cell_type": "code",
   "execution_count": 45,
   "metadata": {},
   "outputs": [
    {
     "name": "stdout",
     "output_type": "stream",
     "text": [
      "1\n",
      "0.5\n"
     ]
    }
   ],
   "source": [
    "stars_dct = {\"icon-full_star\" : 1,\n",
    "            \"icon-half_star\": 0.5,\n",
    "            }\n",
    "\n",
    "print(stars_dct[\"icon-full_star\"])\n",
    "print(stars_dct[\"icon-half_star\"])"
   ]
  },
  {
   "cell_type": "code",
   "execution_count": 46,
   "metadata": {},
   "outputs": [],
   "source": [
    "def get_stars(list_item):\n",
    "    # we need our dictionary\n",
    "    stars_dct = {\"icon-full_star\" : 1,\n",
    "            \"icon-half_star\": 0.5,\n",
    "            }\n",
    "    \n",
    "    # now here comes the stars list in the list item\n",
    "    stars_list = list_item.find('p', class_=\"ratings\").find_all(\"span\")\n",
    "    \n",
    "    # define a result for the number of stars\n",
    "    result = 0\n",
    "\n",
    "    for star in stars_list:\n",
    "        # star['class'][0] is now either \"icon-full_star\" or \n",
    "        # \"icon-half_star\". So we put this into the dict\n",
    "        result += stars_dct[star['class'][0]]\n",
    "    return result"
   ]
  },
  {
   "cell_type": "code",
   "execution_count": 47,
   "metadata": {},
   "outputs": [
    {
     "data": {
      "text/plain": [
       "4.5"
      ]
     },
     "execution_count": 47,
     "metadata": {},
     "output_type": "execute_result"
    }
   ],
   "source": [
    "get_stars(sample)"
   ]
  },
  {
   "cell_type": "markdown",
   "metadata": {},
   "source": [
    "**get locations**"
   ]
  },
  {
   "cell_type": "code",
   "execution_count": 48,
   "metadata": {},
   "outputs": [],
   "source": [
    "def get_locations(list_item):\n",
    "    return [x.text for x in list_item\n",
    "            .find('span', class_=\"location\")\n",
    "            .find_all(\"a\")]"
   ]
  },
  {
   "cell_type": "code",
   "execution_count": 49,
   "metadata": {},
   "outputs": [
    {
     "data": {
      "text/plain": [
       "['New York City', 'Vancouver', 'Toronto']"
      ]
     },
     "execution_count": 49,
     "metadata": {},
     "output_type": "execute_result"
    }
   ],
   "source": [
    "get_locations(sample)"
   ]
  },
  {
   "cell_type": "markdown",
   "metadata": {},
   "source": [
    "When we put this into a dataframe, let's turn this into a pipe (\"`|`\") delimited list:"
   ]
  },
  {
   "cell_type": "code",
   "execution_count": 50,
   "metadata": {},
   "outputs": [
    {
     "data": {
      "text/plain": [
       "'A|B|C'"
      ]
     },
     "execution_count": 50,
     "metadata": {},
     "output_type": "execute_result"
    }
   ],
   "source": [
    "\"|\".join(['A','B','C'])"
   ]
  },
  {
   "cell_type": "code",
   "execution_count": 51,
   "metadata": {},
   "outputs": [],
   "source": [
    "def get_locations(list_item):\n",
    "    return \"|\".join([x.text for x in list_item\n",
    "                     .find('span', class_=\"location\")\n",
    "                     .find_all(\"a\")\n",
    "                    ]\n",
    "                   )"
   ]
  },
  {
   "cell_type": "code",
   "execution_count": 52,
   "metadata": {},
   "outputs": [
    {
     "data": {
      "text/plain": [
       "'New York City|Vancouver|Toronto'"
      ]
     },
     "execution_count": 52,
     "metadata": {},
     "output_type": "execute_result"
    }
   ],
   "source": [
    "get_locations(sample)"
   ]
  },
  {
   "cell_type": "markdown",
   "metadata": {},
   "source": [
    "**get description**"
   ]
  },
  {
   "cell_type": "code",
   "execution_count": 53,
   "metadata": {},
   "outputs": [],
   "source": [
    "def get_discription(list_item):\n",
    "    return list_item.find(\"p\", class_=\"description\").p.text"
   ]
  },
  {
   "cell_type": "markdown",
   "metadata": {},
   "source": [
    "# Final Act"
   ]
  },
  {
   "cell_type": "markdown",
   "metadata": {},
   "source": [
    "We spend 5 hours in the kitchen, baking the cake, now we eat it all together and it's gone in 5 minutes.\n",
    "create a function that processes an entire list item, that means: Create a row that we will put into our dataframe"
   ]
  },
  {
   "cell_type": "code",
   "execution_count": 54,
   "metadata": {},
   "outputs": [],
   "source": [
    "def create_row(list_item):\n",
    "    return {'rank': get_rank(list_item),\n",
    "           'name': get_name(list_item),\n",
    "           'rating': get_rating(list_item),\n",
    "           'stars': get_stars(list_item),\n",
    "           'reviews': get_reviews(list_item),\n",
    "           'locations': get_locations(list_item),\n",
    "           'description': get_discription(list_item),\n",
    "           }"
   ]
  },
  {
   "cell_type": "code",
   "execution_count": 55,
   "metadata": {},
   "outputs": [
    {
     "data": {
      "text/plain": [
       "{'rank': 5,\n",
       " 'name': 'BrainStation',\n",
       " 'rating': 4.66,\n",
       " 'stars': 4.5,\n",
       " 'reviews': 531,\n",
       " 'locations': 'New York City|Vancouver|Toronto',\n",
       " 'description': 'BrainStation offers full-time and part-time courses in data science, design, development, marketing, and product in New York City, London, Toronto, Vancouver, and through an Online Live platform. BrainStation’s goal is to empower individuals, businesses, and brands to succeed in the digital age by offering diploma programs, certification courses, and training options across the full digital product lifecycle. BrainStation provides a collaborative, project-based learning experience, with curriculum updated on a daily basis to ensure professionals gain the skills and experience needed to succeed in their careers.'}"
      ]
     },
     "execution_count": 55,
     "metadata": {},
     "output_type": "execute_result"
    }
   ],
   "source": [
    "create_row(sample)"
   ]
  },
  {
   "cell_type": "markdown",
   "metadata": {},
   "source": [
    "Now we need a list of dictionaries, where every entry is an individual school. `sample` is just one school!"
   ]
  },
  {
   "cell_type": "code",
   "execution_count": 56,
   "metadata": {},
   "outputs": [
    {
     "name": "stdout",
     "output_type": "stream",
     "text": [
      "{'rank': 1, 'name': '<Academia de Código_>', 'rating': 4.96, 'stars': 5, 'reviews': 94, 'locations': 'Fundão|Terceira Island|Porto', 'description': 'Founded in 2015, <Academia de Código_> offers a 14-week, full-time intensive, immersive,\\xa0full-stack programming bootcamp, and a 10-week intensive and immersive Java and OutSystems bootcamp\\xa0with campuses in Lisbon, Oporto, Fundão, and Terceira Island, Portugal. <Academia de Código_> is a social impact startup committed to bringing talented minds out of unemployment. <Academia de Código_>\\'s immersive programming bootcamps welcome beginners of all ages (over 18) and backgrounds (degree not needed) as long as they are willing to fully and passionately commit\\xa0to becoming professional\\xa0junior\\xa0software developers within a short period of time.\\xa0Students are guided through\\xa0the course by a team of instructors who are graduates of the bootcamp. <Academia de Código_> describes their teaching methods as \"peculiar\" and aimed at training student to write clean code.'}\n"
     ]
    },
    {
     "ename": "IndexError",
     "evalue": "list index out of range",
     "output_type": "error",
     "traceback": [
      "\u001b[0;31m---------------------------------------------------------------------------\u001b[0m",
      "\u001b[0;31mIndexError\u001b[0m                                Traceback (most recent call last)",
      "\u001b[0;32m<ipython-input-56-a1134e3e98d5>\u001b[0m in \u001b[0;36m<module>\u001b[0;34m\u001b[0m\n\u001b[1;32m      1\u001b[0m \u001b[0;32mfor\u001b[0m \u001b[0mschool\u001b[0m \u001b[0;32min\u001b[0m \u001b[0mschool_list_items\u001b[0m\u001b[0;34m:\u001b[0m\u001b[0;34m\u001b[0m\u001b[0;34m\u001b[0m\u001b[0m\n\u001b[0;32m----> 2\u001b[0;31m     \u001b[0mprint\u001b[0m\u001b[0;34m(\u001b[0m\u001b[0mcreate_row\u001b[0m\u001b[0;34m(\u001b[0m\u001b[0mschool\u001b[0m\u001b[0;34m)\u001b[0m\u001b[0;34m)\u001b[0m\u001b[0;34m\u001b[0m\u001b[0;34m\u001b[0m\u001b[0m\n\u001b[0m",
      "\u001b[0;32m<ipython-input-54-f31a7edd7a45>\u001b[0m in \u001b[0;36mcreate_row\u001b[0;34m(list_item)\u001b[0m\n\u001b[1;32m      2\u001b[0m     return {'rank': get_rank(list_item),\n\u001b[1;32m      3\u001b[0m            \u001b[0;34m'name'\u001b[0m\u001b[0;34m:\u001b[0m \u001b[0mget_name\u001b[0m\u001b[0;34m(\u001b[0m\u001b[0mlist_item\u001b[0m\u001b[0;34m)\u001b[0m\u001b[0;34m,\u001b[0m\u001b[0;34m\u001b[0m\u001b[0;34m\u001b[0m\u001b[0m\n\u001b[0;32m----> 4\u001b[0;31m            \u001b[0;34m'rating'\u001b[0m\u001b[0;34m:\u001b[0m \u001b[0mget_rating\u001b[0m\u001b[0;34m(\u001b[0m\u001b[0mlist_item\u001b[0m\u001b[0;34m)\u001b[0m\u001b[0;34m,\u001b[0m\u001b[0;34m\u001b[0m\u001b[0;34m\u001b[0m\u001b[0m\n\u001b[0m\u001b[1;32m      5\u001b[0m            \u001b[0;34m'stars'\u001b[0m\u001b[0;34m:\u001b[0m \u001b[0mget_stars\u001b[0m\u001b[0;34m(\u001b[0m\u001b[0mlist_item\u001b[0m\u001b[0;34m)\u001b[0m\u001b[0;34m,\u001b[0m\u001b[0;34m\u001b[0m\u001b[0;34m\u001b[0m\u001b[0m\n\u001b[1;32m      6\u001b[0m            \u001b[0;34m'reviews'\u001b[0m\u001b[0;34m:\u001b[0m \u001b[0mget_reviews\u001b[0m\u001b[0;34m(\u001b[0m\u001b[0mlist_item\u001b[0m\u001b[0;34m)\u001b[0m\u001b[0;34m,\u001b[0m\u001b[0;34m\u001b[0m\u001b[0;34m\u001b[0m\u001b[0m\n",
      "\u001b[0;32m<ipython-input-36-82a51db60c7c>\u001b[0m in \u001b[0;36mget_rating\u001b[0;34m(list_item)\u001b[0m\n\u001b[1;32m      5\u001b[0m     \u001b[0mrating_pattern\u001b[0m \u001b[0;34m=\u001b[0m \u001b[0;34mr\"^Avg Rating:\\s(\\d\\.\\d{2})\"\u001b[0m\u001b[0;34m\u001b[0m\u001b[0;34m\u001b[0m\u001b[0m\n\u001b[1;32m      6\u001b[0m     \u001b[0mtext\u001b[0m \u001b[0;34m=\u001b[0m \u001b[0mlist_item\u001b[0m\u001b[0;34m.\u001b[0m\u001b[0mfind\u001b[0m\u001b[0;34m(\u001b[0m\u001b[0;34m'p'\u001b[0m\u001b[0;34m,\u001b[0m \u001b[0mclass_\u001b[0m \u001b[0;34m=\u001b[0m \u001b[0;34m\"rating-number\"\u001b[0m\u001b[0;34m)\u001b[0m\u001b[0;34m.\u001b[0m\u001b[0mtext\u001b[0m\u001b[0;34m\u001b[0m\u001b[0;34m\u001b[0m\u001b[0m\n\u001b[0;32m----> 7\u001b[0;31m     \u001b[0;32mreturn\u001b[0m \u001b[0mfloat\u001b[0m\u001b[0;34m(\u001b[0m\u001b[0mre\u001b[0m\u001b[0;34m.\u001b[0m\u001b[0mfindall\u001b[0m\u001b[0;34m(\u001b[0m\u001b[0mrating_pattern\u001b[0m\u001b[0;34m,\u001b[0m \u001b[0mtext\u001b[0m\u001b[0;34m)\u001b[0m\u001b[0;34m[\u001b[0m\u001b[0;36m0\u001b[0m\u001b[0;34m]\u001b[0m\u001b[0;34m)\u001b[0m\u001b[0;34m\u001b[0m\u001b[0;34m\u001b[0m\u001b[0m\n\u001b[0m",
      "\u001b[0;31mIndexError\u001b[0m: list index out of range"
     ]
    }
   ],
   "source": [
    "for school in school_list_items:\n",
    "    print(create_row(school))"
   ]
  },
  {
   "cell_type": "markdown",
   "metadata": {},
   "source": [
    "Theres's something wrong with the first, in `get_rating`. We have written the regex pattern in a way that it has to be strictly 2 decimals.\n",
    "\n",
    "Also we haven't implemented `icon-empty_star` in `get_stars`"
   ]
  },
  {
   "cell_type": "code",
   "execution_count": 57,
   "metadata": {},
   "outputs": [],
   "source": [
    "# Fixing the errors:\n",
    "\n",
    "def get_stars(list_item):\n",
    "    # we need our dictionary\n",
    "    stars_dct = {\"icon-full_star\" : 1,\n",
    "            \"icon-half_star\": 0.5,\n",
    "                 \"icon-empty_star\": 0,\n",
    "            }\n",
    "    \n",
    "    # now here comes the stars list in the list item\n",
    "    stars_list = list_item.find('p', class_=\"ratings\").find_all(\"span\")\n",
    "    \n",
    "    # define a result for the number of stars\n",
    "    result = 0\n",
    "\n",
    "    for star in stars_list:\n",
    "        # star['class'][0] is now either \"icon-full_star\" or \n",
    "        # \"icon-half_star\". So we put this into the dict\n",
    "        result += stars_dct[star['class'][0]]\n",
    "    return result\n",
    "\n",
    "def get_rating(list_item):\n",
    "    \"\"\"\n",
    "    returns rating of school as float\n",
    "    \"\"\"\n",
    "    rating_pattern = r\"^Avg Rating:\\s(\\d\\.\\d{1,2})\"\n",
    "    text = list_item.find('p', class_ = \"rating-number\").text\n",
    "    return float(re.findall(rating_pattern, text)[0])"
   ]
  },
  {
   "cell_type": "markdown",
   "metadata": {},
   "source": [
    "Looping again through all schools"
   ]
  },
  {
   "cell_type": "code",
   "execution_count": null,
   "metadata": {},
   "outputs": [],
   "source": [
    "for school in school_list_items:\n",
    "    print(create_row(school))"
   ]
  },
  {
   "cell_type": "markdown",
   "metadata": {},
   "source": [
    "No errors, so let's finally cast this into a dataframe"
   ]
  },
  {
   "cell_type": "code",
   "execution_count": 62,
   "metadata": {},
   "outputs": [],
   "source": [
    "df = pd.DataFrame(create_row(school) for school in school_list_items)"
   ]
  },
  {
   "cell_type": "code",
   "execution_count": 66,
   "metadata": {},
   "outputs": [
    {
     "data": {
      "text/html": [
       "<div>\n",
       "<style scoped>\n",
       "    .dataframe tbody tr th:only-of-type {\n",
       "        vertical-align: middle;\n",
       "    }\n",
       "\n",
       "    .dataframe tbody tr th {\n",
       "        vertical-align: top;\n",
       "    }\n",
       "\n",
       "    .dataframe thead th {\n",
       "        text-align: right;\n",
       "    }\n",
       "</style>\n",
       "<table border=\"1\" class=\"dataframe\">\n",
       "  <thead>\n",
       "    <tr style=\"text-align: right;\">\n",
       "      <th></th>\n",
       "      <th>rank</th>\n",
       "      <th>name</th>\n",
       "      <th>rating</th>\n",
       "      <th>stars</th>\n",
       "      <th>reviews</th>\n",
       "      <th>locations</th>\n",
       "      <th>description</th>\n",
       "    </tr>\n",
       "  </thead>\n",
       "  <tbody>\n",
       "    <tr>\n",
       "      <th>0</th>\n",
       "      <td>1</td>\n",
       "      <td>&lt;Academia de Código_&gt;</td>\n",
       "      <td>4.96</td>\n",
       "      <td>5.0</td>\n",
       "      <td>94</td>\n",
       "      <td>Fundão|Terceira Island|Porto</td>\n",
       "      <td>Founded in 2015, &lt;Academia de Código_&gt; offers ...</td>\n",
       "    </tr>\n",
       "    <tr>\n",
       "      <th>1</th>\n",
       "      <td>2</td>\n",
       "      <td>Actualize</td>\n",
       "      <td>4.90</td>\n",
       "      <td>5.0</td>\n",
       "      <td>291</td>\n",
       "      <td>Chicago|Online</td>\n",
       "      <td>Actualize is a 12-week software development bo...</td>\n",
       "    </tr>\n",
       "    <tr>\n",
       "      <th>2</th>\n",
       "      <td>3</td>\n",
       "      <td>App Academy</td>\n",
       "      <td>4.67</td>\n",
       "      <td>4.5</td>\n",
       "      <td>908</td>\n",
       "      <td>New York City|San Francisco|Online</td>\n",
       "      <td>App Academy offers immersive web development c...</td>\n",
       "    </tr>\n",
       "    <tr>\n",
       "      <th>3</th>\n",
       "      <td>4</td>\n",
       "      <td>Bottega</td>\n",
       "      <td>4.46</td>\n",
       "      <td>4.5</td>\n",
       "      <td>69</td>\n",
       "      <td>Online|Salt Lake City</td>\n",
       "      <td>Bottega offers part-time and full-time tech bo...</td>\n",
       "    </tr>\n",
       "    <tr>\n",
       "      <th>4</th>\n",
       "      <td>5</td>\n",
       "      <td>BrainStation</td>\n",
       "      <td>4.66</td>\n",
       "      <td>4.5</td>\n",
       "      <td>531</td>\n",
       "      <td>New York City|Vancouver|Toronto</td>\n",
       "      <td>BrainStation offers full-time and part-time co...</td>\n",
       "    </tr>\n",
       "    <tr>\n",
       "      <th>5</th>\n",
       "      <td>6</td>\n",
       "      <td>Claim Academy</td>\n",
       "      <td>4.51</td>\n",
       "      <td>4.5</td>\n",
       "      <td>131</td>\n",
       "      <td>St. Louis</td>\n",
       "      <td>Claim Academy is a 3-month developer coding an...</td>\n",
       "    </tr>\n",
       "    <tr>\n",
       "      <th>6</th>\n",
       "      <td>7</td>\n",
       "      <td>Code Fellows</td>\n",
       "      <td>4.27</td>\n",
       "      <td>4.0</td>\n",
       "      <td>136</td>\n",
       "      <td>Online|Seattle</td>\n",
       "      <td>Code Fellows offers full and part-time softwar...</td>\n",
       "    </tr>\n",
       "    <tr>\n",
       "      <th>7</th>\n",
       "      <td>8</td>\n",
       "      <td>Code Platoon</td>\n",
       "      <td>4.96</td>\n",
       "      <td>5.0</td>\n",
       "      <td>51</td>\n",
       "      <td>Chicago</td>\n",
       "      <td>Code Platoon is a non-profit coding bootcamp l...</td>\n",
       "    </tr>\n",
       "    <tr>\n",
       "      <th>8</th>\n",
       "      <td>9</td>\n",
       "      <td>Coder Academy</td>\n",
       "      <td>4.74</td>\n",
       "      <td>4.5</td>\n",
       "      <td>101</td>\n",
       "      <td>Sydney|Brisbane|Melbourne</td>\n",
       "      <td>Coder Academy is an accredited Australian codi...</td>\n",
       "    </tr>\n",
       "    <tr>\n",
       "      <th>9</th>\n",
       "      <td>10</td>\n",
       "      <td>Coder Foundry</td>\n",
       "      <td>4.65</td>\n",
       "      <td>4.5</td>\n",
       "      <td>92</td>\n",
       "      <td>Greensboro</td>\n",
       "      <td>Coder Foundry is a North Carolina coding bootc...</td>\n",
       "    </tr>\n",
       "    <tr>\n",
       "      <th>10</th>\n",
       "      <td>11</td>\n",
       "      <td>Codesmith</td>\n",
       "      <td>4.90</td>\n",
       "      <td>5.0</td>\n",
       "      <td>424</td>\n",
       "      <td>New York City|Los Angeles|Online</td>\n",
       "      <td>Codesmith offers a full-time, 12-week full sta...</td>\n",
       "    </tr>\n",
       "    <tr>\n",
       "      <th>11</th>\n",
       "      <td>12</td>\n",
       "      <td>Coding Dojo</td>\n",
       "      <td>4.43</td>\n",
       "      <td>4.5</td>\n",
       "      <td>491</td>\n",
       "      <td>Boise|Silicon Valley|Arlington</td>\n",
       "      <td>Coding Dojo is a unique coding bootcamp that t...</td>\n",
       "    </tr>\n",
       "    <tr>\n",
       "      <th>12</th>\n",
       "      <td>13</td>\n",
       "      <td>Coding Temple</td>\n",
       "      <td>4.92</td>\n",
       "      <td>5.0</td>\n",
       "      <td>136</td>\n",
       "      <td>Washington|Boston|Chicago</td>\n",
       "      <td>Coding Temple offers 10-week, full-stack codin...</td>\n",
       "    </tr>\n",
       "    <tr>\n",
       "      <th>13</th>\n",
       "      <td>14</td>\n",
       "      <td>Craft Academy</td>\n",
       "      <td>4.82</td>\n",
       "      <td>5.0</td>\n",
       "      <td>74</td>\n",
       "      <td>Gothenburg|Stockholm|Online</td>\n",
       "      <td>Craft Academy offers two, 12-week bootcamps ba...</td>\n",
       "    </tr>\n",
       "    <tr>\n",
       "      <th>14</th>\n",
       "      <td>15</td>\n",
       "      <td>devCodeCamp</td>\n",
       "      <td>4.77</td>\n",
       "      <td>4.5</td>\n",
       "      <td>116</td>\n",
       "      <td>Milwaukee</td>\n",
       "      <td>devCodeCamp delivers a choice of programs focu...</td>\n",
       "    </tr>\n",
       "    <tr>\n",
       "      <th>15</th>\n",
       "      <td>16</td>\n",
       "      <td>Devmountain</td>\n",
       "      <td>4.62</td>\n",
       "      <td>4.5</td>\n",
       "      <td>303</td>\n",
       "      <td>Lehi|Dallas|Online</td>\n",
       "      <td>Devmountain is a technology school that offers...</td>\n",
       "    </tr>\n",
       "    <tr>\n",
       "      <th>16</th>\n",
       "      <td>17</td>\n",
       "      <td>DevPoint Labs</td>\n",
       "      <td>4.85</td>\n",
       "      <td>5.0</td>\n",
       "      <td>141</td>\n",
       "      <td>Las Vegas|Salt Lake City</td>\n",
       "      <td>DevPoint Labs teaches 11-week full-time and 11...</td>\n",
       "    </tr>\n",
       "    <tr>\n",
       "      <th>17</th>\n",
       "      <td>18</td>\n",
       "      <td>DigitalCrafts</td>\n",
       "      <td>4.87</td>\n",
       "      <td>5.0</td>\n",
       "      <td>231</td>\n",
       "      <td>Tampa|Houston|Atlanta</td>\n",
       "      <td>DigitalCrafts is an online and on-site school ...</td>\n",
       "    </tr>\n",
       "    <tr>\n",
       "      <th>18</th>\n",
       "      <td>19</td>\n",
       "      <td>Eleven Fifty Academy</td>\n",
       "      <td>4.67</td>\n",
       "      <td>4.5</td>\n",
       "      <td>72</td>\n",
       "      <td>Hybrid (Online &amp; In-person)|Indianapolis</td>\n",
       "      <td>Eleven Fifty Academy is a non-profit coding an...</td>\n",
       "    </tr>\n",
       "    <tr>\n",
       "      <th>19</th>\n",
       "      <td>20</td>\n",
       "      <td>Epicodus</td>\n",
       "      <td>4.72</td>\n",
       "      <td>4.5</td>\n",
       "      <td>162</td>\n",
       "      <td>Portland|Online|Seattle</td>\n",
       "      <td>Epicodus is a coding bootcamp offering part- a...</td>\n",
       "    </tr>\n",
       "    <tr>\n",
       "      <th>20</th>\n",
       "      <td>21</td>\n",
       "      <td>Flatiron School</td>\n",
       "      <td>4.67</td>\n",
       "      <td>4.5</td>\n",
       "      <td>468</td>\n",
       "      <td>Washington|Houston|Austin</td>\n",
       "      <td>Flatiron School offers immersive on-campus and...</td>\n",
       "    </tr>\n",
       "    <tr>\n",
       "      <th>21</th>\n",
       "      <td>22</td>\n",
       "      <td>Fullstack Academy</td>\n",
       "      <td>4.89</td>\n",
       "      <td>5.0</td>\n",
       "      <td>288</td>\n",
       "      <td>Jacksonville|San Luis Obispo|Baton Rouge</td>\n",
       "      <td>Fullstack Academy offers full-time and part-ti...</td>\n",
       "    </tr>\n",
       "    <tr>\n",
       "      <th>22</th>\n",
       "      <td>23</td>\n",
       "      <td>General Assembly</td>\n",
       "      <td>4.28</td>\n",
       "      <td>4.0</td>\n",
       "      <td>475</td>\n",
       "      <td>Sydney|Washington|San Diego</td>\n",
       "      <td>General Assembly offers short and long courses...</td>\n",
       "    </tr>\n",
       "    <tr>\n",
       "      <th>23</th>\n",
       "      <td>24</td>\n",
       "      <td>Georgia Tech Boot Camps</td>\n",
       "      <td>4.73</td>\n",
       "      <td>4.5</td>\n",
       "      <td>106</td>\n",
       "      <td>Savannah|Atlanta</td>\n",
       "      <td>Georgia Tech Boot Camps offer 24-week, part-ti...</td>\n",
       "    </tr>\n",
       "    <tr>\n",
       "      <th>24</th>\n",
       "      <td>25</td>\n",
       "      <td>Hackbright Academy</td>\n",
       "      <td>4.54</td>\n",
       "      <td>4.5</td>\n",
       "      <td>79</td>\n",
       "      <td>San Francisco</td>\n",
       "      <td>Hackbright Academy is a software engineering s...</td>\n",
       "    </tr>\n",
       "    <tr>\n",
       "      <th>25</th>\n",
       "      <td>26</td>\n",
       "      <td>Hack Reactor</td>\n",
       "      <td>4.71</td>\n",
       "      <td>4.5</td>\n",
       "      <td>293</td>\n",
       "      <td>Austin|New York City|Boulder</td>\n",
       "      <td>Founded in 2012, Hack Reactor is a 12-week imm...</td>\n",
       "    </tr>\n",
       "    <tr>\n",
       "      <th>26</th>\n",
       "      <td>27</td>\n",
       "      <td>Hacktiv8</td>\n",
       "      <td>4.89</td>\n",
       "      <td>5.0</td>\n",
       "      <td>200</td>\n",
       "      <td>Jakarta</td>\n",
       "      <td>Hacktiv8 is a Full Stack JavaScript bootcamp i...</td>\n",
       "    </tr>\n",
       "    <tr>\n",
       "      <th>27</th>\n",
       "      <td>28</td>\n",
       "      <td>Holberton School</td>\n",
       "      <td>4.45</td>\n",
       "      <td>4.5</td>\n",
       "      <td>77</td>\n",
       "      <td>Bogotá|Medellín|New Haven</td>\n",
       "      <td>Holberton School is a two-year software engine...</td>\n",
       "    </tr>\n",
       "    <tr>\n",
       "      <th>28</th>\n",
       "      <td>29</td>\n",
       "      <td>Ironhack</td>\n",
       "      <td>4.86</td>\n",
       "      <td>5.0</td>\n",
       "      <td>944</td>\n",
       "      <td>Paris|Amsterdam|Lisbon</td>\n",
       "      <td>Ironhack offers full-time and part-time bootca...</td>\n",
       "    </tr>\n",
       "    <tr>\n",
       "      <th>29</th>\n",
       "      <td>30</td>\n",
       "      <td>Journey Education</td>\n",
       "      <td>4.75</td>\n",
       "      <td>4.5</td>\n",
       "      <td>85</td>\n",
       "      <td>Montreal|Cleveland</td>\n",
       "      <td>Journey Education partners with universities t...</td>\n",
       "    </tr>\n",
       "    <tr>\n",
       "      <th>30</th>\n",
       "      <td>31</td>\n",
       "      <td>Juno College of Technology</td>\n",
       "      <td>4.96</td>\n",
       "      <td>5.0</td>\n",
       "      <td>215</td>\n",
       "      <td>Toronto|Online</td>\n",
       "      <td>Founded in 2012 as HackerYou, Juno College of ...</td>\n",
       "    </tr>\n",
       "    <tr>\n",
       "      <th>31</th>\n",
       "      <td>32</td>\n",
       "      <td>Kenzie Academy</td>\n",
       "      <td>4.85</td>\n",
       "      <td>5.0</td>\n",
       "      <td>55</td>\n",
       "      <td>Indianapolis|Online</td>\n",
       "      <td>Kenzie Academy is a college alternative that o...</td>\n",
       "    </tr>\n",
       "    <tr>\n",
       "      <th>32</th>\n",
       "      <td>33</td>\n",
       "      <td>Launch Academy</td>\n",
       "      <td>4.60</td>\n",
       "      <td>4.5</td>\n",
       "      <td>47</td>\n",
       "      <td>Boston</td>\n",
       "      <td>Launch Academy is a full-time, 18-week program...</td>\n",
       "    </tr>\n",
       "    <tr>\n",
       "      <th>33</th>\n",
       "      <td>34</td>\n",
       "      <td>LearningFuze</td>\n",
       "      <td>4.99</td>\n",
       "      <td>5.0</td>\n",
       "      <td>197</td>\n",
       "      <td>Irvine|Orange County|Online</td>\n",
       "      <td>LearningFuze offers a full immersion, 12-week ...</td>\n",
       "    </tr>\n",
       "    <tr>\n",
       "      <th>34</th>\n",
       "      <td>35</td>\n",
       "      <td>Le Wagon</td>\n",
       "      <td>4.99</td>\n",
       "      <td>5.0</td>\n",
       "      <td>1748</td>\n",
       "      <td>Brussels|Paris|Bordeaux</td>\n",
       "      <td>Le Wagon offers 9-week full-time and 24-week p...</td>\n",
       "    </tr>\n",
       "    <tr>\n",
       "      <th>35</th>\n",
       "      <td>36</td>\n",
       "      <td>Lighthouse Labs</td>\n",
       "      <td>4.45</td>\n",
       "      <td>4.5</td>\n",
       "      <td>93</td>\n",
       "      <td>Vancouver|Toronto|Calgary</td>\n",
       "      <td>Lighthouse Labs is a Canadian bootcamp that te...</td>\n",
       "    </tr>\n",
       "    <tr>\n",
       "      <th>36</th>\n",
       "      <td>37</td>\n",
       "      <td>Makers Academy</td>\n",
       "      <td>4.81</td>\n",
       "      <td>5.0</td>\n",
       "      <td>219</td>\n",
       "      <td>London|Bristol|Manchester</td>\n",
       "      <td>Makers Academy is a highly selective 4-month, ...</td>\n",
       "    </tr>\n",
       "    <tr>\n",
       "      <th>37</th>\n",
       "      <td>38</td>\n",
       "      <td>Prime Digital Academy</td>\n",
       "      <td>4.87</td>\n",
       "      <td>5.0</td>\n",
       "      <td>103</td>\n",
       "      <td>Kansas City|Minneapolis</td>\n",
       "      <td>Prime Digital Academy offers an intensive, 20-...</td>\n",
       "    </tr>\n",
       "    <tr>\n",
       "      <th>38</th>\n",
       "      <td>39</td>\n",
       "      <td>Redwood Code Academy</td>\n",
       "      <td>4.58</td>\n",
       "      <td>4.5</td>\n",
       "      <td>59</td>\n",
       "      <td>Irvine</td>\n",
       "      <td>Redwood Code Academy offers 12-week full-time,...</td>\n",
       "    </tr>\n",
       "    <tr>\n",
       "      <th>39</th>\n",
       "      <td>40</td>\n",
       "      <td>Rithm School</td>\n",
       "      <td>4.98</td>\n",
       "      <td>5.0</td>\n",
       "      <td>50</td>\n",
       "      <td>San Francisco</td>\n",
       "      <td>Rithm School offers a full-time, 16-week, full...</td>\n",
       "    </tr>\n",
       "    <tr>\n",
       "      <th>40</th>\n",
       "      <td>41</td>\n",
       "      <td>Rutgers Bootcamps</td>\n",
       "      <td>4.54</td>\n",
       "      <td>4.5</td>\n",
       "      <td>108</td>\n",
       "      <td>Jersey City|Somerset</td>\n",
       "      <td>Rutgers Bootcamps offer 12-week, full-time and...</td>\n",
       "    </tr>\n",
       "    <tr>\n",
       "      <th>41</th>\n",
       "      <td>42</td>\n",
       "      <td>Sabio</td>\n",
       "      <td>4.84</td>\n",
       "      <td>5.0</td>\n",
       "      <td>205</td>\n",
       "      <td>Orange County|Los Angeles|Riverside</td>\n",
       "      <td>Sabio is a developer community offering 12-wee...</td>\n",
       "    </tr>\n",
       "    <tr>\n",
       "      <th>42</th>\n",
       "      <td>43</td>\n",
       "      <td>Skill Distillery</td>\n",
       "      <td>4.62</td>\n",
       "      <td>4.5</td>\n",
       "      <td>92</td>\n",
       "      <td>Denver</td>\n",
       "      <td>Skill Distillery is an intensive, 16-week Java...</td>\n",
       "    </tr>\n",
       "    <tr>\n",
       "      <th>43</th>\n",
       "      <td>44</td>\n",
       "      <td>Skylab Coders Academy</td>\n",
       "      <td>4.99</td>\n",
       "      <td>5.0</td>\n",
       "      <td>67</td>\n",
       "      <td>Barcelona</td>\n",
       "      <td>Skylab Coders Academy in Barcelona, Spain, off...</td>\n",
       "    </tr>\n",
       "    <tr>\n",
       "      <th>44</th>\n",
       "      <td>45</td>\n",
       "      <td>Software Guild</td>\n",
       "      <td>4.66</td>\n",
       "      <td>4.5</td>\n",
       "      <td>148</td>\n",
       "      <td>Minneapolis|Louisville|Atlanta</td>\n",
       "      <td>The Software Guild offers immersive full-time,...</td>\n",
       "    </tr>\n",
       "    <tr>\n",
       "      <th>45</th>\n",
       "      <td>46</td>\n",
       "      <td>SPICED Academy</td>\n",
       "      <td>4.64</td>\n",
       "      <td>4.5</td>\n",
       "      <td>58</td>\n",
       "      <td>Berlin|Hamburg|Cologne</td>\n",
       "      <td>SPICED Academy offers full-time, 12-week codin...</td>\n",
       "    </tr>\n",
       "    <tr>\n",
       "      <th>46</th>\n",
       "      <td>47</td>\n",
       "      <td>Tech Elevator</td>\n",
       "      <td>4.94</td>\n",
       "      <td>5.0</td>\n",
       "      <td>279</td>\n",
       "      <td>Pittsburgh|Detroit|Philadelphia</td>\n",
       "      <td>Tech Elevator offers a full-time, 14-week codi...</td>\n",
       "    </tr>\n",
       "    <tr>\n",
       "      <th>47</th>\n",
       "      <td>48</td>\n",
       "      <td>Tech Talent South</td>\n",
       "      <td>4.69</td>\n",
       "      <td>4.5</td>\n",
       "      <td>104</td>\n",
       "      <td>Asheville|Charlotte|Raleigh</td>\n",
       "      <td>Tech Talent South offers full and part-time pr...</td>\n",
       "    </tr>\n",
       "    <tr>\n",
       "      <th>48</th>\n",
       "      <td>49</td>\n",
       "      <td>The Tech Academy</td>\n",
       "      <td>4.83</td>\n",
       "      <td>5.0</td>\n",
       "      <td>261</td>\n",
       "      <td>Portland|Online|Seattle</td>\n",
       "      <td>The Tech Academy offers 5 full-time and part-t...</td>\n",
       "    </tr>\n",
       "    <tr>\n",
       "      <th>49</th>\n",
       "      <td>50</td>\n",
       "      <td>Turing</td>\n",
       "      <td>4.79</td>\n",
       "      <td>4.5</td>\n",
       "      <td>168</td>\n",
       "      <td>Denver</td>\n",
       "      <td>Turing School of Software &amp; Design is a 7-mont...</td>\n",
       "    </tr>\n",
       "    <tr>\n",
       "      <th>50</th>\n",
       "      <td>51</td>\n",
       "      <td>V School</td>\n",
       "      <td>4.80</td>\n",
       "      <td>4.5</td>\n",
       "      <td>55</td>\n",
       "      <td>Salt Lake City</td>\n",
       "      <td>V School is a technology school in Provo and S...</td>\n",
       "    </tr>\n",
       "    <tr>\n",
       "      <th>51</th>\n",
       "      <td>52</td>\n",
       "      <td>We Can Code IT</td>\n",
       "      <td>4.63</td>\n",
       "      <td>4.5</td>\n",
       "      <td>71</td>\n",
       "      <td>Columbus|Cleveland|Cincinnati</td>\n",
       "      <td>We Can Code IT is a full-stack software develo...</td>\n",
       "    </tr>\n",
       "    <tr>\n",
       "      <th>52</th>\n",
       "      <td>53</td>\n",
       "      <td>Wyncode</td>\n",
       "      <td>4.74</td>\n",
       "      <td>4.5</td>\n",
       "      <td>305</td>\n",
       "      <td>Miami</td>\n",
       "      <td>Wyncode offers full-time and part-time full st...</td>\n",
       "    </tr>\n",
       "    <tr>\n",
       "      <th>53</th>\n",
       "      <td>54</td>\n",
       "      <td>Zip Code Wilmington</td>\n",
       "      <td>4.98</td>\n",
       "      <td>5.0</td>\n",
       "      <td>63</td>\n",
       "      <td>Wilmington</td>\n",
       "      <td>Zip Code Wilmington offers two full-time, 12-w...</td>\n",
       "    </tr>\n",
       "  </tbody>\n",
       "</table>\n",
       "</div>"
      ],
      "text/plain": [
       "    rank                        name  rating  stars  reviews  \\\n",
       "0      1       <Academia de Código_>    4.96    5.0       94   \n",
       "1      2                   Actualize    4.90    5.0      291   \n",
       "2      3                 App Academy    4.67    4.5      908   \n",
       "3      4                     Bottega    4.46    4.5       69   \n",
       "4      5                BrainStation    4.66    4.5      531   \n",
       "5      6               Claim Academy    4.51    4.5      131   \n",
       "6      7                Code Fellows    4.27    4.0      136   \n",
       "7      8                Code Platoon    4.96    5.0       51   \n",
       "8      9               Coder Academy    4.74    4.5      101   \n",
       "9     10               Coder Foundry    4.65    4.5       92   \n",
       "10    11                   Codesmith    4.90    5.0      424   \n",
       "11    12                 Coding Dojo    4.43    4.5      491   \n",
       "12    13               Coding Temple    4.92    5.0      136   \n",
       "13    14               Craft Academy    4.82    5.0       74   \n",
       "14    15                 devCodeCamp    4.77    4.5      116   \n",
       "15    16                 Devmountain    4.62    4.5      303   \n",
       "16    17               DevPoint Labs    4.85    5.0      141   \n",
       "17    18               DigitalCrafts    4.87    5.0      231   \n",
       "18    19        Eleven Fifty Academy    4.67    4.5       72   \n",
       "19    20                    Epicodus    4.72    4.5      162   \n",
       "20    21             Flatiron School    4.67    4.5      468   \n",
       "21    22           Fullstack Academy    4.89    5.0      288   \n",
       "22    23            General Assembly    4.28    4.0      475   \n",
       "23    24     Georgia Tech Boot Camps    4.73    4.5      106   \n",
       "24    25          Hackbright Academy    4.54    4.5       79   \n",
       "25    26                Hack Reactor    4.71    4.5      293   \n",
       "26    27                    Hacktiv8    4.89    5.0      200   \n",
       "27    28            Holberton School    4.45    4.5       77   \n",
       "28    29                    Ironhack    4.86    5.0      944   \n",
       "29    30           Journey Education    4.75    4.5       85   \n",
       "30    31  Juno College of Technology    4.96    5.0      215   \n",
       "31    32              Kenzie Academy    4.85    5.0       55   \n",
       "32    33              Launch Academy    4.60    4.5       47   \n",
       "33    34                LearningFuze    4.99    5.0      197   \n",
       "34    35                    Le Wagon    4.99    5.0     1748   \n",
       "35    36             Lighthouse Labs    4.45    4.5       93   \n",
       "36    37              Makers Academy    4.81    5.0      219   \n",
       "37    38       Prime Digital Academy    4.87    5.0      103   \n",
       "38    39       Redwood Code Academy     4.58    4.5       59   \n",
       "39    40                Rithm School    4.98    5.0       50   \n",
       "40    41           Rutgers Bootcamps    4.54    4.5      108   \n",
       "41    42                       Sabio    4.84    5.0      205   \n",
       "42    43            Skill Distillery    4.62    4.5       92   \n",
       "43    44       Skylab Coders Academy    4.99    5.0       67   \n",
       "44    45              Software Guild    4.66    4.5      148   \n",
       "45    46              SPICED Academy    4.64    4.5       58   \n",
       "46    47               Tech Elevator    4.94    5.0      279   \n",
       "47    48           Tech Talent South    4.69    4.5      104   \n",
       "48    49            The Tech Academy    4.83    5.0      261   \n",
       "49    50                      Turing    4.79    4.5      168   \n",
       "50    51                    V School    4.80    4.5       55   \n",
       "51    52              We Can Code IT    4.63    4.5       71   \n",
       "52    53                     Wyncode    4.74    4.5      305   \n",
       "53    54         Zip Code Wilmington    4.98    5.0       63   \n",
       "\n",
       "                                   locations  \\\n",
       "0               Fundão|Terceira Island|Porto   \n",
       "1                             Chicago|Online   \n",
       "2         New York City|San Francisco|Online   \n",
       "3                      Online|Salt Lake City   \n",
       "4            New York City|Vancouver|Toronto   \n",
       "5                                  St. Louis   \n",
       "6                             Online|Seattle   \n",
       "7                                    Chicago   \n",
       "8                  Sydney|Brisbane|Melbourne   \n",
       "9                                 Greensboro   \n",
       "10          New York City|Los Angeles|Online   \n",
       "11            Boise|Silicon Valley|Arlington   \n",
       "12                 Washington|Boston|Chicago   \n",
       "13               Gothenburg|Stockholm|Online   \n",
       "14                                 Milwaukee   \n",
       "15                        Lehi|Dallas|Online   \n",
       "16                  Las Vegas|Salt Lake City   \n",
       "17                     Tampa|Houston|Atlanta   \n",
       "18  Hybrid (Online & In-person)|Indianapolis   \n",
       "19                   Portland|Online|Seattle   \n",
       "20                 Washington|Houston|Austin   \n",
       "21  Jacksonville|San Luis Obispo|Baton Rouge   \n",
       "22               Sydney|Washington|San Diego   \n",
       "23                          Savannah|Atlanta   \n",
       "24                             San Francisco   \n",
       "25              Austin|New York City|Boulder   \n",
       "26                                   Jakarta   \n",
       "27                 Bogotá|Medellín|New Haven   \n",
       "28                    Paris|Amsterdam|Lisbon   \n",
       "29                        Montreal|Cleveland   \n",
       "30                            Toronto|Online   \n",
       "31                       Indianapolis|Online   \n",
       "32                                    Boston   \n",
       "33               Irvine|Orange County|Online   \n",
       "34                   Brussels|Paris|Bordeaux   \n",
       "35                 Vancouver|Toronto|Calgary   \n",
       "36                 London|Bristol|Manchester   \n",
       "37                   Kansas City|Minneapolis   \n",
       "38                                    Irvine   \n",
       "39                             San Francisco   \n",
       "40                      Jersey City|Somerset   \n",
       "41       Orange County|Los Angeles|Riverside   \n",
       "42                                    Denver   \n",
       "43                                 Barcelona   \n",
       "44            Minneapolis|Louisville|Atlanta   \n",
       "45                    Berlin|Hamburg|Cologne   \n",
       "46           Pittsburgh|Detroit|Philadelphia   \n",
       "47               Asheville|Charlotte|Raleigh   \n",
       "48                   Portland|Online|Seattle   \n",
       "49                                    Denver   \n",
       "50                            Salt Lake City   \n",
       "51             Columbus|Cleveland|Cincinnati   \n",
       "52                                     Miami   \n",
       "53                                Wilmington   \n",
       "\n",
       "                                          description  \n",
       "0   Founded in 2015, <Academia de Código_> offers ...  \n",
       "1   Actualize is a 12-week software development bo...  \n",
       "2   App Academy offers immersive web development c...  \n",
       "3   Bottega offers part-time and full-time tech bo...  \n",
       "4   BrainStation offers full-time and part-time co...  \n",
       "5   Claim Academy is a 3-month developer coding an...  \n",
       "6   Code Fellows offers full and part-time softwar...  \n",
       "7   Code Platoon is a non-profit coding bootcamp l...  \n",
       "8   Coder Academy is an accredited Australian codi...  \n",
       "9   Coder Foundry is a North Carolina coding bootc...  \n",
       "10  Codesmith offers a full-time, 12-week full sta...  \n",
       "11  Coding Dojo is a unique coding bootcamp that t...  \n",
       "12  Coding Temple offers 10-week, full-stack codin...  \n",
       "13  Craft Academy offers two, 12-week bootcamps ba...  \n",
       "14  devCodeCamp delivers a choice of programs focu...  \n",
       "15  Devmountain is a technology school that offers...  \n",
       "16  DevPoint Labs teaches 11-week full-time and 11...  \n",
       "17  DigitalCrafts is an online and on-site school ...  \n",
       "18  Eleven Fifty Academy is a non-profit coding an...  \n",
       "19  Epicodus is a coding bootcamp offering part- a...  \n",
       "20  Flatiron School offers immersive on-campus and...  \n",
       "21  Fullstack Academy offers full-time and part-ti...  \n",
       "22  General Assembly offers short and long courses...  \n",
       "23  Georgia Tech Boot Camps offer 24-week, part-ti...  \n",
       "24  Hackbright Academy is a software engineering s...  \n",
       "25  Founded in 2012, Hack Reactor is a 12-week imm...  \n",
       "26  Hacktiv8 is a Full Stack JavaScript bootcamp i...  \n",
       "27  Holberton School is a two-year software engine...  \n",
       "28  Ironhack offers full-time and part-time bootca...  \n",
       "29  Journey Education partners with universities t...  \n",
       "30  Founded in 2012 as HackerYou, Juno College of ...  \n",
       "31  Kenzie Academy is a college alternative that o...  \n",
       "32  Launch Academy is a full-time, 18-week program...  \n",
       "33  LearningFuze offers a full immersion, 12-week ...  \n",
       "34  Le Wagon offers 9-week full-time and 24-week p...  \n",
       "35  Lighthouse Labs is a Canadian bootcamp that te...  \n",
       "36  Makers Academy is a highly selective 4-month, ...  \n",
       "37  Prime Digital Academy offers an intensive, 20-...  \n",
       "38  Redwood Code Academy offers 12-week full-time,...  \n",
       "39  Rithm School offers a full-time, 16-week, full...  \n",
       "40  Rutgers Bootcamps offer 12-week, full-time and...  \n",
       "41  Sabio is a developer community offering 12-wee...  \n",
       "42  Skill Distillery is an intensive, 16-week Java...  \n",
       "43  Skylab Coders Academy in Barcelona, Spain, off...  \n",
       "44  The Software Guild offers immersive full-time,...  \n",
       "45  SPICED Academy offers full-time, 12-week codin...  \n",
       "46  Tech Elevator offers a full-time, 14-week codi...  \n",
       "47  Tech Talent South offers full and part-time pr...  \n",
       "48  The Tech Academy offers 5 full-time and part-t...  \n",
       "49  Turing School of Software & Design is a 7-mont...  \n",
       "50  V School is a technology school in Provo and S...  \n",
       "51  We Can Code IT is a full-stack software develo...  \n",
       "52  Wyncode offers full-time and part-time full st...  \n",
       "53  Zip Code Wilmington offers two full-time, 12-w...  "
      ]
     },
     "execution_count": 66,
     "metadata": {},
     "output_type": "execute_result"
    }
   ],
   "source": [
    "df"
   ]
  },
  {
   "cell_type": "markdown",
   "metadata": {},
   "source": [
    "now we can inspect the data further... or add them to a SQL database, maybe also in an automated fashion, so that we let's say scrape these data scripted every day once, and every row gets a timestamp, so that I can track the ranking of schools over time...\n",
    "\n",
    "or just do some inspections... visuals"
   ]
  },
  {
   "cell_type": "code",
   "execution_count": 67,
   "metadata": {},
   "outputs": [
    {
     "data": {
      "image/png": "[encoded data removed]",
      "text/plain": [
       "<Figure size 432x288 with 1 Axes>"
      ]
     },
     "metadata": {
      "needs_background": "light"
     },
     "output_type": "display_data"
    },
    {
     "data": {
      "image/png": "[encoded data removed]",
      "text/plain": [
       "<Figure size 432x288 with 1 Axes>"
      ]
     },
     "metadata": {
      "needs_background": "light"
     },
     "output_type": "display_data"
    },
    {
     "data": {
      "image/png": "[encoded data removed]",
      "text/plain": [
       "<Figure size 432x288 with 1 Axes>"
      ]
     },
     "metadata": {
      "needs_background": "light"
     },
     "output_type": "display_data"
    }
   ],
   "source": [
    "import seaborn as sns\n",
    "import matplotlib.pyplot as plt\n",
    "for col in df.drop(columns=['rank','name','locations','description'],\n",
    "                   axis=1).columns:\n",
    "    fig, ax = plt.subplots()\n",
    "    sns.histplot(data=df, x=col, ax=ax)"
   ]
  },
  {
   "cell_type": "markdown",
   "metadata": {},
   "source": [
    "# Scrape a Wikipedia page"
   ]
  },
  {
   "cell_type": "markdown",
   "metadata": {},
   "source": [
    "We're trying to get this: https://en.wikipedia.org/wiki/List_of_threatened_sharks\n",
    "\n",
    "Easy, we don't need to scrape for most wikipedia pages, because their tables contain relatively smooth html"
   ]
  },
  {
   "cell_type": "code",
   "execution_count": 68,
   "metadata": {},
   "outputs": [],
   "source": [
    "list_of_dfs = pd.read_html(\"https://en.wikipedia.org/wiki/List_of_threatened_sharks\")"
   ]
  },
  {
   "cell_type": "code",
   "execution_count": 69,
   "metadata": {},
   "outputs": [
    {
     "data": {
      "text/html": [
       "<div>\n",
       "<style scoped>\n",
       "    .dataframe tbody tr th:only-of-type {\n",
       "        vertical-align: middle;\n",
       "    }\n",
       "\n",
       "    .dataframe tbody tr th {\n",
       "        vertical-align: top;\n",
       "    }\n",
       "\n",
       "    .dataframe thead th {\n",
       "        text-align: right;\n",
       "    }\n",
       "</style>\n",
       "<table border=\"1\" class=\"dataframe\">\n",
       "  <thead>\n",
       "    <tr style=\"text-align: right;\">\n",
       "      <th></th>\n",
       "      <th>Order</th>\n",
       "      <th>Image</th>\n",
       "      <th>Scientific name</th>\n",
       "      <th>Common name</th>\n",
       "      <th>Population trend</th>\n",
       "      <th>IUCN status</th>\n",
       "      <th>FishBase</th>\n",
       "      <th>FAO</th>\n",
       "      <th>CITESAppendix[24]</th>\n",
       "    </tr>\n",
       "  </thead>\n",
       "  <tbody>\n",
       "    <tr>\n",
       "      <th>0</th>\n",
       "      <td>Mackerelshark</td>\n",
       "      <td>NaN</td>\n",
       "      <td>Alopias pelagicus</td>\n",
       "      <td>Pelagic thresher</td>\n",
       "      <td>decreasing</td>\n",
       "      <td>Vulnerable[29]</td>\n",
       "      <td>[30]</td>\n",
       "      <td>[31]</td>\n",
       "      <td>NaN</td>\n",
       "    </tr>\n",
       "    <tr>\n",
       "      <th>1</th>\n",
       "      <td>Mackerelshark</td>\n",
       "      <td>NaN</td>\n",
       "      <td>Alopias superciliosus</td>\n",
       "      <td>Bigeye thresher shark</td>\n",
       "      <td>decreasing</td>\n",
       "      <td>Vulnerable[32]</td>\n",
       "      <td>[33]</td>\n",
       "      <td>[34]</td>\n",
       "      <td>NaN</td>\n",
       "    </tr>\n",
       "    <tr>\n",
       "      <th>2</th>\n",
       "      <td>Mackerelshark</td>\n",
       "      <td>NaN</td>\n",
       "      <td>Alopias vulpinus</td>\n",
       "      <td>Common thresher</td>\n",
       "      <td>decreasing</td>\n",
       "      <td>Vulnerable[35]</td>\n",
       "      <td>[36]</td>\n",
       "      <td>[37]</td>\n",
       "      <td>NaN</td>\n",
       "    </tr>\n",
       "    <tr>\n",
       "      <th>3</th>\n",
       "      <td>Groundshark</td>\n",
       "      <td>NaN</td>\n",
       "      <td>Atelomycterus baliensis</td>\n",
       "      <td>Bali catshark</td>\n",
       "      <td>unknown</td>\n",
       "      <td>Vulnerable[38]</td>\n",
       "      <td>[39]</td>\n",
       "      <td>NaN</td>\n",
       "      <td>NaN</td>\n",
       "    </tr>\n",
       "    <tr>\n",
       "      <th>4</th>\n",
       "      <td>Groundshark</td>\n",
       "      <td>NaN</td>\n",
       "      <td>Aulohalaelurus kanakorum</td>\n",
       "      <td>New Caledonia catshark</td>\n",
       "      <td>unknown</td>\n",
       "      <td>Vulnerable[40]</td>\n",
       "      <td>[41]</td>\n",
       "      <td>NaN</td>\n",
       "      <td>NaN</td>\n",
       "    </tr>\n",
       "    <tr>\n",
       "      <th>...</th>\n",
       "      <td>...</td>\n",
       "      <td>...</td>\n",
       "      <td>...</td>\n",
       "      <td>...</td>\n",
       "      <td>...</td>\n",
       "      <td>...</td>\n",
       "      <td>...</td>\n",
       "      <td>...</td>\n",
       "      <td>...</td>\n",
       "    </tr>\n",
       "    <tr>\n",
       "      <th>68</th>\n",
       "      <td>Angel shark</td>\n",
       "      <td>NaN</td>\n",
       "      <td>Squatina squatina</td>\n",
       "      <td>Angel shark</td>\n",
       "      <td>decreasing</td>\n",
       "      <td>Critically endangered[196]</td>\n",
       "      <td>[197]</td>\n",
       "      <td>[198]</td>\n",
       "      <td>NaN</td>\n",
       "    </tr>\n",
       "    <tr>\n",
       "      <th>69</th>\n",
       "      <td>Angel shark</td>\n",
       "      <td>NaN</td>\n",
       "      <td>Squatina tergocellatoides</td>\n",
       "      <td>Ocellated angelshark</td>\n",
       "      <td>unknown</td>\n",
       "      <td>Vulnerable[199]</td>\n",
       "      <td>[200]</td>\n",
       "      <td>[201]</td>\n",
       "      <td>NaN</td>\n",
       "    </tr>\n",
       "    <tr>\n",
       "      <th>70</th>\n",
       "      <td>Carpet shark</td>\n",
       "      <td>NaN</td>\n",
       "      <td>Stegostoma fasciatum</td>\n",
       "      <td>Zebra shark</td>\n",
       "      <td>decreasing</td>\n",
       "      <td>Vulnerable[202]</td>\n",
       "      <td>[203]</td>\n",
       "      <td>[204]</td>\n",
       "      <td>NaN</td>\n",
       "    </tr>\n",
       "    <tr>\n",
       "      <th>71</th>\n",
       "      <td>Groundshark</td>\n",
       "      <td>NaN</td>\n",
       "      <td>Triakis acutipinna</td>\n",
       "      <td>Sharpfin houndshark</td>\n",
       "      <td>decreasing</td>\n",
       "      <td>Endangered[205]</td>\n",
       "      <td>[206]</td>\n",
       "      <td>NaN</td>\n",
       "      <td>NaN</td>\n",
       "    </tr>\n",
       "    <tr>\n",
       "      <th>72</th>\n",
       "      <td>Groundshark</td>\n",
       "      <td>NaN</td>\n",
       "      <td>Triakis maculata</td>\n",
       "      <td>Spotted houndshark</td>\n",
       "      <td>decreasing</td>\n",
       "      <td>Vulnerable[207]</td>\n",
       "      <td>[208]</td>\n",
       "      <td>NaN</td>\n",
       "      <td>NaN</td>\n",
       "    </tr>\n",
       "  </tbody>\n",
       "</table>\n",
       "<p>73 rows × 9 columns</p>\n",
       "</div>"
      ],
      "text/plain": [
       "            Order  Image            Scientific name             Common name  \\\n",
       "0   Mackerelshark    NaN          Alopias pelagicus        Pelagic thresher   \n",
       "1   Mackerelshark    NaN      Alopias superciliosus   Bigeye thresher shark   \n",
       "2   Mackerelshark    NaN           Alopias vulpinus         Common thresher   \n",
       "3     Groundshark    NaN    Atelomycterus baliensis           Bali catshark   \n",
       "4     Groundshark    NaN   Aulohalaelurus kanakorum  New Caledonia catshark   \n",
       "..            ...    ...                        ...                     ...   \n",
       "68    Angel shark    NaN          Squatina squatina             Angel shark   \n",
       "69    Angel shark    NaN  Squatina tergocellatoides    Ocellated angelshark   \n",
       "70   Carpet shark    NaN       Stegostoma fasciatum             Zebra shark   \n",
       "71    Groundshark    NaN         Triakis acutipinna     Sharpfin houndshark   \n",
       "72    Groundshark    NaN           Triakis maculata      Spotted houndshark   \n",
       "\n",
       "   Population trend                 IUCN status FishBase    FAO  \\\n",
       "0        decreasing              Vulnerable[29]     [30]   [31]   \n",
       "1        decreasing              Vulnerable[32]     [33]   [34]   \n",
       "2        decreasing              Vulnerable[35]     [36]   [37]   \n",
       "3           unknown              Vulnerable[38]     [39]    NaN   \n",
       "4           unknown              Vulnerable[40]     [41]    NaN   \n",
       "..              ...                         ...      ...    ...   \n",
       "68       decreasing  Critically endangered[196]    [197]  [198]   \n",
       "69          unknown             Vulnerable[199]    [200]  [201]   \n",
       "70       decreasing             Vulnerable[202]    [203]  [204]   \n",
       "71       decreasing             Endangered[205]    [206]    NaN   \n",
       "72       decreasing             Vulnerable[207]    [208]    NaN   \n",
       "\n",
       "   CITESAppendix[24]  \n",
       "0                NaN  \n",
       "1                NaN  \n",
       "2                NaN  \n",
       "3                NaN  \n",
       "4                NaN  \n",
       "..               ...  \n",
       "68               NaN  \n",
       "69               NaN  \n",
       "70               NaN  \n",
       "71               NaN  \n",
       "72               NaN  \n",
       "\n",
       "[73 rows x 9 columns]"
      ]
     },
     "execution_count": 69,
     "metadata": {},
     "output_type": "execute_result"
    }
   ],
   "source": [
    "list_of_dfs[0]"
   ]
  },
  {
   "cell_type": "markdown",
   "metadata": {},
   "source": [
    "### df of all the US counties"
   ]
  },
  {
   "cell_type": "code",
   "execution_count": 70,
   "metadata": {},
   "outputs": [],
   "source": [
    "list_of_lists = pd.read_html(\"https://en.wikipedia.org/wiki/List_of_United_States_counties_and_county_equivalents\")"
   ]
  },
  {
   "cell_type": "code",
   "execution_count": 71,
   "metadata": {},
   "outputs": [],
   "source": [
    "df_counties = list_of_lists[3]"
   ]
  },
  {
   "cell_type": "markdown",
   "metadata": {},
   "source": [
    "Let's quickly visualize the population in a histogram"
   ]
  },
  {
   "cell_type": "code",
   "execution_count": 72,
   "metadata": {},
   "outputs": [],
   "source": [
    "import numpy as np\n",
    "df_counties['log pop'] = df_counties['Population (2019 estimate)'].apply(lambda x:np.log(x) if x !=0 else 0)"
   ]
  },
  {
   "cell_type": "code",
   "execution_count": 73,
   "metadata": {},
   "outputs": [
    {
     "data": {
      "text/plain": [
       "Text(0, 0.5, 'Count')"
      ]
     },
     "execution_count": 73,
     "metadata": {},
     "output_type": "execute_result"
    },
    {
     "data": {
      "image/png": "[encoded data removed]",
      "text/plain": [
       "<Figure size 432x288 with 1 Axes>"
      ]
     },
     "metadata": {
      "needs_background": "light"
     },
     "output_type": "display_data"
    }
   ],
   "source": [
    "df_counties['log pop'].hist(bins=100)\n",
    "plt.xlabel('log(population)')\n",
    "plt.ylabel('Count')"
   ]
  },
  {
   "cell_type": "markdown",
   "metadata": {},
   "source": [
    "# Scraping US Congress"
   ]
  },
  {
   "cell_type": "markdown",
   "metadata": {},
   "source": [
    "Idea: Imagine you're working for a US company whose product is data science / data analytics services. There's rumors in the press, that Congress is planning regulations on the data science industry. The policy department approaches you with the question: \"can you find out the representatives who have press releases about **data** and in a second step maybe have a NLP algorithm run on the press releases to determine the overall mood on the topic\""
   ]
  },
  {
   "cell_type": "markdown",
   "metadata": {},
   "source": [
    "url = \"https://www.house.gov/representatives\""
   ]
  },
  {
   "cell_type": "code",
   "execution_count": 74,
   "metadata": {},
   "outputs": [],
   "source": [
    "from bs4 import BeautifulSoup\n",
    "import requests"
   ]
  },
  {
   "cell_type": "code",
   "execution_count": 75,
   "metadata": {},
   "outputs": [],
   "source": [
    "text = requests.get(url).text\n",
    "soup = BeautifulSoup(text, parser=\"html5lib\")"
   ]
  },
  {
   "cell_type": "markdown",
   "metadata": {},
   "source": [
    "Let's create from that a soup with all the hyperlinks"
   ]
  },
  {
   "cell_type": "code",
   "execution_count": 76,
   "metadata": {},
   "outputs": [],
   "source": [
    "all_urls = [a['href'] for a in soup('a') if a.has_attr('href')]   #soup('a') is short for soup.find_all('a')"
   ]
  },
  {
   "cell_type": "code",
   "execution_count": 77,
   "metadata": {},
   "outputs": [
    {
     "data": {
      "text/plain": [
       "611"
      ]
     },
     "execution_count": 77,
     "metadata": {},
     "output_type": "execute_result"
    }
   ],
   "source": [
    "len(all_urls)"
   ]
  },
  {
   "cell_type": "markdown",
   "metadata": {},
   "source": [
    "Way to many, check https://en.wikipedia.org/wiki/United_States_Congress. Currently it's at 535 voting members"
   ]
  },
  {
   "cell_type": "code",
   "execution_count": null,
   "metadata": {},
   "outputs": [],
   "source": [
    "all_urls"
   ]
  },
  {
   "cell_type": "markdown",
   "metadata": {},
   "source": [
    "We only want those with the format\n",
    "* `https://<name>.house.gov` or\n",
    "* `http://<name>.house.gov`\n",
    "\n",
    "How do we do that? **REGEX**!"
   ]
  },
  {
   "cell_type": "code",
   "execution_count": 79,
   "metadata": {},
   "outputs": [],
   "source": [
    "# Must start with https:// or http://\n",
    "# Must end with  .house.gov or .house.gov/\n",
    "re_pattern = r\"^https?:\\/\\/.*\\.house\\.gov\\/?$\""
   ]
  },
  {
   "cell_type": "code",
   "execution_count": 80,
   "metadata": {},
   "outputs": [],
   "source": [
    "assert re.match(re_pattern, \"https://mcclintock.house.gov/\")\n",
    "assert re.match(re_pattern, \"http://mcclintock.house.gov/\")\n",
    "assert re.match(re_pattern, \"https://mcclintock.house.gov\")\n",
    "assert not re.match(re_pattern, \"mcclintock.house.gov\")"
   ]
  },
  {
   "cell_type": "markdown",
   "metadata": {},
   "source": [
    "And now, let's apply:"
   ]
  },
  {
   "cell_type": "code",
   "execution_count": 81,
   "metadata": {},
   "outputs": [],
   "source": [
    "good_urls = [url for url in all_urls if re.match(re_pattern, url)]"
   ]
  },
  {
   "cell_type": "code",
   "execution_count": 82,
   "metadata": {},
   "outputs": [
    {
     "data": {
      "text/plain": [
       "0"
      ]
     },
     "execution_count": 82,
     "metadata": {},
     "output_type": "execute_result"
    }
   ],
   "source": [
    "len(good_urls)"
   ]
  },
  {
   "cell_type": "markdown",
   "metadata": {},
   "source": [
    "Still some duplicates in there! How to remove duplicates in a list? Trick: Convert it to a set, and convert it back to a list."
   ]
  },
  {
   "cell_type": "code",
   "execution_count": 83,
   "metadata": {},
   "outputs": [],
   "source": [
    "better_urls = list(set(good_urls))"
   ]
  },
  {
   "cell_type": "code",
   "execution_count": 84,
   "metadata": {},
   "outputs": [
    {
     "data": {
      "text/plain": [
       "0"
      ]
     },
     "execution_count": 84,
     "metadata": {},
     "output_type": "execute_result"
    }
   ],
   "source": [
    "len(better_urls)"
   ]
  },
  {
   "cell_type": "markdown",
   "metadata": {},
   "source": [
    "Couple of empty seats, couple of representatives without websites... but that's good for now"
   ]
  },
  {
   "cell_type": "markdown",
   "metadata": {},
   "source": [
    "Now we want to check on every of these websites the press releases (end with `/media/press-releases`). So we need to create a soup of every of these websites.\n",
    "\n",
    "Let's first try one, proove the concept, then do it for all!"
   ]
  },
  {
   "cell_type": "code",
   "execution_count": 85,
   "metadata": {},
   "outputs": [],
   "source": [
    "html = requests.get('https://mcclintock.house.gov/').text\n",
    "soup = BeautifulSoup(html, \"html5lib\")\n",
    "\n",
    "# Use a set, because the scraped links might appear multiple times\n",
    "links = {a['href'] for a in soup('a') if \"press releases\" in a.text.lower()}"
   ]
  },
  {
   "cell_type": "code",
   "execution_count": 86,
   "metadata": {},
   "outputs": [
    {
     "data": {
      "text/plain": [
       "{'/newsroom/press-releases'}"
      ]
     },
     "execution_count": 86,
     "metadata": {},
     "output_type": "execute_result"
    }
   ],
   "source": [
    "links"
   ]
  },
  {
   "cell_type": "markdown",
   "metadata": {},
   "source": [
    "Now let's scrape all the press releases websites from all representatives"
   ]
  },
  {
   "cell_type": "code",
   "execution_count": 87,
   "metadata": {},
   "outputs": [],
   "source": [
    "from tqdm.notebook import tqdm"
   ]
  },
  {
   "cell_type": "code",
   "execution_count": 88,
   "metadata": {},
   "outputs": [
    {
     "data": {
      "application/vnd.jupyter.widget-view+json": {
       "model_id": "9cfa34d475124b46bad8106cce5b93cf",
       "version_major": 2,
       "version_minor": 0
      },
      "text/plain": [
       "HBox(children=(FloatProgress(value=1.0, bar_style='info', max=1.0), HTML(value='')))"
      ]
     },
     "metadata": {},
     "output_type": "display_data"
    },
    {
     "name": "stdout",
     "output_type": "stream",
     "text": [
      "\n"
     ]
    }
   ],
   "source": [
    "# from typing import Dict, Set\n",
    "# this is just a \"type hint\", better for documentation and didactical purpose\n",
    "# press_releases: Dict[str, Set[str]] = {}\n",
    "\n",
    "press_releases = {}\n",
    "\n",
    "for house_url in tqdm(better_urls):\n",
    "    html = requests.get(house_url).text\n",
    "    soup = BeautifulSoup(html, \"html5lib\")\n",
    "    # pr link from that one member of congress\n",
    "    pr_links = {a['href'] for a in soup('a') if \"press releases\" in a.text.lower()}\n",
    "    print(f\"{house_url} : {pr_links}\")\n",
    "    \n",
    "    # and store all this in a dictionary\n",
    "    press_releases[house_url] = pr_links\n",
    "    "
   ]
  },
  {
   "cell_type": "markdown",
   "metadata": {},
   "source": [
    "**Remember what we're are doing here**\n",
    "\n",
    "We wanted to inspect all the press releases, that can be found under these links, if they mention something about \"data\".\n",
    "\n",
    "We're aiming for the snippets / abstracts of every press release. They're in a `<p>` tag, so we'll use that as our first attempt:"
   ]
  },
  {
   "cell_type": "code",
   "execution_count": 89,
   "metadata": {},
   "outputs": [
    {
     "data": {
      "text/plain": [
       "['Today, Georgia Farm Bureau recognized U.S. Representative David Scott (GA-13) for receiving the Friend of Farm Bureau Award for the 116th Congress. The Friend of Farm Bureau Award is presented every two years to members of Congress who support federal legislation and regulatory initiatives to improve the lives of farmers and the rural communities they call home. “Congressman Scott has been a good ... Read more »',\n",
       " 'Today, Congressman David Scott, senior Member of the U.S. House of Representatives Committee on Agriculture issued the following statement announcing he is seeking the Chairmanship of the Committee. Congressman Scott is chairman of the House Agriculture Subcommittee on Commodity Exchanges, Energy, and Credit. \"I am proud to announce that I am seeking the Chairmanship of the U.S. House of Represent... Read more »',\n",
       " 'This week, Representative David Scott (GA-13), along with Reps. Sanford Bishop (GA-02), Hank Johnson (GA-04) and Lucy McBath (GA-06), sent a letter to the Georgia Department of Labor (GDOL) Commissioner urging the agency to resolve the significant backlog of unemployment benefits claims for Georgia workers. Due to the COVID-19 pandemic, unemployment rates hit levels not seen since the Great Depres... Read more »',\n",
       " 'Today, Congressman David Scott (GA-13) announced that he has introduced H.R. 8620, legislation allowing small business owners to make needed technology improvements under the Paycheck Protection Program (PPP). The addition of software and cloud computing upgrades to the eligible uses of PPP funds will allow small businesses to transition to curbside delivery, online ordering, and contactless payme... Read more »',\n",
       " 'Congressman David Scott (GA-13) and House Democrats voted to pass the updated HEROES Act, addressing urgent COVID-19 public health and economic relief needs that have developed since the House passed an earlier version in May. “Tonight, I voted to deliver critical aid immediately to the American people,” said Rep. Scott. “Challenges stemming from the COVID-19 pandemic continue to persist and evolv... Read more »',\n",
       " \" Today, Congressman David Scott (GA-13) announced that the U.S. Department of Housing and Urban Development (HUD) has awarded $7,947,332 in federal COVID-19 relief grants to counties across the Thirteenth District. The grants were allocated under the Coronavirus Aid, Relief and Economic Security (CARES) Act's $5 billion supplemental funding for the Community Development Block Grant Program. This f... Read more »\",\n",
       " 'Today, Congressman David Scott (GA-13) announced that he will provide free drive-thru COVID-19 testing and food distribution on Saturday, September 19th, 9:00 am to 3:00 pm, at the Word of Faith Cathedral in Cobb County. “Our state is reeling from the severe health and economic crisis caused by the coronavirus pandemic,” said Congressman Scott. “Robust testing is vital to flattening the spread of ... Read more »',\n",
       " 'Congressman David Scott (GA-13) released the following statement today in recognition of Labor Day: “On Labor Day, we recognize the social and economic achievements of the American workforce throughout our nation’s history. Although this Labor Day may be far from normal, the ideals of our nation and our workforce remain sound. “From union laborers to essential workers, we honor the contributions o... Read more »',\n",
       " 'Today, Congressman David Scott announced his office is accepting applications from Thirteenth District students seeking a congressional nomination for military academies. A congressional nomination is required for students to attend the U.S. Air Force Academy, U.S. Military Academy at West Point, U.S. Naval Academy or U.S. Merchant Marine Academy. “Each year I have the honor of nominating exceptio... Read more »',\n",
       " 'This week, Representatives Lucy McBath (GA-06) and David Scott (GA-13) released the response they received from Atlanta VA Medical Center Director Ann Brown regarding their inquiry into the ongoing development of a new VA Multi-Specialty Clinic in Cobb County. In July, after reports that certain VA clinic projects were delayed by an average of two years, McBath and Scott sent a letter to Director ... Read more »',\n",
       " 'Get the latest information on Congressman Scott’s sponsored jobs fair in the 13th District',\n",
       " 'Get the latest information on Congressman Scott’s sponsored health fair in the 13th District']"
      ]
     },
     "execution_count": 89,
     "metadata": {},
     "output_type": "execute_result"
    }
   ],
   "source": [
    "text = requests.get(\"https://davidscott.house.gov/News/DocumentQuery.aspx?DocumentTypeID=377\").text\n",
    "soup = BeautifulSoup(text, \"html5lib\")\n",
    "paragraphs = [p.get_text() for p in soup('p')]\n",
    "paragraphs"
   ]
  },
  {
   "cell_type": "code",
   "execution_count": 90,
   "metadata": {},
   "outputs": [],
   "source": [
    "def paragraph_mentions(text, keyword):\n",
    "    \"\"\"\n",
    "    returns: True if <p> inside the text mentions the {keyword}\n",
    "    \"\"\"\n",
    "    soup = BeautifulSoup(text, \"html5lib\")\n",
    "    paragraphs = [p.get_text() for p in soup('p')]\n",
    "    \n",
    "    return any(keyword.lower() in paragraph.lower() for paragraph in paragraphs)"
   ]
  },
  {
   "cell_type": "code",
   "execution_count": 91,
   "metadata": {},
   "outputs": [],
   "source": [
    "# lets test that function\n",
    "text = \"\"\"<body><h1>Jamil</h1><p>Caitlin</p>\"\"\"\n",
    "\n",
    "assert paragraph_mentions(text, \"Caitlin\")   # inside <p>\n",
    "assert not paragraph_mentions(text, \"Jamil\")  # not inside <p>"
   ]
  },
  {
   "cell_type": "markdown",
   "metadata": {},
   "source": [
    "So let's do it for all!"
   ]
  },
  {
   "cell_type": "code",
   "execution_count": 92,
   "metadata": {},
   "outputs": [
    {
     "data": {
      "application/vnd.jupyter.widget-view+json": {
       "model_id": "6e41b9dd8dbd4e3ba8c9ea4d63248852",
       "version_major": 2,
       "version_minor": 0
      },
      "text/plain": [
       "HBox(children=(FloatProgress(value=1.0, bar_style='info', max=1.0), HTML(value='')))"
      ]
     },
     "metadata": {},
     "output_type": "display_data"
    },
    {
     "name": "stdout",
     "output_type": "stream",
     "text": [
      "\n"
     ]
    }
   ],
   "source": [
    "for house_url, pr_links in tqdm(press_releases.items()):\n",
    "    for pr_link in pr_links:\n",
    "        url = f\"{house_url}/{pr_link}\"\n",
    "        text = requests.get(url).text\n",
    "        \n",
    "        if paragraph_mentions(text, 'data'):\n",
    "            print(f\"{house_url}{pr_link}\")\n",
    "            break   # done with this house url, go to next house url"
   ]
  },
  {
   "cell_type": "markdown",
   "metadata": {},
   "source": [
    "Or, wrap this in a function, which scrapes all the press releases for most members of congress, wether they've said something about a certain keyword...."
   ]
  },
  {
   "cell_type": "code",
   "execution_count": 93,
   "metadata": {},
   "outputs": [],
   "source": [
    "def what_is_mentioned_by_which_congressmember(press_releases, keyword):\n",
    "    url_list = []\n",
    "    for house_url, pr_links in tqdm(press_releases.items()):\n",
    "        for pr_link in pr_links:\n",
    "            url = f\"{house_url}/{pr_link}\"\n",
    "            text = requests.get(url).text\n",
    "        \n",
    "            if paragraph_mentions(text, 'data'):\n",
    "                url_list.append()\n",
    "                print(f\"{house_url}\")\n",
    "                break   # done with this house url, go to next house url"
   ]
  },
  {
   "cell_type": "markdown",
   "metadata": {},
   "source": [
    "# Further sources"
   ]
  },
  {
   "cell_type": "markdown",
   "metadata": {},
   "source": [
    "* Parsehub, scraping html with a GUI: https://www.parsehub.com/blog/html-scraping/\n",
    "* Wikipedia & datascience, working with the largest encyclopedia https://towardsdatascience.com/wikipedia-data-science-working-with-the-worlds-largest-encyclopedia-c08efbac5f5c"
   ]
  },
  {
   "cell_type": "code",
   "execution_count": null,
   "metadata": {},
   "outputs": [],
   "source": []
  }
 ],
 "metadata": {
  "kernelspec": {
   "display_name": "Python 3",
   "language": "python",
   "name": "python3"
  },
  "language_info": {
   "codemirror_mode": {
    "name": "ipython",
    "version": 3
   },
   "file_extension": ".py",
   "mimetype": "text/x-python",
   "name": "python",
   "nbconvert_exporter": "python",
   "pygments_lexer": "ipython3",
   "version": "3.8.5"
  }
 },
 "nbformat": 4,
 "nbformat_minor": 4
}
